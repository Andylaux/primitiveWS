{
 "metadata": {
  "name": "",
  "signature": "sha256:ad3cf49b707bc63fcce3fa036b14694e68f585a1e9982549a0e86327ad1d11d9"
 },
 "nbformat": 3,
 "nbformat_minor": 0,
 "worksheets": [
  {
   "cells": [
    {
     "cell_type": "code",
     "collapsed": false,
     "input": [
      "from cherry import Cherry\n",
      "from poppy.creatures import PoppyHumanoid"
     ],
     "language": "python",
     "metadata": {},
     "outputs": [],
     "prompt_number": 1
    },
    {
     "cell_type": "code",
     "collapsed": false,
     "input": [
      "cherry = Cherry()"
     ],
     "language": "python",
     "metadata": {},
     "outputs": [],
     "prompt_number": 2
    },
    {
     "cell_type": "code",
     "collapsed": false,
     "input": [
      "cherry.setup()"
     ],
     "language": "python",
     "metadata": {},
     "outputs": [],
     "prompt_number": 3
    },
    {
     "cell_type": "code",
     "collapsed": false,
     "input": [
      "{(p.name, p) for p in cherry.robot.primitives}"
     ],
     "language": "python",
     "metadata": {},
     "outputs": [
      {
       "metadata": {},
       "output_type": "pyout",
       "prompt_number": 5,
       "text": [
        "{('arms_copy_motion',\n",
        "  <poppy_humanoid.primitives.interaction.PuppetMaster at 0x574f410>),\n",
        " ('arms_turn_compliant',\n",
        "  <poppy_humanoid.primitives.interaction.ArmsTurnCompliant at 0x573be10>),\n",
        " ('dance_beat_motion',\n",
        "  <poppy_humanoid.primitives.dance.SimpleBodyBeatMotion at 0x5711330>),\n",
        " ('head_idle', <behavior.idle.HeadIdleMotion at 0x574fd50>),\n",
        " ('head_idle_motion',\n",
        "  <poppy_humanoid.primitives.idle.HeadIdleMotion at 0x5711bf0>),\n",
        " ('limit_torque', <poppy_humanoid.primitives.safe.LimitTorque at 0x5707eb0>),\n",
        " ('sit_position',\n",
        "  <poppy_humanoid.primitives.posture.SitPosition at 0x5707a50>),\n",
        " ('stand_position',\n",
        "  <poppy_humanoid.primitives.posture.StandPosition at 0x56ec530>),\n",
        " ('upper_body_idle', <behavior.idle.UpperBodyIdleMotion at 0x574f8f0>),\n",
        " ('upper_body_idle_motion',\n",
        "  <poppy_humanoid.primitives.idle.UpperBodyIdleMotion at 0x5711790>),\n",
        " ('yes_behave', <behavior.yes.YesBehave at 0x5779f30>),\n",
        " ('yes_behave_sinus', <behavior.yes.YesBehaveSinus at 0x578c550>)}"
       ]
      }
     ],
     "prompt_number": 5
    },
    {
     "cell_type": "code",
     "collapsed": false,
     "input": [
      "cherry.robot.head_idle.start()"
     ],
     "language": "python",
     "metadata": {},
     "outputs": [],
     "prompt_number": 9
    },
    {
     "cell_type": "code",
     "collapsed": false,
     "input": [
      "cherry.robot.yes_behave_sinus.stop()"
     ],
     "language": "python",
     "metadata": {},
     "outputs": [],
     "prompt_number": 10
    },
    {
     "cell_type": "code",
     "collapsed": false,
     "input": [
      "cherry.robot.head_y.present_position"
     ],
     "language": "python",
     "metadata": {},
     "outputs": [
      {
       "metadata": {},
       "output_type": "pyout",
       "prompt_number": 35,
       "text": [
        "-6.4"
       ]
      }
     ],
     "prompt_number": 35
    },
    {
     "cell_type": "code",
     "collapsed": false,
     "input": [
      "cherry.robot.active_primitives"
     ],
     "language": "python",
     "metadata": {},
     "outputs": [
      {
       "metadata": {},
       "output_type": "pyout",
       "prompt_number": 11,
       "text": [
        "[]"
       ]
      }
     ],
     "prompt_number": 11
    },
    {
     "cell_type": "code",
     "collapsed": false,
     "input": [],
     "language": "python",
     "metadata": {},
     "outputs": []
    }
   ],
   "metadata": {}
  }
 ]
}