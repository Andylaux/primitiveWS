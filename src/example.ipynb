{
 "metadata": {
  "name": "",
  "signature": "sha256:67099c4435890086e368929ccb451409abdccae7b34b009d32915489f2dd1186"
 },
 "nbformat": 3,
 "nbformat_minor": 0,
 "worksheets": [
  {
   "cells": [
    {
     "cell_type": "code",
     "collapsed": false,
     "input": [
      "from cherry import Cherry\n",
      "from poppy.creatures import PoppyHumanoid"
     ],
     "language": "python",
     "metadata": {},
     "outputs": [],
     "prompt_number": 1
    },
    {
     "cell_type": "code",
     "collapsed": false,
     "input": [
      "cherry = Cherry()"
     ],
     "language": "python",
     "metadata": {},
     "outputs": [],
     "prompt_number": 2
    },
    {
     "cell_type": "code",
     "collapsed": false,
     "input": [
      "cherry.setup()"
     ],
     "language": "python",
     "metadata": {},
     "outputs": [],
     "prompt_number": 3
    },
    {
     "cell_type": "code",
     "collapsed": false,
     "input": [
      "{(p.name, p) for p in cherry.robot.primitives}"
     ],
     "language": "python",
     "metadata": {},
     "outputs": [
      {
       "metadata": {},
       "output_type": "pyout",
       "prompt_number": 4,
       "text": [
        "{('arms_copy_motion',\n",
        "  <poppy_humanoid.primitives.interaction.PuppetMaster at 0x574c3f0>),\n",
        " ('arms_turn_compliant',\n",
        "  <poppy_humanoid.primitives.interaction.ArmsTurnCompliant at 0x5738df0>),\n",
        " ('dance_beat_motion',\n",
        "  <poppy_humanoid.primitives.dance.SimpleBodyBeatMotion at 0x570e310>),\n",
        " ('head_idle', <behavior.idle.HeadIdleMotion at 0x574ccf0>),\n",
        " ('head_idle_motion',\n",
        "  <poppy_humanoid.primitives.idle.HeadIdleMotion at 0x570ebd0>),\n",
        " ('limit_torque', <poppy_humanoid.primitives.safe.LimitTorque at 0x5703e90>),\n",
        " ('sit_position',\n",
        "  <poppy_humanoid.primitives.posture.SitPosition at 0x5703a30>),\n",
        " ('stand_position',\n",
        "  <poppy_humanoid.primitives.posture.StandPosition at 0x56eb470>),\n",
        " ('upper_body_idle', <behavior.idle.UpperBodyIdleMotion at 0x574c890>),\n",
        " ('upper_body_idle_motion',\n",
        "  <poppy_humanoid.primitives.idle.UpperBodyIdleMotion at 0x570e770>),\n",
        " ('yes_behave', <behavior.yes.YesBehave at 0x5776f10>)}"
       ]
      }
     ],
     "prompt_number": 4
    },
    {
     "cell_type": "code",
     "collapsed": false,
     "input": [
      "cherry.robot.head_idle.start()"
     ],
     "language": "python",
     "metadata": {},
     "outputs": [],
     "prompt_number": 9
    },
    {
     "cell_type": "code",
     "collapsed": false,
     "input": [
      "cherry.robot.yes_behave.start()"
     ],
     "language": "python",
     "metadata": {},
     "outputs": [],
     "prompt_number": 5
    },
    {
     "cell_type": "code",
     "collapsed": false,
     "input": [
      "cherry.robot.head_y.present_position"
     ],
     "language": "python",
     "metadata": {},
     "outputs": [
      {
       "metadata": {},
       "output_type": "pyout",
       "prompt_number": 35,
       "text": [
        "-6.4"
       ]
      }
     ],
     "prompt_number": 35
    },
    {
     "cell_type": "code",
     "collapsed": false,
     "input": [
      "cherry.robot.active_primitives"
     ],
     "language": "python",
     "metadata": {},
     "outputs": [
      {
       "metadata": {},
       "output_type": "pyout",
       "prompt_number": 11,
       "text": [
        "[]"
       ]
      }
     ],
     "prompt_number": 11
    },
    {
     "cell_type": "code",
     "collapsed": false,
     "input": [],
     "language": "python",
     "metadata": {},
     "outputs": []
    }
   ],
   "metadata": {}
  }
 ]
}