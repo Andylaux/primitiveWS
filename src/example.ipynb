{
 "metadata": {
  "name": "",
  "signature": "sha256:fc094e90ca639b434bacc4facbee5b62ed5b790cf644953584ccc846965e0882"
 },
 "nbformat": 3,
 "nbformat_minor": 0,
 "worksheets": [
  {
   "cells": [
    {
     "cell_type": "code",
     "collapsed": false,
     "input": [
      "from cherry import Cherry\n",
      "from poppy.creatures import PoppyHumanoid"
     ],
     "language": "python",
     "metadata": {},
     "outputs": [],
     "prompt_number": 1
    },
    {
     "cell_type": "code",
     "collapsed": false,
     "input": [
      "cherry = Cherry()"
     ],
     "language": "python",
     "metadata": {},
     "outputs": [],
     "prompt_number": 2
    },
    {
     "cell_type": "code",
     "collapsed": false,
     "input": [
      "cherry.setup()"
     ],
     "language": "python",
     "metadata": {},
     "outputs": [],
     "prompt_number": 3
    },
    {
     "cell_type": "code",
     "collapsed": false,
     "input": [
      "{(p.name, p) for p in cherry.robot.primitives}"
     ],
     "language": "python",
     "metadata": {},
     "outputs": [
      {
       "metadata": {},
       "output_type": "pyout",
       "prompt_number": 8,
       "text": [
        "{('arms_copy_motion',\n",
        "  <poppy_humanoid.primitives.interaction.PuppetMaster at 0x5733210>),\n",
        " ('arms_turn_compliant',\n",
        "  <poppy_humanoid.primitives.interaction.ArmsTurnCompliant at 0x5721c10>),\n",
        " ('dance_beat_motion',\n",
        "  <poppy_humanoid.primitives.dance.SimpleBodyBeatMotion at 0x56f5130>),\n",
        " ('head_idle', <behavior.idle.HeadIdleMotion at 0x5733b10>),\n",
        " ('head_idle_motion',\n",
        "  <poppy_humanoid.primitives.idle.HeadIdleMotion at 0x56f59f0>),\n",
        " ('limit_torque', <poppy_humanoid.primitives.safe.LimitTorque at 0x56eacb0>),\n",
        " ('sit_position',\n",
        "  <poppy_humanoid.primitives.posture.SitPosition at 0x56ea850>),\n",
        " ('stand_position',\n",
        "  <poppy_humanoid.primitives.posture.StandPosition at 0x56d2390>),\n",
        " ('upper_body_idle', <behavior.idle.UpperBodyIdleMotion at 0x56ea250>),\n",
        " ('upper_body_idle_motion',\n",
        "  <poppy_humanoid.primitives.idle.UpperBodyIdleMotion at 0x56f5590>)}"
       ]
      }
     ],
     "prompt_number": 8
    },
    {
     "cell_type": "code",
     "collapsed": false,
     "input": [
      "cherry.robot.head_idle.start()"
     ],
     "language": "python",
     "metadata": {},
     "outputs": [],
     "prompt_number": 9
    }
   ],
   "metadata": {}
  }
 ]
}