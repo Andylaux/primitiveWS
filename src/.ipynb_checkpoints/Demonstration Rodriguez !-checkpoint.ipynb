{
 "cells": [
  {
   "cell_type": "code",
   "execution_count": 2,
   "metadata": {
    "collapsed": true
   },
   "outputs": [],
   "source": [
    "import time\n",
    "from poppy.creatures import PoppyHumanoid\n",
    "from cherry import Cherry\n",
    "\n",
    "from pypot.primitive.move import MoveRecorder, Move, MovePlayer"
   ]
  },
  {
   "cell_type": "code",
   "execution_count": 3,
   "metadata": {
    "collapsed": false
   },
   "outputs": [
    {
     "name": "stdout",
     "output_type": "stream",
     "text": [
      "init camera\n",
      "init voice ok\n",
      "True\n",
      "init ok\n",
      "init ok\n"
     ]
    }
   ],
   "source": [
    "cherry = Cherry()\n",
    "cherry.setup()\n",
    "\n",
    "for m in cherry.robot.motors :\n",
    "    m.goal_position = 0.0\n",
    "    \n",
    "for m in cherry.robot.head :\n",
    "    m.compliant = False\n",
    "for m in cherry.robot.arms :\n",
    "    m.compliant = True\n",
    "\n",
    "cherry.robot.head_z.goal_position = 0.0\n",
    "cherry.robot.head_y.goal_position = 30.0\n",
    "\n"
   ]
  },
  {
   "cell_type": "code",
   "execution_count": null,
   "metadata": {
    "collapsed": false
   },
   "outputs": [],
   "source": [
    "fileName = \"../utils/moveRecord/step13.move\""
   ]
  },
  {
   "cell_type": "code",
   "execution_count": null,
   "metadata": {
    "collapsed": true
   },
   "outputs": [],
   "source": [
    "move_recorder = MoveRecorder(cherry.robot, 50, cherry.robot.motors)\n",
    "\n",
    "for m in cherry.robot.arms:\n",
    "    m.compliant = True\n",
    "\n",
    "cherry.robot.abs_z.compliant = True    \n",
    "    \n",
    "move_recorder.start()"
   ]
  },
  {
   "cell_type": "code",
   "execution_count": null,
   "metadata": {
    "collapsed": false
   },
   "outputs": [],
   "source": [
    "move_recorder.stop()\n",
    "with open(fileName, 'w') as f:\n",
    "    move_recorder.move.save(f)"
   ]
  },
  {
   "cell_type": "code",
   "execution_count": 4,
   "metadata": {
    "collapsed": false
   },
   "outputs": [
    {
     "ename": "NameError",
     "evalue": "name 'fileName' is not defined",
     "output_type": "error",
     "traceback": [
      "\u001b[1;31m---------------------------------------------------------------------------\u001b[0m",
      "\u001b[1;31mNameError\u001b[0m                                 Traceback (most recent call last)",
      "\u001b[1;32m<ipython-input-4-47f4fb8378c4>\u001b[0m in \u001b[0;36m<module>\u001b[1;34m()\u001b[0m\n\u001b[0;32m      1\u001b[0m \u001b[1;32mimport\u001b[0m \u001b[0mtime\u001b[0m\u001b[1;33m\u001b[0m\u001b[0m\n\u001b[0;32m      2\u001b[0m \u001b[1;33m\u001b[0m\u001b[0m\n\u001b[1;32m----> 3\u001b[1;33m \u001b[1;32mwith\u001b[0m \u001b[0mopen\u001b[0m\u001b[1;33m(\u001b[0m\u001b[0mfileName\u001b[0m\u001b[1;33m)\u001b[0m \u001b[1;32mas\u001b[0m \u001b[0mf\u001b[0m\u001b[1;33m:\u001b[0m\u001b[1;33m\u001b[0m\u001b[0m\n\u001b[0m\u001b[0;32m      4\u001b[0m     \u001b[0mm\u001b[0m \u001b[1;33m=\u001b[0m \u001b[0mMove\u001b[0m\u001b[1;33m.\u001b[0m\u001b[0mload\u001b[0m\u001b[1;33m(\u001b[0m\u001b[0mf\u001b[0m\u001b[1;33m)\u001b[0m\u001b[1;33m\u001b[0m\u001b[0m\n\u001b[0;32m      5\u001b[0m \u001b[1;33m\u001b[0m\u001b[0m\n",
      "\u001b[1;31mNameError\u001b[0m: name 'fileName' is not defined"
     ]
    }
   ],
   "source": [
    "import time\n",
    "\n",
    "with open(fileName) as f:\n",
    "    m = Move.load(f)\n",
    "\n",
    "cherry.robot.compliant = False\n",
    "\n",
    "move_player = MovePlayer(cherry.robot, m)\n",
    "move_player.start()"
   ]
  },
  {
   "cell_type": "code",
   "execution_count": null,
   "metadata": {
    "collapsed": true
   },
   "outputs": [],
   "source": [
    "for m in cherry.robot.arms :\n",
    "    m.compliant = True"
   ]
  },
  {
   "cell_type": "code",
   "execution_count": 5,
   "metadata": {
    "collapsed": false,
    "scrolled": true
   },
   "outputs": [
    {
     "name": "stdout",
     "output_type": "stream",
     "text": [
      "send: 'POST /process HTTP/1.1\\r\\nHost: 127.0.0.1:59125\\r\\nAccept-Encoding: identity\\r\\nContent-Length: 106\\r\\n\\r\\nVOICE=upmc-pierre&LOCALE=fr&INPUT_TYPE=TEXT&OUTPUT_TYPE=AUDIO&AUDIO=WAVE_FILE&INPUT_TEXT=Rodri+gue+aise%21'\n",
      "reply: 'HTTP/1.1 200 OK\\r\\n'\n",
      "header: Date: Thu, 17 Dec 2015 16:43:13 GMT\n",
      "header: Server: HttpComponents/1.1\n",
      "header: Content-Length: 30420\n",
      "header: Content-Type: audio/x-wav\n",
      "send: 'POST /process HTTP/1.1\\r\\nHost: 127.0.0.1:59125\\r\\nAccept-Encoding: identity\\r\\nContent-Length: 101\\r\\n\\r\\nVOICE=upmc-pierre&LOCALE=fr&INPUT_TYPE=TEXT&OUTPUT_TYPE=AUDIO&AUDIO=WAVE_FILE&INPUT_TEXT=P%C3%A8re%21'\n",
      "reply: 'HTTP/1.1 200 OK\\r\\n'\n",
      "header: Date: Thu, 17 Dec 2015 16:43:18 GMT\n",
      "header: Server: HttpComponents/1.1\n",
      "header: Content-Length: 14246\n",
      "header: Content-Type: audio/x-wav\n",
      "send: 'POST /process HTTP/1.1\\r\\nHost: 127.0.0.1:59125\\r\\nAccept-Encoding: identity\\r\\nContent-Length: 100\\r\\n\\r\\nVOICE=upmc-pierre&LOCALE=fr&INPUT_TYPE=TEXT&OUTPUT_TYPE=AUDIO&AUDIO=WAVE_FILE&INPUT_TEXT=Et+pisse%21'\n",
      "reply: 'HTTP/1.1 200 OK\\r\\n'\n",
      "header: Date: Thu, 17 Dec 2015 16:43:20 GMT\n",
      "header: Server: HttpComponents/1.1\n",
      "header: Content-Length: 22846\n",
      "header: Content-Type: audio/x-wav\n",
      "send: 'POST /process HTTP/1.1\\r\\nHost: 127.0.0.1:59125\\r\\nAccept-Encoding: identity\\r\\nContent-Length: 127\\r\\n\\r\\nVOICE=upmc-pierre&LOCALE=fr&INPUT_TYPE=TEXT&OUTPUT_TYPE=AUDIO&AUDIO=WAVE_FILE&INPUT_TEXT=Nous+sommes+techniciens+du+cin%C3%A9ma'\n",
      "reply: 'HTTP/1.1 200 OK\\r\\n'\n",
      "header: Date: Thu, 17 Dec 2015 16:43:23 GMT\n",
      "header: Server: HttpComponents/1.1\n",
      "header: Content-Length: 64884\n",
      "header: Content-Type: audio/x-wav\n",
      "send: 'POST /process HTTP/1.1\\r\\nHost: 127.0.0.1:59125\\r\\nAccept-Encoding: identity\\r\\nContent-Length: 116\\r\\n\\r\\nVOICE=upmc-pierre&LOCALE=fr&INPUT_TYPE=TEXT&OUTPUT_TYPE=AUDIO&AUDIO=WAVE_FILE&INPUT_TEXT=Depuis+plus.+de+150+ans+%21'\n",
      "reply: 'HTTP/1.1 200 OK\\r\\n'\n",
      "header: Date: Thu, 17 Dec 2015 16:43:26 GMT\n",
      "header: Server: HttpComponents/1.1\n",
      "header: Content-Length: 72198\n",
      "header: Content-Type: audio/x-wav\n",
      "send: 'POST /process HTTP/1.1\\r\\nHost: 127.0.0.1:59125\\r\\nAccept-Encoding: identity\\r\\nContent-Length: 153\\r\\n\\r\\nVOICE=upmc-pierre&LOCALE=fr&INPUT_TYPE=TEXT&OUTPUT_TYPE=AUDIO&AUDIO=WAVE_FILE&INPUT_TEXT=Vous+d%C3%A9sirez+r%C3%A9alis%C3%A9+un+film+de+type+anglossaxon.'\n",
      "reply: 'HTTP/1.1 200 OK\\r\\n'\n",
      "header: Date: Thu, 17 Dec 2015 16:43:29 GMT\n",
      "header: Server: HttpComponents/1.1\n",
      "header: Content-Length: 97762\n",
      "header: Content-Type: audio/x-wav\n",
      "send: 'POST /process HTTP/1.1\\r\\nHost: 127.0.0.1:59125\\r\\nAccept-Encoding: identity\\r\\nContent-Length: 110\\r\\n\\r\\nVOICE=upmc-pierre&LOCALE=fr&INPUT_TYPE=TEXT&OUTPUT_TYPE=AUDIO&AUDIO=WAVE_FILE&INPUT_TEXT=Soit.+De+type+cowboy.'\n",
      "reply: 'HTTP/1.1 200 OK\\r\\n'\n",
      "header: Date: Thu, 17 Dec 2015 16:43:32 GMT\n",
      "header: Server: HttpComponents/1.1\n",
      "header: Content-Length: 59112\n",
      "header: Content-Type: audio/x-wav\n",
      "send: 'POST /process HTTP/1.1\\r\\nHost: 127.0.0.1:59125\\r\\nAccept-Encoding: identity\\r\\nContent-Length: 122\\r\\n\\r\\nVOICE=upmc-pierre&LOCALE=fr&INPUT_TYPE=TEXT&OUTPUT_TYPE=AUDIO&AUDIO=WAVE_FILE&INPUT_TEXT=Soit.+De+type+mission+impossible.'\n",
      "reply: 'HTTP/1.1 200 OK\\r\\n'\n",
      "header: Date: Thu, 17 Dec 2015 16:43:34 GMT\n",
      "header: Server: HttpComponents/1.1\n",
      "header: Content-Length: 79476\n",
      "header: Content-Type: audio/x-wav\n",
      "send: 'POST /process HTTP/1.1\\r\\nHost: 127.0.0.1:59125\\r\\nAccept-Encoding: identity\\r\\nContent-Length: 112\\r\\n\\r\\nVOICE=upmc-pierre&LOCALE=fr&INPUT_TYPE=TEXT&OUTPUT_TYPE=AUDIO&AUDIO=WAVE_FILE&INPUT_TEXT=Soit.+De+type+Nintendo.'\n",
      "reply: 'HTTP/1.1 200 OK\\r\\n'\n",
      "header: Date: Thu, 17 Dec 2015 16:43:37 GMT\n",
      "header: Server: HttpComponents/1.1\n",
      "header: Content-Length: 63026\n",
      "header: Content-Type: audio/x-wav\n",
      "send: 'POST /process HTTP/1.1\\r\\nHost: 127.0.0.1:59125\\r\\nAccept-Encoding: identity\\r\\nContent-Length: 117\\r\\n\\r\\nVOICE=upmc-pierre&LOCALE=fr&INPUT_TYPE=TEXT&OUTPUT_TYPE=AUDIO&AUDIO=WAVE_FILE&INPUT_TEXT=ite+ize+possibeule.+Bicause.'\n",
      "reply: 'HTTP/1.1 200 OK\\r\\n'\n",
      "header: Date: Thu, 17 Dec 2015 16:43:41 GMT\n",
      "header: Server: HttpComponents/1.1\n",
      "header: Content-Length: 59590\n",
      "header: Content-Type: audio/x-wav\n",
      "send: 'POST /process HTTP/1.1\\r\\nHost: 127.0.0.1:59125\\r\\nAccept-Encoding: identity\\r\\nContent-Length: 106\\r\\n\\r\\nVOICE=upmc-pierre&LOCALE=fr&INPUT_TYPE=TEXT&OUTPUT_TYPE=AUDIO&AUDIO=WAVE_FILE&INPUT_TEXT=Rodri+gue+aise%21'\n"
     ]
    }
   ],
   "source": [
    "import time\n",
    "for m in cherry.robot.motors:\n",
    "    m.moving_speed = 50\n",
    "\n",
    "\n",
    "with open(\"../utils/moveRecord/step1.move\") as f:\n",
    "    m = Move.load(f)\n",
    "cherry.robot.compliant = False\n",
    "move_player = MovePlayer(cherry.robot, m)\n",
    "move_player.start()\n",
    "\n",
    "time.sleep(4)\n",
    "cherry.robot.say_sentence_local.start(\"Rodri gue aise!\")\n",
    "\n",
    "with open(\"../utils/moveRecord/step2.move\") as f:\n",
    "    m = Move.load(f)\n",
    "move_player = MovePlayer(cherry.robot, m)\n",
    "move_player.start()\n",
    "\n",
    "#time.sleep(1)\n",
    "\n",
    "with open(\"../utils/moveRecord/step3.move\") as f:\n",
    "    m = Move.load(f)\n",
    "move_player = MovePlayer(cherry.robot, m)\n",
    "move_player.start()\n",
    "\n",
    "time.sleep(2.5)\n",
    "cherry.robot.say_sentence_local.start(\"Père!\")\n",
    "\n",
    "\n",
    "with open(\"../utils/moveRecord/step4.move\") as f:\n",
    "    m = Move.load(f)\n",
    "move_player = MovePlayer(cherry.robot, m)\n",
    "move_player.start()\n",
    "\n",
    "time.sleep(2.5)\n",
    "cherry.robot.say_sentence_local.start(\"Et pisse!\")\n",
    "\n",
    "with open(\"../utils/moveRecord/step5.move\") as f:\n",
    "    m = Move.load(f)\n",
    "move_player = MovePlayer(cherry.robot, m)\n",
    "move_player.start()\n",
    "\n",
    "with open(\"../utils/moveRecord/step6.move\") as f:\n",
    "    m = Move.load(f)\n",
    "move_player = MovePlayer(cherry.robot, m)\n",
    "move_player.start()\n",
    "\n",
    "time.sleep(1)\n",
    "cherry.robot.say_sentence_local.start(\"Nous sommes techniciens du cinéma\")\n",
    "\n",
    "with open(\"../utils/moveRecord/step7.move\") as f:\n",
    "    m = Move.load(f)\n",
    "move_player = MovePlayer(cherry.robot, m)\n",
    "move_player.start()\n",
    "\n",
    "time.sleep(2)\n",
    "cherry.robot.say_sentence_local.start(\"Depuis plus. de 150 ans !\")\n",
    "\n",
    "with open(\"../utils/moveRecord/step8.move\") as f:\n",
    "    m = Move.load(f)\n",
    "move_player = MovePlayer(cherry.robot, m)\n",
    "move_player.start()\n",
    "\n",
    "\n",
    "cherry.robot.say_sentence_local.start(\"Vous désirez réalisé un film de type anglossaxon.\") \n",
    "time.sleep(2)\n",
    "\n",
    "with open(\"../utils/moveRecord/step9.move\") as f:\n",
    "    m = Move.load(f)\n",
    "move_player = MovePlayer(cherry.robot, m)\n",
    "move_player.start()\n",
    "\n",
    "time.sleep(2)\n",
    "cherry.robot.say_sentence_local.start(\"Soit. De type cowboy.\") \n",
    "with open(\"../utils/moveRecord/step10.move\") as f:\n",
    "    m = Move.load(f)\n",
    "move_player = MovePlayer(cherry.robot, m)\n",
    "move_player.start()\n",
    "\n",
    "time.sleep(1)\n",
    "cherry.robot.say_sentence_local.start(\"Soit. De type mission impossible.\") \n",
    "\n",
    "time.sleep(2)\n",
    "with open(\"../utils/moveRecord/step11.move\") as f:\n",
    "    m = Move.load(f)\n",
    "move_player = MovePlayer(cherry.robot, m)\n",
    "move_player.start()\n",
    "\n",
    "cherry.robot.say_sentence_local.start(\"Soit. De type Nintendo.\")\n",
    "\n",
    "time.sleep(2)\n",
    "with open(\"../utils/moveRecord/step12.move\") as f:\n",
    "    m = Move.load(f)\n",
    "move_player = MovePlayer(cherry.robot, m)\n",
    "move_player.start()\n",
    "\n",
    "time.sleep(2)\n",
    "cherry.robot.say_sentence_local.start(\"ite ize possibeule. Bicause.\") \n",
    "\n",
    "time.sleep(2)\n",
    "with open(\"../utils/moveRecord/step13.move\") as f:\n",
    "    m = Move.load(f)\n",
    "move_player = MovePlayer(cherry.robot, m)\n",
    "move_player.start()\n",
    "\n",
    "time.sleep(3)\n",
    "cherry.robot.say_sentence_local.start(\"Rodri gue aise!\") \n",
    "\n"
   ]
  },
  {
   "cell_type": "code",
   "execution_count": null,
   "metadata": {
    "collapsed": true
   },
   "outputs": [],
   "source": []
  },
  {
   "cell_type": "code",
   "execution_count": null,
   "metadata": {
    "collapsed": true
   },
   "outputs": [],
   "source": []
  }
 ],
 "metadata": {
  "kernelspec": {
   "display_name": "Python 2",
   "language": "python",
   "name": "python2"
  },
  "language_info": {
   "codemirror_mode": {
    "name": "ipython",
    "version": 2
   },
   "file_extension": ".py",
   "mimetype": "text/x-python",
   "name": "python",
   "nbconvert_exporter": "python",
   "pygments_lexer": "ipython2",
   "version": "2.7.10"
  }
 },
 "nbformat": 4,
 "nbformat_minor": 0
}
