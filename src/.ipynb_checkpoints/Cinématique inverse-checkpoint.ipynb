{
 "cells": [
  {
   "cell_type": "code",
   "execution_count": null,
   "metadata": {
    "collapsed": false
   },
   "outputs": [],
   "source": [
    "import time\n",
    "from poppy.creatures import PoppyHumanoid\n",
    "from cherry import Cherry\n",
    "\n",
    "from pypot.primitive.move import MoveRecorder, Move, MovePlayer\n",
    "\n",
    "cherry = Cherry()\n",
    "cherry.setup()\n",
    "\n",
    "for m in cherry.robot.motors :\n",
    "    m.goal_position = 0.0\n",
    "    \n",
    "for m in cherry.robot.head :\n",
    "    m.compliant = False\n",
    "for m in cherry.robot.arms :\n",
    "    m.compliant = True\n",
    "\n",
    "cherry.robot.head_z.goal_position = 0.0\n",
    "cherry.robot.head_y.goal_position = 0.0"
   ]
  },
  {
   "cell_type": "code",
   "execution_count": null,
   "metadata": {
    "collapsed": false
   },
   "outputs": [],
   "source": [
    "import numpy as np\n",
    "\n",
    "def computeGeometricPoppy(q1,q2,q3,q4):\n",
    "\n",
    "    t2 = np.cos(q2);\n",
    "    t3 = np.cos(q4);\n",
    "    t4 = np.sin(q2);\n",
    "    t5 = np.sin(q3);\n",
    "    t6 = np.sin(q4);\n",
    "    t7 = np.cos(q3);\n",
    "    t8 = np.cos(q1);\n",
    "    t9 = np.sin(q1);\n",
    "    t10 = t7*t8;\n",
    "    t12 = t4*t5*t9;\n",
    "    t11 = t10-t12;\n",
    "    t13 = t7*t9;\n",
    "    t14 = t4*t5*t8;\n",
    "    t15 = t13+t14;\n",
    "    out1 = np.reshape((t2*t7,t5*t8+t4*t7*t9,t5*t9-t4*t7*t8,0.0,t4*t6-t2*t3*t5,t3*t11-t2*t6*t9,t3*t15+t2*t6*t8,0.0,t3*t4+t2*t5*t6,-t6*t11-t2*t3*t9,-t6*t15+t2*t3*t8,0.0,t4*-1.5e1+t4*t6*2.6e1-t2*t3*t5*2.6e1+1.0e1,t2*t9*1.5e1+t3*t11*2.6e1-t2*t6*t9*2.6e1,t2*t8*-1.5e1+t3*t15*2.6e1+t2*t6*t8*2.6e1+1.0e1,1.0),(4, 4))\n",
    "\n",
    "    return out1"
   ]
  },
  {
   "cell_type": "code",
   "execution_count": null,
   "metadata": {
    "collapsed": false
   },
   "outputs": [],
   "source": [
    "import numpy as np\n",
    "\n",
    "def computeJacobPoppy(Pxi,Pyi,Pzi,q1,q2,q3,q4):\n",
    "\n",
    "    t2 = np.cos(q2);\n",
    "    t3 = np.sin(q4);\n",
    "    t4 = np.cos(q4);\n",
    "    t5 = np.sin(q2);\n",
    "    t6 = np.sin(q3);\n",
    "    t7 = np.cos(q3);\n",
    "    t8 = np.cos(q1);\n",
    "    t9 = np.sin(q1);\n",
    "    t10 = t7*t9;\n",
    "    t11 = t5*t6*t8;\n",
    "    t12 = t10+t11;\n",
    "    t13 = t6*t8;\n",
    "    t14 = t5*t7*t9;\n",
    "    t15 = t13+t14;\n",
    "    t16 = t7*t8;\n",
    "    t18 = t5*t6*t9;\n",
    "    t17 = t16-t18;\n",
    "    t19 = t4*t17;\n",
    "    t20 = t19-t2*t3*t9;\n",
    "    t21 = t3*t17;\n",
    "    t22 = t2*t4*t9;\n",
    "    t23 = t21+t22;\n",
    "    t24 = t3*t5*2.6e1;\n",
    "    t25 = Pxi*t2*t7;\n",
    "    t26 = Pzi*t4*t5;\n",
    "    t27 = Pyi*t3*t5;\n",
    "    t28 = Pzi*t2*t3*t6;\n",
    "    t29 = t5*-1.5e1+t24+t25+t26+t27+t28-t2*t4*t6*2.6e1-Pyi*t2*t4*t6;\n",
    "    t30 = t6*t9;\n",
    "    t32 = t5*t7*t8;\n",
    "    t31 = t30-t32;\n",
    "    t33 = t3*t12;\n",
    "    t34 = t33-t2*t4*t8;\n",
    "    t35 = t4*t12;\n",
    "    t36 = t2*t3*t8;\n",
    "    t37 = t35+t36;\n",
    "    out1 = np.reshape((0.0,-Pxi*t31-Pyi*t37+Pzi*t34+t2*t8*1.5e1-t4*t12*2.6e1-t2*t3*t8*2.6e1,Pxi*t15+Pyi*t20-Pzi*t23+t2*t9*1.5e1+t4*t17*2.6e1-t2*t3*t9*2.6e1,t2*-1.5e1+Pyi*(t2*t3+t4*t5*t6)+Pzi*(t2*t4-t3*t5*t6)+t2*t3*2.6e1-Pxi*t5*t7+t4*t5*t6*2.6e1,t9*t29,-t8*t29,-t2*(Pxi*t6+t4*t7*2.6e1+Pyi*t4*t7-Pzi*t3*t7),Pxi*t17-t4*t15*2.6e1-Pyi*t4*t15+Pzi*t3*t15,Pxi*t12-t4*t31*2.6e1-Pyi*t4*t31+Pzi*t3*t31,Pyi*(t4*t5+t2*t3*t6)-Pzi*(t3*t5-t2*t4*t6)+t4*t5*2.6e1+t2*t3*t6*2.6e1,-Pyi*t23-Pzi*t20-t3*t17*2.6e1-t2*t4*t9*2.6e1,-Pyi*t34-Pzi*t37-t3*t12*2.6e1+t2*t4*t8*2.6e1),(4, 3))\n",
    "\n",
    "    return out1\n",
    "\n"
   ]
  },
  {
   "cell_type": "code",
   "execution_count": null,
   "metadata": {
    "collapsed": false,
    "scrolled": true
   },
   "outputs": [],
   "source": [
    "import numpy as np\n",
    "\n",
    "def findMotorAngle(Cx,Cy,Cz,CQ1,CQ2,CQ3,CQ4,Gx,Gy,Gz) :\n",
    "\n",
    "    fQi = np.matrix([[Cx],[Cy],[Cz]])\n",
    "\n",
    "    Q= np.matrix([[CQ1],[CQ2],[CQ3],[CQ4]])\n",
    "    fQi_plus_1 = np.matrix([[Gx],[Gy],[Gz]])\n",
    "\n",
    "    itera = 0\n",
    "    while itera < 200 and np.linalg.norm(fQi_plus_1 - fQi) > 0.001 :\n",
    "\n",
    "        Jac = computeJacobPoppy(0,0,0,Q.item(0),Q.item(1),Q.item(2),Q.item(3))\n",
    "        JacTrans = Jac.T\n",
    "        Jinv = np.linalg.pinv(JacTrans)\n",
    "\n",
    "        diff_fQi = fQi_plus_1 - fQi\n",
    "        delta_qi = Jinv * diff_fQi\n",
    "        qi_plus_1 = Q + delta_qi\n",
    "\n",
    "        fqinew = computeGeometricPoppy(qi_plus_1.item(0),qi_plus_1.item(1),qi_plus_1.item(2),qi_plus_1.item(3))\n",
    "        fqinewTrans = fqinew.T\n",
    "        fQi = np.matrix([[fqinewTrans.item(3)], [fqinewTrans.item(7)],[fqinewTrans.item(11)]])\n",
    "        Q = qi_plus_1\n",
    "        itera = itera +1\n",
    "        \n",
    "    return [Q.item(0),Q.item(1),Q.item(2),Q.item(3),fQi.item(0),fQi.item(1),fQi.item(2)]\n",
    "    "
   ]
  },
  {
   "cell_type": "code",
   "execution_count": null,
   "metadata": {
    "collapsed": false
   },
   "outputs": [],
   "source": [
    "computeGeometricPoppy(0,0,0,0).T"
   ]
  },
  {
   "cell_type": "code",
   "execution_count": null,
   "metadata": {
    "collapsed": false
   },
   "outputs": [],
   "source": [
    "computeJacobPoppy(0,0,0,0,0,0,0).T"
   ]
  },
  {
   "cell_type": "code",
   "execution_count": null,
   "metadata": {
    "collapsed": false
   },
   "outputs": [],
   "source": [
    "findMotorAngle(10,26,-5,0,0,0,0,10,20,-5)"
   ]
  },
  {
   "cell_type": "code",
   "execution_count": null,
   "metadata": {
    "collapsed": false
   },
   "outputs": [],
   "source": [
    "computeGeometricPoppy(-4.09367151e-01,1.99157627e-17,7.93135759e-18,3.61680794e-01).T"
   ]
  },
  {
   "cell_type": "code",
   "execution_count": null,
   "metadata": {
    "collapsed": false
   },
   "outputs": [],
   "source": [
    "#CHERRY OUVERT\n",
    "\n",
    "import pygame\n",
    "import time\n",
    "import random\n",
    "import sys\n",
    "from threading import Thread, RLock\n",
    "\n",
    "def get():\n",
    "    out = [0,0,0,0,0,0,0,0,0,0,0,0,0,0,0,0,0]\n",
    "    it = 0 #iterator\n",
    "    pygame.event.pump()\n",
    "    \n",
    "    #Read input from the two joysticks       \n",
    "    for i in range(0, j.get_numaxes()):\n",
    "        out[it] = j.get_axis(i)\n",
    "        it+=1\n",
    "\n",
    "    for i in range(0,j.get_numhats()):\n",
    "        out[it] = j.get_hat(i)\n",
    "        it+=1\n",
    "\n",
    "    #Read input from buttons\n",
    "    for i in range(0, j.get_numbuttons()):\n",
    "        out[it] = j.get_button(i)\n",
    "        it+=1\n",
    "    return out\n",
    "\n",
    "verrou = RLock()\n",
    "        \n",
    "class GamePadRead(Thread):\n",
    "\n",
    "    \"\"\"Thread chargé simplement d'afficher un mot dans la console.\"\"\"\n",
    "\n",
    "    def __init__(self, mot):\n",
    "        Thread.__init__(self)\n",
    "        self.mot = mot\n",
    "        self.running = False\n",
    "        self.zHead = cherry.robot.head_z.present_position\n",
    "        self.yHead = cherry.robot.head_y.present_position\n",
    "        self._x = 10\n",
    "        self._y = 26\n",
    "        self._z = -5\n",
    "        self._CQ1 = 0\n",
    "        self._CQ2 = 0\n",
    "        self._CQ3 = 0\n",
    "        self._CQ4 = 0\n",
    "        self._Gx = 10\n",
    "        self._Gy = 26\n",
    "        self._Gz = -5\n",
    "        \n",
    "\n",
    "    def run(self):\n",
    "        \"\"\"Code à exécuter pendant l'exécution du thread.\"\"\"\n",
    "        self.running = True\n",
    "        while self.running:\n",
    "            with verrou:\n",
    "                tab = get()\n",
    "                \n",
    "                #Mouvement de tête avec le Hat\n",
    "                temp = tab[4][0]*2\n",
    "                if(-90<self.zHead+temp <90):\n",
    "                    self.zHead += temp\n",
    "                \n",
    "                temp = tab[4][1]*(-2)\n",
    "                if(self.yHead+temp < 20):\n",
    "                    self.yHead += temp\n",
    "                \n",
    "                cherry.robot.head_z.goal_position = self.zHead\n",
    "                cherry.robot.head_y.goal_position = self.yHead\n",
    "                \n",
    "                \n",
    "                if(tab[0]<-0.1 or tab[0]>0.1):\n",
    "                    self._Gx = self._x+tab[0]\n",
    "                \n",
    "                [self._CQ1,self._CQ2,self._CQ3,self._CQ4,self._x,self._y,self._z] = findMotorAngle(self._x,self._y,self._z,self._CQ1,self._CQ2,self._CQ3,self._CQ4,self._Gx,self._Gy,self._Gz)\n",
    "                \n",
    "                print [self._CQ1*360/2*np.pi,self._CQ2*360/2*np.pi,self._CQ3*360/2*np.pi,self._CQ4*360/2*np.pi]\n",
    "                \n",
    "                cherry.robot.l_shoulder_y.goal_position = self._CQ1*360/2*np.pi\n",
    "                cherry.robot.l_shoulder_x.goal_position = self._CQ2*360/2*np.pi\n",
    "                cherry.robot.l_arm_z.goal_position = self._CQ3*360/2*np.pi\n",
    "                cherry.robot.l_elbow_y.goal_position = self._CQ4*360/2*np.pi\n",
    "                \n",
    "                time.sleep(1)\n",
    "                \n",
    "    def stop(self):\n",
    "        self.running = False"
   ]
  },
  {
   "cell_type": "code",
   "execution_count": null,
   "metadata": {
    "collapsed": false
   },
   "outputs": [],
   "source": [
    "pygame.init()\n",
    "j = pygame.joystick.Joystick(0)\n",
    "j.init()\n",
    "print 'Initialized Joystick : %s' % j.get_name()\n",
    "for m in cherry.robot.arms :\n",
    "    m.compliant = False\n",
    "for m in cherry.robot.motors:\n",
    "    m.moving_speed = 0\n",
    "\n",
    "thread = GamePadRead(\"Test\")\n",
    "thread.start()"
   ]
  },
  {
   "cell_type": "code",
   "execution_count": null,
   "metadata": {
    "collapsed": true
   },
   "outputs": [],
   "source": [
    "thread.stop()"
   ]
  }
 ],
 "metadata": {
  "kernelspec": {
   "display_name": "Python 2",
   "language": "python",
   "name": "python2"
  },
  "language_info": {
   "codemirror_mode": {
    "name": "ipython",
    "version": 2
   },
   "file_extension": ".py",
   "mimetype": "text/x-python",
   "name": "python",
   "nbconvert_exporter": "python",
   "pygments_lexer": "ipython2",
   "version": "2.7.11"
  }
 },
 "nbformat": 4,
 "nbformat_minor": 0
}
