{
 "metadata": {
  "name": "",
  "signature": "sha256:af89f3adc6370079e213e6fe8dfcbdff3b44f6f47bb74bc2fb9b78e76d777d44"
 },
 "nbformat": 3,
 "nbformat_minor": 0,
 "worksheets": [
  {
   "cells": [
    {
     "cell_type": "code",
     "collapsed": false,
     "input": [
      "import time\n",
      "from poppy.creatures import PoppyHumanoid\n",
      "from cherry import Cherry\n",
      "from pypot.primitive.move import MoveRecorder, Move, MovePlayer"
     ],
     "language": "python",
     "metadata": {},
     "outputs": [],
     "prompt_number": 1
    },
    {
     "cell_type": "code",
     "collapsed": false,
     "input": [
      "cherry = Cherry()\n",
      "cherry.setup()"
     ],
     "language": "python",
     "metadata": {},
     "outputs": [],
     "prompt_number": 2
    },
    {
     "cell_type": "code",
     "collapsed": false,
     "input": [
      "{p.name for p in cherry.robot.primitives}"
     ],
     "language": "python",
     "metadata": {},
     "outputs": [
      {
       "metadata": {},
       "output_type": "pyout",
       "prompt_number": 3,
       "text": [
        "{'bow_behave',\n",
        " 'come_mouv_behave',\n",
        " 'copy_arm_behave',\n",
        " 'cross_arms_behave',\n",
        " 'cross_hands_behave',\n",
        " 'head_idle',\n",
        " 'keep_front_mouv_behave',\n",
        " 'no_behave',\n",
        " 'normal_behave',\n",
        " 'right_hand_mouv_behave',\n",
        " 'salute_behave',\n",
        " 'show_front_behave',\n",
        " 'show_left_behave',\n",
        " 'show_right_behave',\n",
        " 'take_head_behave',\n",
        " 'take_left_ear_behave',\n",
        " 'take_right_ear_behave',\n",
        " 'talk_four_behave',\n",
        " 'talk_one_behave',\n",
        " 'talk_three_behave',\n",
        " 'talk_two_behave',\n",
        " 'think_behave',\n",
        " 'upper_body_idle',\n",
        " 'wave_behave',\n",
        " 'yes_behave'}"
       ]
      }
     ],
     "prompt_number": 3
    },
    {
     "cell_type": "code",
     "collapsed": false,
     "input": [
      "cherry.robot.wave_behave.start()"
     ],
     "language": "python",
     "metadata": {},
     "outputs": [],
     "prompt_number": 4
    },
    {
     "cell_type": "code",
     "collapsed": false,
     "input": [
      "cherry.robot.wave_behave.stop()"
     ],
     "language": "python",
     "metadata": {},
     "outputs": [],
     "prompt_number": 5
    },
    {
     "cell_type": "code",
     "collapsed": false,
     "input": [
      "cherry.robot.take_head_behave.start()"
     ],
     "language": "python",
     "metadata": {},
     "outputs": [],
     "prompt_number": 11
    },
    {
     "cell_type": "code",
     "collapsed": false,
     "input": [
      "cherry.robot.normal_behave.start()"
     ],
     "language": "python",
     "metadata": {},
     "outputs": [],
     "prompt_number": 16
    },
    {
     "cell_type": "code",
     "collapsed": false,
     "input": [
      "cherry.robot.yes_behave.start()"
     ],
     "language": "python",
     "metadata": {},
     "outputs": [],
     "prompt_number": 13
    },
    {
     "cell_type": "code",
     "collapsed": false,
     "input": [
      "cherry.robot.yes_behave.stop()"
     ],
     "language": "python",
     "metadata": {},
     "outputs": [],
     "prompt_number": 14
    },
    {
     "cell_type": "code",
     "collapsed": false,
     "input": [
      "cherry.robot.copy_arm_behave.start()"
     ],
     "language": "python",
     "metadata": {},
     "outputs": [],
     "prompt_number": 3
    },
    {
     "cell_type": "code",
     "collapsed": false,
     "input": [
      "cherry.robot.copy_arm_behave.stop()"
     ],
     "language": "python",
     "metadata": {},
     "outputs": [],
     "prompt_number": 4
    },
    {
     "cell_type": "code",
     "collapsed": false,
     "input": [
      "move_recorder = MoveRecorder(cherry.robot, 50, cherry.robot.motors)\n",
      "\n",
      "for m in cherry.robot.arms:\n",
      "    m.compliant = True\n",
      "\n",
      "move_recorder.start()"
     ],
     "language": "python",
     "metadata": {},
     "outputs": [],
     "prompt_number": 21
    },
    {
     "cell_type": "code",
     "collapsed": false,
     "input": [
      "move_recorder.stop()"
     ],
     "language": "python",
     "metadata": {},
     "outputs": [],
     "prompt_number": 22
    },
    {
     "cell_type": "code",
     "collapsed": false,
     "input": [
      "with open('my_nice_move.move', 'w') as f:\n",
      "    move_recorder.move.save(f)\n",
      "\n",
      "with open('my_nice_move.move') as f:\n",
      "    m = Move.load(f)\n",
      "\n",
      "cherry.robot.compliant = False\n",
      "\n",
      "move_player = MovePlayer(cherry.robot, m)\n",
      "move_player.start()"
     ],
     "language": "python",
     "metadata": {},
     "outputs": [],
     "prompt_number": 23
    },
    {
     "cell_type": "code",
     "collapsed": false,
     "input": [
      "cherry.robot.r_shoulder_x.goal_speed = -70"
     ],
     "language": "python",
     "metadata": {},
     "outputs": [],
     "prompt_number": 15
    }
   ],
   "metadata": {}
  }
 ]
}