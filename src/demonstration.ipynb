{
 "metadata": {
  "name": "",
  "signature": "sha256:261d9fa8cad23f0699a7c18c00023de177c9103b52a4d85a9fec8caef42deb44"
 },
 "nbformat": 3,
 "nbformat_minor": 0,
 "worksheets": [
  {
   "cells": [
    {
     "cell_type": "code",
     "collapsed": false,
     "input": [
      "import time\n",
      "from poppy.creatures import PoppyHumanoid\n",
      "from cherry import Cherry\n",
      "from pypot.primitive.move import MoveRecorder, Move, MovePlayer"
     ],
     "language": "python",
     "metadata": {},
     "outputs": [],
     "prompt_number": 2
    },
    {
     "cell_type": "code",
     "collapsed": false,
     "input": [
      "cherry = Cherry()\n",
      "cherry.setup()\n",
      "{(p.name, p) for p in cherry.robot.primitives}"
     ],
     "language": "python",
     "metadata": {},
     "outputs": [
      {
       "metadata": {},
       "output_type": "pyout",
       "prompt_number": 4,
       "text": [
        "{('bow_behave', <behavior.bow.BowBehave at 0x109930710>),\n",
        " ('come_mouv_behave', <behavior.comeMouv.ComeMouvBehave at 0x109913850>),\n",
        " ('copy_arm_behave', <behavior.copyArm.CopyArmBehave at 0x109930150>),\n",
        " ('cross_arms_behave', <behavior.crossArms.CrossArmsBehave at 0x1098f0850>),\n",
        " ('cross_hands_behave', <behavior.crossHands.CrossHandsBehave at 0x1098f0e10>),\n",
        " ('head_idle', <behavior.idle.HeadIdleMotion at 0x10545d6d0>),\n",
        " ('keep_front_mouv_behave',\n",
        "  <behavior.keepFrontMouv.KeepFrontMouvBehave at 0x10991d410>),\n",
        " ('no_behave', <behavior.no.NoBehave at 0x1098e6c90>),\n",
        " ('normal_behave', <behavior.normal.NormalBehave at 0x10991df90>),\n",
        " ('right_hand_mouv_behave',\n",
        "  <behavior.rightHandMouv.RightHandMouvBehave at 0x10990b6d0>),\n",
        " ('salute_behave', <behavior.salute.SaluteBehave at 0x109927590>),\n",
        " ('show_front_behave', <behavior.showFront.ShowFrontBehave at 0x1098f9f90>),\n",
        " ('show_left_behave', <behavior.showLeft.ShowLeftBehave at 0x1098f9410>),\n",
        " ('show_right_behave', <behavior.showRight.ShowRightBehave at 0x1098f99d0>),\n",
        " ('take_head_behave', <behavior.takeHead.TakeHeadBehave at 0x109903590>),\n",
        " ('take_left_ear_behave',\n",
        "  <behavior.takeLeftEar.TakeLeftEarBehave at 0x109903b10>),\n",
        " ('take_right_ear_behave',\n",
        "  <behavior.takeRightEar.TakeRightEarBehave at 0x10990b110>),\n",
        " ('think_behave', <behavior.think.ThinkBehave at 0x109927b50>),\n",
        " ('upper_body_idle', <behavior.idle.UpperBodyIdleMotion at 0x1054078d0>),\n",
        " ('wave_behave', <behavior.wave.WaveBehave at 0x1098e6150>),\n",
        " ('yes_behave', <behavior.yes.YesBehave at 0x105498e10>)}"
       ]
      }
     ],
     "prompt_number": 4
    },
    {
     "cell_type": "code",
     "collapsed": false,
     "input": [
      "cherry.robot.wave_behave.start()"
     ],
     "language": "python",
     "metadata": {},
     "outputs": [],
     "prompt_number": 5
    },
    {
     "cell_type": "code",
     "collapsed": false,
     "input": [
      "cherry.robot.wave_behave.stop()"
     ],
     "language": "python",
     "metadata": {},
     "outputs": [
      {
       "output_type": "stream",
       "stream": "stderr",
       "text": [
        "WARNING:pypot.dynamixel.error:Timeout after sending DxlSyncReadDataPacket(ids=(33, 34, 35, 36, 37, 41, 42, 43, 44, 51, 52, 53, 54), address=36, length=6) to motors [33, 34, 35, 36, 37, 41, 42, 43, 44, 51, 52, 53, 54]\n"
       ]
      },
      {
       "output_type": "stream",
       "stream": "stderr",
       "text": [
        "WARNING:pypot.dynamixel.error:Communication error after sending DxlSyncReadDataPacket(ids=(33, 34, 35, 36, 37, 41, 42, 43, 44, 51, 52, 53, 54), address=36, length=6)\n"
       ]
      },
      {
       "output_type": "stream",
       "stream": "stderr",
       "text": [
        "WARNING:pypot.dynamixel.error:Communication error after sending DxlSyncReadDataPacket(ids=(33, 34, 35, 36, 37, 41, 42, 43, 44, 51, 52, 53, 54), address=36, length=6)\n"
       ]
      },
      {
       "output_type": "stream",
       "stream": "stderr",
       "text": [
        "WARNING:pypot.dynamixel.error:Communication error after sending DxlSyncReadDataPacket(ids=(33, 34, 35, 36, 37, 41, 42, 43, 44, 51, 52, 53, 54), address=36, length=6)\n"
       ]
      },
      {
       "output_type": "stream",
       "stream": "stderr",
       "text": [
        "WARNING:pypot.dynamixel.error:Communication error after sending DxlSyncReadDataPacket(ids=(33, 34, 35, 36, 37, 41, 42, 43, 44, 51, 52, 53, 54), address=36, length=6)\n"
       ]
      },
      {
       "output_type": "stream",
       "stream": "stderr",
       "text": [
        "WARNING:pypot.dynamixel.error:Communication error after sending DxlSyncReadDataPacket(ids=(33, 34, 35, 36, 37, 41, 42, 43, 44, 51, 52, 53, 54), address=36, length=6)\n"
       ]
      },
      {
       "output_type": "stream",
       "stream": "stderr",
       "text": [
        "WARNING:pypot.dynamixel.error:Communication error after sending DxlSyncReadDataPacket(ids=(33, 34, 35, 36, 37, 41, 42, 43, 44, 51, 52, 53, 54), address=36, length=6)\n"
       ]
      },
      {
       "output_type": "stream",
       "stream": "stderr",
       "text": [
        "WARNING:pypot.dynamixel.error:Communication error after sending DxlSyncReadDataPacket(ids=(33, 34, 35, 36, 37, 41, 42, 43, 44, 51, 52, 53, 54), address=36, length=6)\n"
       ]
      },
      {
       "output_type": "stream",
       "stream": "stderr",
       "text": [
        "WARNING:pypot.dynamixel.error:Communication error after sending DxlSyncReadDataPacket(ids=(33, 34, 35, 36, 37, 41, 42, 43, 44, 51, 52, 53, 54), address=36, length=6)\n"
       ]
      },
      {
       "output_type": "stream",
       "stream": "stderr",
       "text": [
        "WARNING:pypot.dynamixel.error:Communication error after sending DxlSyncReadDataPacket(ids=(33, 34, 35, 36, 37, 41, 42, 43, 44, 51, 52, 53, 54), address=36, length=6)\n"
       ]
      },
      {
       "output_type": "stream",
       "stream": "stderr",
       "text": [
        "WARNING:pypot.dynamixel.error:Communication error after sending DxlSyncReadDataPacket(ids=(33, 34, 35, 36, 37, 41, 42, 43, 44, 51, 52, 53, 54), address=6, length=4)\n"
       ]
      },
      {
       "output_type": "stream",
       "stream": "stderr",
       "text": [
        "WARNING:pypot.dynamixel.error:Communication error after sending DxlSyncReadDataPacket(ids=(33, 34, 35, 36, 37, 41, 42, 43, 44, 51, 52, 53, 54), address=36, length=6)\n"
       ]
      },
      {
       "output_type": "stream",
       "stream": "stderr",
       "text": [
        "WARNING:pypot.dynamixel.error:Communication error after sending DxlSyncReadDataPacket(ids=(33, 34, 35, 36, 37, 41, 42, 43, 44, 51, 52, 53, 54), address=42, length=1)\n"
       ]
      },
      {
       "output_type": "stream",
       "stream": "stderr",
       "text": [
        "WARNING:pypot.dynamixel.error:Communication error after sending DxlSyncReadDataPacket(ids=(33, 34, 35, 36, 37, 41, 42, 43, 44, 51, 52, 53, 54), address=43, length=1)\n"
       ]
      },
      {
       "output_type": "stream",
       "stream": "stderr",
       "text": [
        "WARNING:pypot.dynamixel.error:Communication error after sending DxlSyncReadDataPacket(ids=(33, 34, 35, 36, 37, 41, 42, 43, 44, 51, 52, 53, 54), address=36, length=6)\n"
       ]
      },
      {
       "output_type": "stream",
       "stream": "stderr",
       "text": [
        "WARNING:pypot.dynamixel.error:Communication error after sending DxlSyncReadDataPacket(ids=(33, 34, 35, 36, 37, 41, 42, 43, 44, 51, 52, 53, 54), address=36, length=6)\n"
       ]
      },
      {
       "output_type": "stream",
       "stream": "stderr",
       "text": [
        "WARNING:pypot.dynamixel.error:Communication error after sending DxlSyncReadDataPacket(ids=(33, 34, 35, 36, 37, 41, 42, 43, 44, 51, 52, 53, 54), address=36, length=6)\n"
       ]
      },
      {
       "output_type": "stream",
       "stream": "stderr",
       "text": [
        "WARNING:pypot.dynamixel.error:Communication error after sending DxlSyncReadDataPacket(ids=(33, 34, 35, 36, 37, 41, 42, 43, 44, 51, 52, 53, 54), address=36, length=6)\n"
       ]
      },
      {
       "output_type": "stream",
       "stream": "stderr",
       "text": [
        "WARNING:pypot.dynamixel.error:Communication error after sending DxlSyncReadDataPacket(ids=(33, 34, 35, 36, 37, 41, 42, 43, 44, 51, 52, 53, 54), address=36, length=6)\n"
       ]
      },
      {
       "output_type": "stream",
       "stream": "stderr",
       "text": [
        "WARNING:pypot.dynamixel.error:Communication error after sending DxlSyncReadDataPacket(ids=(33, 34, 35, 36, 37, 41, 42, 43, 44, 51, 52, 53, 54), address=36, length=6)\n"
       ]
      },
      {
       "output_type": "stream",
       "stream": "stderr",
       "text": [
        "WARNING:pypot.dynamixel.error:Communication error after sending DxlSyncReadDataPacket(ids=(33, 34, 35, 36, 37, 41, 42, 43, 44, 51, 52, 53, 54), address=36, length=6)\n"
       ]
      },
      {
       "output_type": "stream",
       "stream": "stderr",
       "text": [
        "WARNING:pypot.dynamixel.error:Communication error after sending DxlSyncReadDataPacket(ids=(33, 34, 35, 36, 37, 41, 42, 43, 44, 51, 52, 53, 54), address=36, length=6)\n"
       ]
      },
      {
       "output_type": "stream",
       "stream": "stderr",
       "text": [
        "WARNING:pypot.dynamixel.error:Communication error after sending DxlSyncReadDataPacket(ids=(33, 34, 35, 36, 37, 41, 42, 43, 44, 51, 52, 53, 54), address=36, length=6)\n"
       ]
      },
      {
       "output_type": "stream",
       "stream": "stderr",
       "text": [
        "WARNING:pypot.dynamixel.error:Communication error after sending DxlSyncReadDataPacket(ids=(33, 34, 35, 36, 37, 41, 42, 43, 44, 51, 52, 53, 54), address=36, length=6)\n"
       ]
      },
      {
       "output_type": "stream",
       "stream": "stderr",
       "text": [
        "WARNING:pypot.dynamixel.error:Communication error after sending DxlSyncReadDataPacket(ids=(33, 34, 35, 36, 37, 41, 42, 43, 44, 51, 52, 53, 54), address=36, length=6)\n"
       ]
      },
      {
       "output_type": "stream",
       "stream": "stderr",
       "text": [
        "WARNING:pypot.dynamixel.error:Communication error after sending DxlSyncReadDataPacket(ids=(33, 34, 35, 36, 37, 41, 42, 43, 44, 51, 52, 53, 54), address=36, length=6)\n"
       ]
      },
      {
       "output_type": "stream",
       "stream": "stderr",
       "text": [
        "WARNING:pypot.dynamixel.error:Communication error after sending DxlSyncReadDataPacket(ids=(33, 34, 35, 36, 37, 41, 42, 43, 44, 51, 52, 53, 54), address=36, length=6)\n"
       ]
      },
      {
       "output_type": "stream",
       "stream": "stderr",
       "text": [
        "WARNING:pypot.dynamixel.error:Communication error after sending DxlSyncReadDataPacket(ids=(33, 34, 35, 36, 37, 41, 42, 43, 44, 51, 52, 53, 54), address=36, length=6)\n"
       ]
      },
      {
       "output_type": "stream",
       "stream": "stderr",
       "text": [
        "WARNING:pypot.dynamixel.error:Communication error after sending DxlSyncReadDataPacket(ids=(33, 34, 35, 36, 37, 41, 42, 43, 44, 51, 52, 53, 54), address=36, length=6)\n"
       ]
      },
      {
       "output_type": "stream",
       "stream": "stderr",
       "text": [
        "WARNING:pypot.dynamixel.error:Communication error after sending DxlSyncReadDataPacket(ids=(33, 34, 35, 36, 37, 41, 42, 43, 44, 51, 52, 53, 54), address=36, length=6)\n"
       ]
      },
      {
       "output_type": "stream",
       "stream": "stderr",
       "text": [
        "WARNING:pypot.dynamixel.error:Communication error after sending DxlSyncReadDataPacket(ids=(33, 34, 35, 36, 37, 41, 42, 43, 44, 51, 52, 53, 54), address=36, length=6)\n"
       ]
      },
      {
       "output_type": "stream",
       "stream": "stderr",
       "text": [
        "WARNING:pypot.dynamixel.error:Communication error after sending DxlSyncReadDataPacket(ids=(33, 34, 35, 36, 37, 41, 42, 43, 44, 51, 52, 53, 54), address=36, length=6)\n"
       ]
      },
      {
       "output_type": "stream",
       "stream": "stderr",
       "text": [
        "WARNING:pypot.dynamixel.error:Communication error after sending DxlSyncReadDataPacket(ids=(33, 34, 35, 36, 37, 41, 42, 43, 44, 51, 52, 53, 54), address=36, length=6)\n"
       ]
      },
      {
       "output_type": "stream",
       "stream": "stderr",
       "text": [
        "WARNING:pypot.dynamixel.error:Communication error after sending DxlSyncReadDataPacket(ids=(33, 34, 35, 36, 37, 41, 42, 43, 44, 51, 52, 53, 54), address=36, length=6)\n"
       ]
      },
      {
       "output_type": "stream",
       "stream": "stderr",
       "text": [
        "WARNING:pypot.dynamixel.error:Communication error after sending DxlSyncReadDataPacket(ids=(33, 34, 35, 36, 37, 41, 42, 43, 44, 51, 52, 53, 54), address=36, length=6)\n"
       ]
      },
      {
       "output_type": "stream",
       "stream": "stderr",
       "text": [
        "WARNING:pypot.dynamixel.error:Communication error after sending DxlSyncReadDataPacket(ids=(33, 34, 35, 36, 37, 41, 42, 43, 44, 51, 52, 53, 54), address=36, length=6)\n"
       ]
      },
      {
       "output_type": "stream",
       "stream": "stderr",
       "text": [
        "WARNING:pypot.dynamixel.error:Communication error after sending DxlSyncReadDataPacket(ids=(33, 34, 35, 36, 37, 41, 42, 43, 44, 51, 52, 53, 54), address=36, length=6)\n"
       ]
      },
      {
       "output_type": "stream",
       "stream": "stderr",
       "text": [
        "WARNING:pypot.dynamixel.error:Communication error after sending DxlSyncReadDataPacket(ids=(33, 34, 35, 36, 37, 41, 42, 43, 44, 51, 52, 53, 54), address=36, length=6)\n"
       ]
      },
      {
       "output_type": "stream",
       "stream": "stderr",
       "text": [
        "WARNING:pypot.dynamixel.error:Communication error after sending DxlSyncReadDataPacket(ids=(33, 34, 35, 36, 37, 41, 42, 43, 44, 51, 52, 53, 54), address=36, length=6)\n"
       ]
      },
      {
       "output_type": "stream",
       "stream": "stderr",
       "text": [
        "WARNING:pypot.dynamixel.error:Communication error after sending DxlSyncReadDataPacket(ids=(33, 34, 35, 36, 37, 41, 42, 43, 44, 51, 52, 53, 54), address=36, length=6)\n"
       ]
      },
      {
       "output_type": "stream",
       "stream": "stderr",
       "text": [
        "WARNING:pypot.dynamixel.error:Communication error after sending DxlSyncReadDataPacket(ids=(33, 34, 35, 36, 37, 41, 42, 43, 44, 51, 52, 53, 54), address=36, length=6)\n"
       ]
      },
      {
       "output_type": "stream",
       "stream": "stderr",
       "text": [
        "WARNING:pypot.dynamixel.error:Communication error after sending DxlSyncReadDataPacket(ids=(33, 34, 35, 36, 37, 41, 42, 43, 44, 51, 52, 53, 54), address=36, length=6)\n"
       ]
      },
      {
       "output_type": "stream",
       "stream": "stderr",
       "text": [
        "WARNING:pypot.dynamixel.error:Communication error after sending DxlSyncReadDataPacket(ids=(33, 34, 35, 36, 37, 41, 42, 43, 44, 51, 52, 53, 54), address=36, length=6)\n"
       ]
      },
      {
       "output_type": "stream",
       "stream": "stderr",
       "text": [
        "WARNING:pypot.dynamixel.error:Communication error after sending DxlSyncReadDataPacket(ids=(33, 34, 35, 36, 37, 41, 42, 43, 44, 51, 52, 53, 54), address=36, length=6)\n"
       ]
      },
      {
       "output_type": "stream",
       "stream": "stderr",
       "text": [
        "WARNING:pypot.dynamixel.error:Communication error after sending DxlSyncReadDataPacket(ids=(33, 34, 35, 36, 37, 41, 42, 43, 44, 51, 52, 53, 54), address=36, length=6)\n"
       ]
      },
      {
       "output_type": "stream",
       "stream": "stderr",
       "text": [
        "WARNING:pypot.dynamixel.error:Communication error after sending DxlSyncReadDataPacket(ids=(33, 34, 35, 36, 37, 41, 42, 43, 44, 51, 52, 53, 54), address=36, length=6)\n"
       ]
      },
      {
       "output_type": "stream",
       "stream": "stderr",
       "text": [
        "WARNING:pypot.dynamixel.error:Communication error after sending DxlSyncReadDataPacket(ids=(33, 34, 35, 36, 37, 41, 42, 43, 44, 51, 52, 53, 54), address=36, length=6)\n"
       ]
      },
      {
       "output_type": "stream",
       "stream": "stderr",
       "text": [
        "WARNING:pypot.dynamixel.error:Communication error after sending DxlSyncReadDataPacket(ids=(33, 34, 35, 36, 37, 41, 42, 43, 44, 51, 52, 53, 54), address=36, length=6)\n"
       ]
      },
      {
       "output_type": "stream",
       "stream": "stderr",
       "text": [
        "WARNING:pypot.dynamixel.error:Communication error after sending DxlSyncReadDataPacket(ids=(33, 34, 35, 36, 37, 41, 42, 43, 44, 51, 52, 53, 54), address=36, length=6)\n"
       ]
      },
      {
       "output_type": "stream",
       "stream": "stderr",
       "text": [
        "WARNING:pypot.dynamixel.error:Communication error after sending DxlSyncReadDataPacket(ids=(33, 34, 35, 36, 37, 41, 42, 43, 44, 51, 52, 53, 54), address=36, length=6)\n"
       ]
      },
      {
       "output_type": "stream",
       "stream": "stderr",
       "text": [
        "WARNING:pypot.dynamixel.error:Communication error after sending DxlSyncReadDataPacket(ids=(33, 34, 35, 36, 37, 41, 42, 43, 44, 51, 52, 53, 54), address=36, length=6)\n"
       ]
      },
      {
       "output_type": "stream",
       "stream": "stderr",
       "text": [
        "WARNING:pypot.dynamixel.error:Communication error after sending DxlSyncReadDataPacket(ids=(33, 34, 35, 36, 37, 41, 42, 43, 44, 51, 52, 53, 54), address=36, length=6)\n"
       ]
      },
      {
       "output_type": "stream",
       "stream": "stderr",
       "text": [
        "WARNING:pypot.dynamixel.error:Communication error after sending DxlSyncReadDataPacket(ids=(33, 34, 35, 36, 37, 41, 42, 43, 44, 51, 52, 53, 54), address=36, length=6)\n"
       ]
      },
      {
       "output_type": "stream",
       "stream": "stderr",
       "text": [
        "WARNING:pypot.dynamixel.error:Communication error after sending DxlSyncReadDataPacket(ids=(33, 34, 35, 36, 37, 41, 42, 43, 44, 51, 52, 53, 54), address=36, length=6)\n"
       ]
      },
      {
       "output_type": "stream",
       "stream": "stderr",
       "text": [
        "WARNING:pypot.dynamixel.error:Communication error after sending DxlSyncReadDataPacket(ids=(33, 34, 35, 36, 37, 41, 42, 43, 44, 51, 52, 53, 54), address=36, length=6)\n"
       ]
      },
      {
       "output_type": "stream",
       "stream": "stderr",
       "text": [
        "WARNING:pypot.dynamixel.error:Communication error after sending DxlSyncReadDataPacket(ids=(33, 34, 35, 36, 37, 41, 42, 43, 44, 51, 52, 53, 54), address=36, length=6)\n"
       ]
      },
      {
       "output_type": "stream",
       "stream": "stderr",
       "text": [
        "WARNING:pypot.dynamixel.error:Communication error after sending DxlSyncReadDataPacket(ids=(33, 34, 35, 36, 37, 41, 42, 43, 44, 51, 52, 53, 54), address=36, length=6)\n"
       ]
      },
      {
       "output_type": "stream",
       "stream": "stderr",
       "text": [
        "WARNING:pypot.dynamixel.error:Communication error after sending DxlSyncReadDataPacket(ids=(33, 34, 35, 36, 37, 41, 42, 43, 44, 51, 52, 53, 54), address=36, length=6)\n"
       ]
      },
      {
       "output_type": "stream",
       "stream": "stderr",
       "text": [
        "WARNING:pypot.dynamixel.error:Communication error after sending DxlSyncReadDataPacket(ids=(33, 34, 35, 36, 37, 41, 42, 43, 44, 51, 52, 53, 54), address=36, length=6)\n"
       ]
      },
      {
       "output_type": "stream",
       "stream": "stderr",
       "text": [
        "WARNING:pypot.dynamixel.error:Communication error after sending DxlSyncReadDataPacket(ids=(33, 34, 35, 36, 37, 41, 42, 43, 44, 51, 52, 53, 54), address=36, length=6)\n"
       ]
      },
      {
       "output_type": "stream",
       "stream": "stderr",
       "text": [
        "WARNING:pypot.dynamixel.error:Communication error after sending DxlSyncReadDataPacket(ids=(33, 34, 35, 36, 37, 41, 42, 43, 44, 51, 52, 53, 54), address=36, length=6)\n"
       ]
      },
      {
       "output_type": "stream",
       "stream": "stderr",
       "text": [
        "WARNING:pypot.dynamixel.error:Communication error after sending DxlSyncReadDataPacket(ids=(33, 34, 35, 36, 37, 41, 42, 43, 44, 51, 52, 53, 54), address=6, length=4)\n"
       ]
      },
      {
       "output_type": "stream",
       "stream": "stderr",
       "text": [
        "WARNING:pypot.dynamixel.error:Communication error after sending DxlSyncReadDataPacket(ids=(33, 34, 35, 36, 37, 41, 42, 43, 44, 51, 52, 53, 54), address=36, length=6)\n"
       ]
      },
      {
       "output_type": "stream",
       "stream": "stderr",
       "text": [
        "WARNING:pypot.dynamixel.error:Communication error after sending DxlSyncReadDataPacket(ids=(33, 34, 35, 36, 37, 41, 42, 43, 44, 51, 52, 53, 54), address=43, length=1)\n"
       ]
      },
      {
       "output_type": "stream",
       "stream": "stderr",
       "text": [
        "WARNING:pypot.dynamixel.error:Communication error after sending DxlSyncReadDataPacket(ids=(33, 34, 35, 36, 37, 41, 42, 43, 44, 51, 52, 53, 54), address=42, length=1)\n"
       ]
      },
      {
       "output_type": "stream",
       "stream": "stderr",
       "text": [
        "WARNING:pypot.dynamixel.error:Communication error after sending DxlSyncReadDataPacket(ids=(33, 34, 35, 36, 37, 41, 42, 43, 44, 51, 52, 53, 54), address=36, length=6)\n"
       ]
      },
      {
       "output_type": "stream",
       "stream": "stderr",
       "text": [
        "WARNING:pypot.dynamixel.error:Communication error after sending DxlSyncReadDataPacket(ids=(33, 34, 35, 36, 37, 41, 42, 43, 44, 51, 52, 53, 54), address=36, length=6)\n"
       ]
      },
      {
       "output_type": "stream",
       "stream": "stderr",
       "text": [
        "WARNING:pypot.dynamixel.error:Communication error after sending DxlSyncReadDataPacket(ids=(33, 34, 35, 36, 37, 41, 42, 43, 44, 51, 52, 53, 54), address=36, length=6)\n"
       ]
      },
      {
       "output_type": "stream",
       "stream": "stderr",
       "text": [
        "WARNING:pypot.dynamixel.error:Communication error after sending DxlSyncReadDataPacket(ids=(33, 34, 35, 36, 37, 41, 42, 43, 44, 51, 52, 53, 54), address=36, length=6)\n"
       ]
      },
      {
       "output_type": "stream",
       "stream": "stderr",
       "text": [
        "WARNING:pypot.dynamixel.error:Communication error after sending DxlSyncReadDataPacket(ids=(33, 34, 35, 36, 37, 41, 42, 43, 44, 51, 52, 53, 54), address=36, length=6)\n"
       ]
      },
      {
       "output_type": "stream",
       "stream": "stderr",
       "text": [
        "WARNING:pypot.dynamixel.error:Communication error after sending DxlSyncReadDataPacket(ids=(33, 34, 35, 36, 37, 41, 42, 43, 44, 51, 52, 53, 54), address=36, length=6)\n"
       ]
      },
      {
       "output_type": "stream",
       "stream": "stderr",
       "text": [
        "WARNING:pypot.dynamixel.error:Communication error after sending DxlSyncReadDataPacket(ids=(33, 34, 35, 36, 37, 41, 42, 43, 44, 51, 52, 53, 54), address=36, length=6)\n"
       ]
      },
      {
       "output_type": "stream",
       "stream": "stderr",
       "text": [
        "WARNING:pypot.dynamixel.error:Communication error after sending DxlSyncReadDataPacket(ids=(33, 34, 35, 36, 37, 41, 42, 43, 44, 51, 52, 53, 54), address=36, length=6)\n"
       ]
      },
      {
       "output_type": "stream",
       "stream": "stderr",
       "text": [
        "WARNING:pypot.dynamixel.error:Communication error after sending DxlSyncReadDataPacket(ids=(33, 34, 35, 36, 37, 41, 42, 43, 44, 51, 52, 53, 54), address=36, length=6)\n"
       ]
      },
      {
       "output_type": "stream",
       "stream": "stderr",
       "text": [
        "WARNING:pypot.dynamixel.error:Communication error after sending DxlSyncReadDataPacket(ids=(33, 34, 35, 36, 37, 41, 42, 43, 44, 51, 52, 53, 54), address=36, length=6)\n"
       ]
      },
      {
       "output_type": "stream",
       "stream": "stderr",
       "text": [
        "WARNING:pypot.dynamixel.error:Communication error after sending DxlSyncReadDataPacket(ids=(33, 34, 35, 36, 37, 41, 42, 43, 44, 51, 52, 53, 54), address=36, length=6)\n"
       ]
      },
      {
       "output_type": "stream",
       "stream": "stderr",
       "text": [
        "WARNING:pypot.dynamixel.error:Communication error after sending DxlSyncReadDataPacket(ids=(33, 34, 35, 36, 37, 41, 42, 43, 44, 51, 52, 53, 54), address=36, length=6)\n"
       ]
      },
      {
       "output_type": "stream",
       "stream": "stderr",
       "text": [
        "WARNING:pypot.dynamixel.error:Communication error after sending DxlSyncReadDataPacket(ids=(33, 34, 35, 36, 37, 41, 42, 43, 44, 51, 52, 53, 54), address=36, length=6)\n"
       ]
      },
      {
       "output_type": "stream",
       "stream": "stderr",
       "text": [
        "WARNING:pypot.dynamixel.error:Communication error after sending DxlSyncReadDataPacket(ids=(33, 34, 35, 36, 37, 41, 42, 43, 44, 51, 52, 53, 54), address=36, length=6)\n"
       ]
      },
      {
       "output_type": "stream",
       "stream": "stderr",
       "text": [
        "WARNING:pypot.dynamixel.error:Communication error after sending DxlSyncReadDataPacket(ids=(33, 34, 35, 36, 37, 41, 42, 43, 44, 51, 52, 53, 54), address=36, length=6)\n"
       ]
      },
      {
       "output_type": "stream",
       "stream": "stderr",
       "text": [
        "WARNING:pypot.dynamixel.error:Communication error after sending DxlSyncReadDataPacket(ids=(33, 34, 35, 36, 37, 41, 42, 43, 44, 51, 52, 53, 54), address=36, length=6)\n"
       ]
      },
      {
       "output_type": "stream",
       "stream": "stderr",
       "text": [
        "WARNING:pypot.dynamixel.error:Communication error after sending DxlSyncReadDataPacket(ids=(33, 34, 35, 36, 37, 41, 42, 43, 44, 51, 52, 53, 54), address=36, length=6)\n"
       ]
      },
      {
       "output_type": "stream",
       "stream": "stderr",
       "text": [
        "WARNING:pypot.dynamixel.error:Communication error after sending DxlSyncReadDataPacket(ids=(33, 34, 35, 36, 37, 41, 42, 43, 44, 51, 52, 53, 54), address=36, length=6)\n"
       ]
      },
      {
       "output_type": "stream",
       "stream": "stderr",
       "text": [
        "WARNING:pypot.dynamixel.error:Communication error after sending DxlSyncReadDataPacket(ids=(33, 34, 35, 36, 37, 41, 42, 43, 44, 51, 52, 53, 54), address=36, length=6)\n"
       ]
      },
      {
       "output_type": "stream",
       "stream": "stderr",
       "text": [
        "WARNING:pypot.dynamixel.error:Communication error after sending DxlSyncReadDataPacket(ids=(33, 34, 35, 36, 37, 41, 42, 43, 44, 51, 52, 53, 54), address=36, length=6)\n"
       ]
      },
      {
       "output_type": "stream",
       "stream": "stderr",
       "text": [
        "WARNING:pypot.dynamixel.error:Communication error after sending DxlSyncReadDataPacket(ids=(33, 34, 35, 36, 37, 41, 42, 43, 44, 51, 52, 53, 54), address=36, length=6)\n"
       ]
      },
      {
       "output_type": "stream",
       "stream": "stderr",
       "text": [
        "WARNING:pypot.dynamixel.error:Communication error after sending DxlSyncReadDataPacket(ids=(33, 34, 35, 36, 37, 41, 42, 43, 44, 51, 52, 53, 54), address=36, length=6)\n"
       ]
      },
      {
       "output_type": "stream",
       "stream": "stderr",
       "text": [
        "WARNING:pypot.dynamixel.error:Communication error after sending DxlSyncReadDataPacket(ids=(33, 34, 35, 36, 37, 41, 42, 43, 44, 51, 52, 53, 54), address=36, length=6)\n"
       ]
      },
      {
       "output_type": "stream",
       "stream": "stderr",
       "text": [
        "WARNING:pypot.dynamixel.error:Communication error after sending DxlSyncReadDataPacket(ids=(33, 34, 35, 36, 37, 41, 42, 43, 44, 51, 52, 53, 54), address=36, length=6)\n"
       ]
      },
      {
       "output_type": "stream",
       "stream": "stderr",
       "text": [
        "WARNING:pypot.dynamixel.error:Communication error after sending DxlSyncReadDataPacket(ids=(33, 34, 35, 36, 37, 41, 42, 43, 44, 51, 52, 53, 54), address=36, length=6)\n"
       ]
      },
      {
       "output_type": "stream",
       "stream": "stderr",
       "text": [
        "WARNING:pypot.dynamixel.error:Communication error after sending DxlSyncReadDataPacket(ids=(33, 34, 35, 36, 37, 41, 42, 43, 44, 51, 52, 53, 54), address=36, length=6)\n"
       ]
      },
      {
       "output_type": "stream",
       "stream": "stderr",
       "text": [
        "WARNING:pypot.dynamixel.error:Communication error after sending DxlSyncReadDataPacket(ids=(33, 34, 35, 36, 37, 41, 42, 43, 44, 51, 52, 53, 54), address=36, length=6)\n"
       ]
      },
      {
       "output_type": "stream",
       "stream": "stderr",
       "text": [
        "WARNING:pypot.dynamixel.error:Communication error after sending DxlSyncReadDataPacket(ids=(33, 34, 35, 36, 37, 41, 42, 43, 44, 51, 52, 53, 54), address=36, length=6)\n"
       ]
      },
      {
       "output_type": "stream",
       "stream": "stderr",
       "text": [
        "WARNING:pypot.dynamixel.error:Communication error after sending DxlSyncReadDataPacket(ids=(33, 34, 35, 36, 37, 41, 42, 43, 44, 51, 52, 53, 54), address=36, length=6)\n"
       ]
      },
      {
       "output_type": "stream",
       "stream": "stderr",
       "text": [
        "WARNING:pypot.dynamixel.error:Communication error after sending DxlSyncReadDataPacket(ids=(33, 34, 35, 36, 37, 41, 42, 43, 44, 51, 52, 53, 54), address=36, length=6)\n"
       ]
      },
      {
       "output_type": "stream",
       "stream": "stderr",
       "text": [
        "WARNING:pypot.dynamixel.error:Communication error after sending DxlSyncReadDataPacket(ids=(33, 34, 35, 36, 37, 41, 42, 43, 44, 51, 52, 53, 54), address=36, length=6)\n"
       ]
      },
      {
       "output_type": "stream",
       "stream": "stderr",
       "text": [
        "WARNING:pypot.dynamixel.error:Communication error after sending DxlSyncReadDataPacket(ids=(33, 34, 35, 36, 37, 41, 42, 43, 44, 51, 52, 53, 54), address=36, length=6)\n"
       ]
      },
      {
       "output_type": "stream",
       "stream": "stderr",
       "text": [
        "WARNING:pypot.dynamixel.error:Communication error after sending DxlSyncReadDataPacket(ids=(33, 34, 35, 36, 37, 41, 42, 43, 44, 51, 52, 53, 54), address=36, length=6)\n"
       ]
      },
      {
       "output_type": "stream",
       "stream": "stderr",
       "text": [
        "WARNING:pypot.dynamixel.error:Communication error after sending DxlSyncReadDataPacket(ids=(33, 34, 35, 36, 37, 41, 42, 43, 44, 51, 52, 53, 54), address=36, length=6)\n"
       ]
      },
      {
       "output_type": "stream",
       "stream": "stderr",
       "text": [
        "WARNING:pypot.dynamixel.error:Communication error after sending DxlSyncReadDataPacket(ids=(33, 34, 35, 36, 37, 41, 42, 43, 44, 51, 52, 53, 54), address=36, length=6)\n"
       ]
      },
      {
       "output_type": "stream",
       "stream": "stderr",
       "text": [
        "WARNING:pypot.dynamixel.error:Communication error after sending DxlSyncReadDataPacket(ids=(33, 34, 35, 36, 37, 41, 42, 43, 44, 51, 52, 53, 54), address=36, length=6)\n"
       ]
      },
      {
       "output_type": "stream",
       "stream": "stderr",
       "text": [
        "WARNING:pypot.dynamixel.error:Communication error after sending DxlSyncReadDataPacket(ids=(33, 34, 35, 36, 37, 41, 42, 43, 44, 51, 52, 53, 54), address=36, length=6)\n"
       ]
      },
      {
       "output_type": "stream",
       "stream": "stderr",
       "text": [
        "WARNING:pypot.dynamixel.error:Communication error after sending DxlSyncReadDataPacket(ids=(33, 34, 35, 36, 37, 41, 42, 43, 44, 51, 52, 53, 54), address=36, length=6)\n"
       ]
      },
      {
       "output_type": "stream",
       "stream": "stderr",
       "text": [
        "WARNING:pypot.dynamixel.error:Communication error after sending DxlSyncReadDataPacket(ids=(33, 34, 35, 36, 37, 41, 42, 43, 44, 51, 52, 53, 54), address=36, length=6)\n"
       ]
      },
      {
       "output_type": "stream",
       "stream": "stderr",
       "text": [
        "WARNING:pypot.dynamixel.error:Communication error after sending DxlSyncReadDataPacket(ids=(33, 34, 35, 36, 37, 41, 42, 43, 44, 51, 52, 53, 54), address=36, length=6)\n"
       ]
      },
      {
       "output_type": "stream",
       "stream": "stderr",
       "text": [
        "WARNING:pypot.dynamixel.error:Communication error after sending DxlSyncReadDataPacket(ids=(33, 34, 35, 36, 37, 41, 42, 43, 44, 51, 52, 53, 54), address=36, length=6)\n"
       ]
      },
      {
       "output_type": "stream",
       "stream": "stderr",
       "text": [
        "WARNING:pypot.dynamixel.error:Communication error after sending DxlSyncReadDataPacket(ids=(33, 34, 35, 36, 37, 41, 42, 43, 44, 51, 52, 53, 54), address=36, length=6)\n"
       ]
      },
      {
       "output_type": "stream",
       "stream": "stderr",
       "text": [
        "WARNING:pypot.dynamixel.error:Communication error after sending DxlSyncReadDataPacket(ids=(33, 34, 35, 36, 37, 41, 42, 43, 44, 51, 52, 53, 54), address=36, length=6)\n"
       ]
      },
      {
       "output_type": "stream",
       "stream": "stderr",
       "text": [
        "WARNING:pypot.dynamixel.error:Communication error after sending DxlSyncReadDataPacket(ids=(33, 34, 35, 36, 37, 41, 42, 43, 44, 51, 52, 53, 54), address=36, length=6)\n"
       ]
      },
      {
       "output_type": "stream",
       "stream": "stderr",
       "text": [
        "WARNING:pypot.dynamixel.error:Communication error after sending DxlSyncReadDataPacket(ids=(33, 34, 35, 36, 37, 41, 42, 43, 44, 51, 52, 53, 54), address=36, length=6)\n"
       ]
      },
      {
       "output_type": "stream",
       "stream": "stderr",
       "text": [
        "WARNING:pypot.dynamixel.error:Communication error after sending DxlSyncReadDataPacket(ids=(33, 34, 35, 36, 37, 41, 42, 43, 44, 51, 52, 53, 54), address=36, length=6)\n"
       ]
      },
      {
       "output_type": "stream",
       "stream": "stderr",
       "text": [
        "WARNING:pypot.dynamixel.error:Communication error after sending DxlSyncReadDataPacket(ids=(33, 34, 35, 36, 37, 41, 42, 43, 44, 51, 52, 53, 54), address=36, length=6)\n"
       ]
      },
      {
       "output_type": "stream",
       "stream": "stderr",
       "text": [
        "WARNING:pypot.dynamixel.error:Communication error after sending DxlSyncReadDataPacket(ids=(33, 34, 35, 36, 37, 41, 42, 43, 44, 51, 52, 53, 54), address=6, length=4)\n"
       ]
      },
      {
       "output_type": "stream",
       "stream": "stderr",
       "text": [
        "WARNING:pypot.dynamixel.error:Communication error after sending DxlSyncReadDataPacket(ids=(33, 34, 35, 36, 37, 41, 42, 43, 44, 51, 52, 53, 54), address=36, length=6)\n"
       ]
      },
      {
       "output_type": "stream",
       "stream": "stderr",
       "text": [
        "WARNING:pypot.dynamixel.error:Communication error after sending DxlSyncReadDataPacket(ids=(33, 34, 35, 36, 37, 41, 42, 43, 44, 51, 52, 53, 54), address=36, length=6)\n"
       ]
      },
      {
       "output_type": "stream",
       "stream": "stderr",
       "text": [
        "WARNING:pypot.dynamixel.error:Communication error after sending DxlSyncReadDataPacket(ids=(33, 34, 35, 36, 37, 41, 42, 43, 44, 51, 52, 53, 54), address=42, length=1)\n"
       ]
      },
      {
       "output_type": "stream",
       "stream": "stderr",
       "text": [
        "WARNING:pypot.dynamixel.error:Communication error after sending DxlSyncReadDataPacket(ids=(33, 34, 35, 36, 37, 41, 42, 43, 44, 51, 52, 53, 54), address=43, length=1)\n"
       ]
      },
      {
       "output_type": "stream",
       "stream": "stderr",
       "text": [
        "WARNING:pypot.dynamixel.error:Communication error after sending DxlSyncReadDataPacket(ids=(33, 34, 35, 36, 37, 41, 42, 43, 44, 51, 52, 53, 54), address=36, length=6)\n"
       ]
      },
      {
       "output_type": "stream",
       "stream": "stderr",
       "text": [
        "WARNING:pypot.dynamixel.error:Communication error after sending DxlSyncReadDataPacket(ids=(33, 34, 35, 36, 37, 41, 42, 43, 44, 51, 52, 53, 54), address=36, length=6)\n"
       ]
      },
      {
       "output_type": "stream",
       "stream": "stderr",
       "text": [
        "WARNING:pypot.dynamixel.error:Communication error after sending DxlSyncReadDataPacket(ids=(33, 34, 35, 36, 37, 41, 42, 43, 44, 51, 52, 53, 54), address=36, length=6)\n"
       ]
      },
      {
       "output_type": "stream",
       "stream": "stderr",
       "text": [
        "WARNING:pypot.dynamixel.error:Communication error after sending DxlSyncReadDataPacket(ids=(33, 34, 35, 36, 37, 41, 42, 43, 44, 51, 52, 53, 54), address=36, length=6)\n"
       ]
      },
      {
       "output_type": "stream",
       "stream": "stderr",
       "text": [
        "WARNING:pypot.dynamixel.error:Communication error after sending DxlSyncReadDataPacket(ids=(33, 34, 35, 36, 37, 41, 42, 43, 44, 51, 52, 53, 54), address=36, length=6)\n"
       ]
      },
      {
       "output_type": "stream",
       "stream": "stderr",
       "text": [
        "WARNING:pypot.dynamixel.error:Communication error after sending DxlSyncReadDataPacket(ids=(33, 34, 35, 36, 37, 41, 42, 43, 44, 51, 52, 53, 54), address=36, length=6)\n"
       ]
      },
      {
       "output_type": "stream",
       "stream": "stderr",
       "text": [
        "WARNING:pypot.dynamixel.error:Communication error after sending DxlSyncReadDataPacket(ids=(33, 34, 35, 36, 37, 41, 42, 43, 44, 51, 52, 53, 54), address=36, length=6)\n"
       ]
      },
      {
       "output_type": "stream",
       "stream": "stderr",
       "text": [
        "WARNING:pypot.dynamixel.error:Communication error after sending DxlSyncReadDataPacket(ids=(33, 34, 35, 36, 37, 41, 42, 43, 44, 51, 52, 53, 54), address=36, length=6)\n"
       ]
      },
      {
       "output_type": "stream",
       "stream": "stderr",
       "text": [
        "WARNING:pypot.dynamixel.error:Communication error after sending DxlSyncReadDataPacket(ids=(33, 34, 35, 36, 37, 41, 42, 43, 44, 51, 52, 53, 54), address=36, length=6)\n"
       ]
      },
      {
       "output_type": "stream",
       "stream": "stderr",
       "text": [
        "WARNING:pypot.dynamixel.error:Communication error after sending DxlSyncReadDataPacket(ids=(33, 34, 35, 36, 37, 41, 42, 43, 44, 51, 52, 53, 54), address=36, length=6)\n"
       ]
      },
      {
       "output_type": "stream",
       "stream": "stderr",
       "text": [
        "WARNING:pypot.dynamixel.error:Communication error after sending DxlSyncReadDataPacket(ids=(33, 34, 35, 36, 37, 41, 42, 43, 44, 51, 52, 53, 54), address=36, length=6)\n"
       ]
      },
      {
       "output_type": "stream",
       "stream": "stderr",
       "text": [
        "WARNING:pypot.dynamixel.error:Communication error after sending DxlSyncReadDataPacket(ids=(33, 34, 35, 36, 37, 41, 42, 43, 44, 51, 52, 53, 54), address=36, length=6)\n"
       ]
      },
      {
       "output_type": "stream",
       "stream": "stderr",
       "text": [
        "WARNING:pypot.dynamixel.error:Communication error after sending DxlSyncReadDataPacket(ids=(33, 34, 35, 36, 37, 41, 42, 43, 44, 51, 52, 53, 54), address=36, length=6)\n"
       ]
      },
      {
       "output_type": "stream",
       "stream": "stderr",
       "text": [
        "WARNING:pypot.dynamixel.error:Communication error after sending DxlSyncReadDataPacket(ids=(33, 34, 35, 36, 37, 41, 42, 43, 44, 51, 52, 53, 54), address=36, length=6)\n"
       ]
      },
      {
       "output_type": "stream",
       "stream": "stderr",
       "text": [
        "WARNING:pypot.dynamixel.error:Communication error after sending DxlSyncReadDataPacket(ids=(33, 34, 35, 36, 37, 41, 42, 43, 44, 51, 52, 53, 54), address=36, length=6)\n"
       ]
      },
      {
       "output_type": "stream",
       "stream": "stderr",
       "text": [
        "WARNING:pypot.dynamixel.error:Communication error after sending DxlSyncReadDataPacket(ids=(33, 34, 35, 36, 37, 41, 42, 43, 44, 51, 52, 53, 54), address=36, length=6)\n"
       ]
      },
      {
       "output_type": "stream",
       "stream": "stderr",
       "text": [
        "WARNING:pypot.dynamixel.error:Communication error after sending DxlSyncReadDataPacket(ids=(33, 34, 35, 36, 37, 41, 42, 43, 44, 51, 52, 53, 54), address=36, length=6)\n"
       ]
      },
      {
       "output_type": "stream",
       "stream": "stderr",
       "text": [
        "WARNING:pypot.dynamixel.error:Communication error after sending DxlSyncReadDataPacket(ids=(33, 34, 35, 36, 37, 41, 42, 43, 44, 51, 52, 53, 54), address=36, length=6)\n"
       ]
      },
      {
       "output_type": "stream",
       "stream": "stderr",
       "text": [
        "WARNING:pypot.dynamixel.error:Communication error after sending DxlSyncReadDataPacket(ids=(33, 34, 35, 36, 37, 41, 42, 43, 44, 51, 52, 53, 54), address=36, length=6)\n"
       ]
      },
      {
       "output_type": "stream",
       "stream": "stderr",
       "text": [
        "WARNING:pypot.dynamixel.error:Communication error after sending DxlSyncReadDataPacket(ids=(33, 34, 35, 36, 37, 41, 42, 43, 44, 51, 52, 53, 54), address=36, length=6)\n"
       ]
      },
      {
       "output_type": "stream",
       "stream": "stderr",
       "text": [
        "WARNING:pypot.dynamixel.error:Communication error after sending DxlSyncReadDataPacket(ids=(33, 34, 35, 36, 37, 41, 42, 43, 44, 51, 52, 53, 54), address=36, length=6)\n"
       ]
      },
      {
       "output_type": "stream",
       "stream": "stderr",
       "text": [
        "WARNING:pypot.dynamixel.error:Communication error after sending DxlSyncReadDataPacket(ids=(33, 34, 35, 36, 37, 41, 42, 43, 44, 51, 52, 53, 54), address=36, length=6)\n"
       ]
      },
      {
       "output_type": "stream",
       "stream": "stderr",
       "text": [
        "WARNING:pypot.dynamixel.error:Communication error after sending DxlSyncReadDataPacket(ids=(33, 34, 35, 36, 37, 41, 42, 43, 44, 51, 52, 53, 54), address=36, length=6)\n"
       ]
      },
      {
       "output_type": "stream",
       "stream": "stderr",
       "text": [
        "WARNING:pypot.dynamixel.error:Communication error after sending DxlSyncReadDataPacket(ids=(33, 34, 35, 36, 37, 41, 42, 43, 44, 51, 52, 53, 54), address=36, length=6)\n"
       ]
      },
      {
       "output_type": "stream",
       "stream": "stderr",
       "text": [
        "WARNING:pypot.dynamixel.error:Communication error after sending DxlSyncReadDataPacket(ids=(33, 34, 35, 36, 37, 41, 42, 43, 44, 51, 52, 53, 54), address=36, length=6)\n"
       ]
      },
      {
       "output_type": "stream",
       "stream": "stderr",
       "text": [
        "WARNING:pypot.dynamixel.error:Communication error after sending DxlSyncReadDataPacket(ids=(33, 34, 35, 36, 37, 41, 42, 43, 44, 51, 52, 53, 54), address=36, length=6)\n"
       ]
      },
      {
       "output_type": "stream",
       "stream": "stderr",
       "text": [
        "WARNING:pypot.dynamixel.error:Communication error after sending DxlSyncReadDataPacket(ids=(33, 34, 35, 36, 37, 41, 42, 43, 44, 51, 52, 53, 54), address=36, length=6)\n"
       ]
      },
      {
       "output_type": "stream",
       "stream": "stderr",
       "text": [
        "WARNING:pypot.dynamixel.error:Communication error after sending DxlSyncReadDataPacket(ids=(33, 34, 35, 36, 37, 41, 42, 43, 44, 51, 52, 53, 54), address=36, length=6)\n"
       ]
      },
      {
       "output_type": "stream",
       "stream": "stderr",
       "text": [
        "WARNING:pypot.dynamixel.error:Communication error after sending DxlSyncReadDataPacket(ids=(33, 34, 35, 36, 37, 41, 42, 43, 44, 51, 52, 53, 54), address=36, length=6)\n"
       ]
      },
      {
       "output_type": "stream",
       "stream": "stderr",
       "text": [
        "WARNING:pypot.dynamixel.error:Communication error after sending DxlSyncReadDataPacket(ids=(33, 34, 35, 36, 37, 41, 42, 43, 44, 51, 52, 53, 54), address=36, length=6)\n"
       ]
      },
      {
       "output_type": "stream",
       "stream": "stderr",
       "text": [
        "WARNING:pypot.dynamixel.error:Communication error after sending DxlSyncReadDataPacket(ids=(33, 34, 35, 36, 37, 41, 42, 43, 44, 51, 52, 53, 54), address=36, length=6)\n"
       ]
      },
      {
       "output_type": "stream",
       "stream": "stderr",
       "text": [
        "WARNING:pypot.dynamixel.error:Communication error after sending DxlSyncReadDataPacket(ids=(33, 34, 35, 36, 37, 41, 42, 43, 44, 51, 52, 53, 54), address=36, length=6)\n"
       ]
      },
      {
       "output_type": "stream",
       "stream": "stderr",
       "text": [
        "WARNING:pypot.dynamixel.error:Communication error after sending DxlSyncReadDataPacket(ids=(33, 34, 35, 36, 37, 41, 42, 43, 44, 51, 52, 53, 54), address=36, length=6)\n"
       ]
      },
      {
       "output_type": "stream",
       "stream": "stderr",
       "text": [
        "WARNING:pypot.dynamixel.error:Communication error after sending DxlSyncReadDataPacket(ids=(33, 34, 35, 36, 37, 41, 42, 43, 44, 51, 52, 53, 54), address=36, length=6)\n"
       ]
      },
      {
       "output_type": "stream",
       "stream": "stderr",
       "text": [
        "WARNING:pypot.dynamixel.error:Communication error after sending DxlSyncReadDataPacket(ids=(33, 34, 35, 36, 37, 41, 42, 43, 44, 51, 52, 53, 54), address=36, length=6)\n"
       ]
      },
      {
       "output_type": "stream",
       "stream": "stderr",
       "text": [
        "WARNING:pypot.dynamixel.error:Communication error after sending DxlSyncReadDataPacket(ids=(33, 34, 35, 36, 37, 41, 42, 43, 44, 51, 52, 53, 54), address=36, length=6)\n"
       ]
      },
      {
       "output_type": "stream",
       "stream": "stderr",
       "text": [
        "WARNING:pypot.dynamixel.error:Communication error after sending DxlSyncReadDataPacket(ids=(33, 34, 35, 36, 37, 41, 42, 43, 44, 51, 52, 53, 54), address=36, length=6)\n"
       ]
      },
      {
       "output_type": "stream",
       "stream": "stderr",
       "text": [
        "WARNING:pypot.dynamixel.error:Communication error after sending DxlSyncReadDataPacket(ids=(33, 34, 35, 36, 37, 41, 42, 43, 44, 51, 52, 53, 54), address=36, length=6)\n"
       ]
      },
      {
       "output_type": "stream",
       "stream": "stderr",
       "text": [
        "WARNING:pypot.dynamixel.error:Communication error after sending DxlSyncReadDataPacket(ids=(33, 34, 35, 36, 37, 41, 42, 43, 44, 51, 52, 53, 54), address=36, length=6)\n"
       ]
      },
      {
       "output_type": "stream",
       "stream": "stderr",
       "text": [
        "WARNING:pypot.dynamixel.error:Communication error after sending DxlSyncReadDataPacket(ids=(33, 34, 35, 36, 37, 41, 42, 43, 44, 51, 52, 53, 54), address=36, length=6)\n"
       ]
      },
      {
       "output_type": "stream",
       "stream": "stderr",
       "text": [
        "WARNING:pypot.dynamixel.error:Communication error after sending DxlSyncReadDataPacket(ids=(33, 34, 35, 36, 37, 41, 42, 43, 44, 51, 52, 53, 54), address=36, length=6)\n"
       ]
      },
      {
       "output_type": "stream",
       "stream": "stderr",
       "text": [
        "WARNING:pypot.dynamixel.error:Communication error after sending DxlSyncReadDataPacket(ids=(33, 34, 35, 36, 37, 41, 42, 43, 44, 51, 52, 53, 54), address=36, length=6)\n"
       ]
      },
      {
       "output_type": "stream",
       "stream": "stderr",
       "text": [
        "WARNING:pypot.dynamixel.error:Communication error after sending DxlSyncReadDataPacket(ids=(33, 34, 35, 36, 37, 41, 42, 43, 44, 51, 52, 53, 54), address=36, length=6)\n"
       ]
      },
      {
       "output_type": "stream",
       "stream": "stderr",
       "text": [
        "WARNING:pypot.dynamixel.error:Communication error after sending DxlSyncReadDataPacket(ids=(33, 34, 35, 36, 37, 41, 42, 43, 44, 51, 52, 53, 54), address=36, length=6)\n"
       ]
      },
      {
       "output_type": "stream",
       "stream": "stderr",
       "text": [
        "WARNING:pypot.dynamixel.error:Communication error after sending DxlSyncReadDataPacket(ids=(33, 34, 35, 36, 37, 41, 42, 43, 44, 51, 52, 53, 54), address=36, length=6)\n"
       ]
      },
      {
       "output_type": "stream",
       "stream": "stderr",
       "text": [
        "WARNING:pypot.dynamixel.error:Communication error after sending DxlSyncReadDataPacket(ids=(33, 34, 35, 36, 37, 41, 42, 43, 44, 51, 52, 53, 54), address=36, length=6)\n"
       ]
      },
      {
       "output_type": "stream",
       "stream": "stderr",
       "text": [
        "WARNING:pypot.dynamixel.error:Communication error after sending DxlSyncReadDataPacket(ids=(33, 34, 35, 36, 37, 41, 42, 43, 44, 51, 52, 53, 54), address=36, length=6)\n"
       ]
      },
      {
       "output_type": "stream",
       "stream": "stderr",
       "text": [
        "WARNING:pypot.dynamixel.error:Communication error after sending DxlSyncReadDataPacket(ids=(33, 34, 35, 36, 37, 41, 42, 43, 44, 51, 52, 53, 54), address=6, length=4)\n"
       ]
      },
      {
       "output_type": "stream",
       "stream": "stderr",
       "text": [
        "WARNING:pypot.dynamixel.error:Communication error after sending DxlSyncReadDataPacket(ids=(33, 34, 35, 36, 37, 41, 42, 43, 44, 51, 52, 53, 54), address=43, length=1)\n"
       ]
      },
      {
       "output_type": "stream",
       "stream": "stderr",
       "text": [
        "WARNING:pypot.dynamixel.error:Communication error after sending DxlSyncReadDataPacket(ids=(33, 34, 35, 36, 37, 41, 42, 43, 44, 51, 52, 53, 54), address=42, length=1)\n"
       ]
      },
      {
       "output_type": "stream",
       "stream": "stderr",
       "text": [
        "WARNING:pypot.dynamixel.error:Communication error after sending DxlSyncReadDataPacket(ids=(33, 34, 35, 36, 37, 41, 42, 43, 44, 51, 52, 53, 54), address=36, length=6)\n"
       ]
      },
      {
       "output_type": "stream",
       "stream": "stderr",
       "text": [
        "WARNING:pypot.dynamixel.error:Communication error after sending DxlSyncReadDataPacket(ids=(33, 34, 35, 36, 37, 41, 42, 43, 44, 51, 52, 53, 54), address=36, length=6)\n"
       ]
      },
      {
       "output_type": "stream",
       "stream": "stderr",
       "text": [
        "WARNING:pypot.dynamixel.error:Communication error after sending DxlSyncReadDataPacket(ids=(33, 34, 35, 36, 37, 41, 42, 43, 44, 51, 52, 53, 54), address=36, length=6)\n"
       ]
      },
      {
       "output_type": "stream",
       "stream": "stderr",
       "text": [
        "WARNING:pypot.dynamixel.error:Communication error after sending DxlSyncReadDataPacket(ids=(33, 34, 35, 36, 37, 41, 42, 43, 44, 51, 52, 53, 54), address=36, length=6)\n"
       ]
      },
      {
       "output_type": "stream",
       "stream": "stderr",
       "text": [
        "WARNING:pypot.dynamixel.error:Communication error after sending DxlSyncReadDataPacket(ids=(33, 34, 35, 36, 37, 41, 42, 43, 44, 51, 52, 53, 54), address=36, length=6)\n"
       ]
      },
      {
       "output_type": "stream",
       "stream": "stderr",
       "text": [
        "WARNING:pypot.dynamixel.error:Communication error after sending DxlSyncReadDataPacket(ids=(33, 34, 35, 36, 37, 41, 42, 43, 44, 51, 52, 53, 54), address=36, length=6)\n"
       ]
      },
      {
       "output_type": "stream",
       "stream": "stderr",
       "text": [
        "WARNING:pypot.dynamixel.error:Communication error after sending DxlSyncReadDataPacket(ids=(33, 34, 35, 36, 37, 41, 42, 43, 44, 51, 52, 53, 54), address=36, length=6)\n"
       ]
      },
      {
       "output_type": "stream",
       "stream": "stderr",
       "text": [
        "WARNING:pypot.dynamixel.error:Communication error after sending DxlSyncReadDataPacket(ids=(33, 34, 35, 36, 37, 41, 42, 43, 44, 51, 52, 53, 54), address=36, length=6)\n"
       ]
      },
      {
       "output_type": "stream",
       "stream": "stderr",
       "text": [
        "WARNING:pypot.dynamixel.error:Communication error after sending DxlSyncReadDataPacket(ids=(33, 34, 35, 36, 37, 41, 42, 43, 44, 51, 52, 53, 54), address=36, length=6)\n"
       ]
      },
      {
       "output_type": "stream",
       "stream": "stderr",
       "text": [
        "WARNING:pypot.dynamixel.error:Communication error after sending DxlSyncReadDataPacket(ids=(33, 34, 35, 36, 37, 41, 42, 43, 44, 51, 52, 53, 54), address=36, length=6)\n"
       ]
      },
      {
       "output_type": "stream",
       "stream": "stderr",
       "text": [
        "WARNING:pypot.dynamixel.error:Communication error after sending DxlSyncReadDataPacket(ids=(33, 34, 35, 36, 37, 41, 42, 43, 44, 51, 52, 53, 54), address=36, length=6)\n"
       ]
      },
      {
       "output_type": "stream",
       "stream": "stderr",
       "text": [
        "WARNING:pypot.dynamixel.error:Communication error after sending DxlSyncReadDataPacket(ids=(33, 34, 35, 36, 37, 41, 42, 43, 44, 51, 52, 53, 54), address=36, length=6)\n"
       ]
      },
      {
       "output_type": "stream",
       "stream": "stderr",
       "text": [
        "WARNING:pypot.dynamixel.error:Communication error after sending DxlSyncReadDataPacket(ids=(33, 34, 35, 36, 37, 41, 42, 43, 44, 51, 52, 53, 54), address=36, length=6)\n"
       ]
      },
      {
       "output_type": "stream",
       "stream": "stderr",
       "text": [
        "WARNING:pypot.dynamixel.error:Communication error after sending DxlSyncReadDataPacket(ids=(33, 34, 35, 36, 37, 41, 42, 43, 44, 51, 52, 53, 54), address=36, length=6)\n"
       ]
      },
      {
       "output_type": "stream",
       "stream": "stderr",
       "text": [
        "WARNING:pypot.dynamixel.error:Communication error after sending DxlSyncReadDataPacket(ids=(33, 34, 35, 36, 37, 41, 42, 43, 44, 51, 52, 53, 54), address=36, length=6)\n"
       ]
      },
      {
       "output_type": "stream",
       "stream": "stderr",
       "text": [
        "WARNING:pypot.dynamixel.error:Communication error after sending DxlSyncReadDataPacket(ids=(33, 34, 35, 36, 37, 41, 42, 43, 44, 51, 52, 53, 54), address=36, length=6)\n"
       ]
      },
      {
       "output_type": "stream",
       "stream": "stderr",
       "text": [
        "WARNING:pypot.dynamixel.error:Communication error after sending DxlSyncReadDataPacket(ids=(33, 34, 35, 36, 37, 41, 42, 43, 44, 51, 52, 53, 54), address=36, length=6)\n"
       ]
      },
      {
       "output_type": "stream",
       "stream": "stderr",
       "text": [
        "WARNING:pypot.dynamixel.error:Communication error after sending DxlSyncReadDataPacket(ids=(33, 34, 35, 36, 37, 41, 42, 43, 44, 51, 52, 53, 54), address=36, length=6)\n"
       ]
      },
      {
       "output_type": "stream",
       "stream": "stderr",
       "text": [
        "WARNING:pypot.dynamixel.error:Communication error after sending DxlSyncReadDataPacket(ids=(33, 34, 35, 36, 37, 41, 42, 43, 44, 51, 52, 53, 54), address=36, length=6)\n"
       ]
      },
      {
       "output_type": "stream",
       "stream": "stderr",
       "text": [
        "Exception in thread Thread-8:\n",
        "Traceback (most recent call last):\n",
        "  File \"/Library/Frameworks/Python.framework/Versions/2.7/lib/python2.7/threading.py\", line 810, in __bootstrap_inner\n",
        "    self.run()\n",
        "  File \"/Library/Frameworks/Python.framework/Versions/2.7/lib/python2.7/threading.py\", line 763, in run\n",
        "    self.__target(*self.__args, **self.__kwargs)\n",
        "  File \"/Library/Frameworks/Python.framework/Versions/2.7/lib/python2.7/site-packages/pypot-2.1.2-py2.7.egg/pypot/utils/stoppablethread.py\", line 119, in _wrapped_target\n",
        "    self._target()\n",
        "  File \"/Library/Frameworks/Python.framework/Versions/2.7/lib/python2.7/site-packages/pypot-2.1.2-py2.7.egg/pypot/utils/stoppablethread.py\", line 179, in run\n",
        "    make_update_loop(self, self._update)\n",
        "  File \"/Library/Frameworks/Python.framework/Versions/2.7/lib/python2.7/site-packages/pypot-2.1.2-py2.7.egg/pypot/utils/stoppablethread.py\", line 152, in make_update_loop\n",
        "    update_func()\n",
        "  File \"/Library/Frameworks/Python.framework/Versions/2.7/lib/python2.7/site-packages/pypot-2.1.2-py2.7.egg/pypot/dynamixel/controller.py\", line 79, in update\n",
        "    self.get_register() if self.mode == 'get' else self.set_register()\n",
        "  File \"/Library/Frameworks/Python.framework/Versions/2.7/lib/python2.7/site-packages/pypot-2.1.2-py2.7.egg/pypot/dynamixel/controller.py\", line 101, in set_register\n",
        "    getattr(self.io, 'set_{}'.format(self.regname))(dict(zip(ids, values)))\n",
        "  File \"/Library/Frameworks/Python.framework/Versions/2.7/lib/python2.7/site-packages/pypot-2.1.2-py2.7.egg/pypot/dynamixel/io.py\", line 406, in my_setter\n",
        "    self._set_control_value(control, value_for_id, **kwargs)\n",
        "  File \"/Library/Frameworks/Python.framework/Versions/2.7/lib/python2.7/site-packages/pypot-2.1.2-py2.7.egg/pypot/dynamixel/io.py\", line 491, in _set_control_value\n",
        "    self._send_packet(wp, wait_for_status_packet=False)\n",
        "  File \"/Library/Frameworks/Python.framework/Versions/2.7/lib/python2.7/site-packages/pypot-2.1.2-py2.7.egg/pypot/dynamixel/io.py\", line 541, in _send_packet\n",
        "    return self.__real_send(instruction_packet, wait_for_status_packet, _force_lock)\n",
        "  File \"/Library/Frameworks/Python.framework/Versions/2.7/lib/python2.7/site-packages/pypot-2.1.2-py2.7.egg/pypot/dynamixel/io.py\", line 504, in __real_send\n",
        "    self.flush(_force_lock=True)\n",
        "  File \"/Library/Frameworks/Python.framework/Versions/2.7/lib/python2.7/site-packages/pypot-2.1.2-py2.7.egg/pypot/dynamixel/io.py\", line 158, in flush\n",
        "    self._serial.flushInput()\n",
        "  File \"build/bdist.macosx-10.6-intel/egg/serial/serialposix.py\", line 529, in flushInput\n",
        "    termios.tcflush(self.fd, TERMIOS.TCIFLUSH)\n",
        "error: (6, 'Device not configured')\n",
        "\n",
        "Exception in thread Thread-7:\n",
        "Traceback (most recent call last):\n",
        "  File \"/Library/Frameworks/Python.framework/Versions/2.7/lib/python2.7/threading.py\", line 810, in __bootstrap_inner\n",
        "    self.run()\n",
        "  File \"/Library/Frameworks/Python.framework/Versions/2.7/lib/python2.7/threading.py\", line 763, in run\n",
        "    self.__target(*self.__args, **self.__kwargs)\n",
        "  File \"/Library/Frameworks/Python.framework/Versions/2.7/lib/python2.7/site-packages/pypot-2.1.2-py2.7.egg/pypot/utils/stoppablethread.py\", line 119, in _wrapped_target\n",
        "    self._target()\n",
        "  File \"/Library/Frameworks/Python.framework/Versions/2.7/lib/python2.7/site-packages/pypot-2.1.2-py2.7.egg/pypot/utils/stoppablethread.py\", line 179, in run\n",
        "    make_update_loop(self, self._update)\n",
        "  File \"/Library/Frameworks/Python.framework/Versions/2.7/lib/python2.7/site-packages/pypot-2.1.2-py2.7.egg/pypot/utils/stoppablethread.py\", line 152, in make_update_loop\n",
        "    update_func()\n",
        "  File \"/Library/Frameworks/Python.framework/Versions/2.7/lib/python2.7/site-packages/pypot-2.1.2-py2.7.egg/pypot/dynamixel/controller.py\", line 79, in update\n",
        "    self.get_register() if self.mode == 'get' else self.set_register()\n",
        "  File \"/Library/Frameworks/Python.framework/Versions/2.7/lib/python2.7/site-packages/pypot-2.1.2-py2.7.egg/pypot/dynamixel/controller.py\", line 101, in set_register\n",
        "    getattr(self.io, 'set_{}'.format(self.regname))(dict(zip(ids, values)))\n",
        "  File \"/Library/Frameworks/Python.framework/Versions/2.7/lib/python2.7/site-packages/pypot-2.1.2-py2.7.egg/pypot/dynamixel/io.py\", line 406, in my_setter\n",
        "    self._set_control_value(control, value_for_id, **kwargs)\n",
        "  File \"/Library/Frameworks/Python.framework/Versions/2.7/lib/python2.7/site-packages/pypot-2.1.2-py2.7.egg/pypot/dynamixel/io.py\", line 491, in _set_control_value\n",
        "    self._send_packet(wp, wait_for_status_packet=False)\n",
        "  File \"/Library/Frameworks/Python.framework/Versions/2.7/lib/python2.7/site-packages/pypot-2.1.2-py2.7.egg/pypot/dynamixel/io.py\", line 541, in _send_packet\n",
        "    return self.__real_send(instruction_packet, wait_for_status_packet, _force_lock)\n",
        "  File \"/Library/Frameworks/Python.framework/Versions/2.7/lib/python2.7/site-packages/pypot-2.1.2-py2.7.egg/pypot/dynamixel/io.py\", line 504, in __real_send\n",
        "    self.flush(_force_lock=True)\n",
        "  File \"/Library/Frameworks/Python.framework/Versions/2.7/lib/python2.7/site-packages/pypot-2.1.2-py2.7.egg/pypot/dynamixel/io.py\", line 158, in flush\n",
        "    self._serial.flushInput()\n",
        "  File \"build/bdist.macosx-10.6-intel/egg/serial/serialposix.py\", line 529, in flushInput\n",
        "    termios.tcflush(self.fd, TERMIOS.TCIFLUSH)\n",
        "error: (6, 'Device not configured')\n",
        "\n",
        "Exception in thread Thread-4:\n",
        "Traceback (most recent call last):\n",
        "  File \"/Library/Frameworks/Python.framework/Versions/2.7/lib/python2.7/threading.py\", line 810, in __bootstrap_inner\n",
        "    self.run()\n",
        "  File \"/Library/Frameworks/Python.framework/Versions/2.7/lib/python2.7/threading.py\", line 763, in run\n",
        "    self.__target(*self.__args, **self.__kwargs)\n",
        "  File \"/Library/Frameworks/Python.framework/Versions/2.7/lib/python2.7/site-packages/pypot-2.1.2-py2.7.egg/pypot/utils/stoppablethread.py\", line 119, in _wrapped_target\n",
        "    self._target()\n",
        "  File \"/Library/Frameworks/Python.framework/Versions/2.7/lib/python2.7/site-packages/pypot-2.1.2-py2.7.egg/pypot/utils/stoppablethread.py\", line 179, in run\n",
        "    make_update_loop(self, self._update)\n",
        "  File \"/Library/Frameworks/Python.framework/Versions/2.7/lib/python2.7/site-packages/pypot-2.1.2-py2.7.egg/pypot/utils/stoppablethread.py\", line 152, in make_update_loop\n",
        "    update_func()\n",
        "  File \"/Library/Frameworks/Python.framework/Versions/2.7/lib/python2.7/site-packages/pypot-2.1.2-py2.7.egg/pypot/dynamixel/controller.py\", line 132, in update\n",
        "    self.get_present_position_speed_load()\n",
        "  File \"/Library/Frameworks/Python.framework/Versions/2.7/lib/python2.7/site-packages/pypot-2.1.2-py2.7.egg/pypot/dynamixel/controller.py\", line 136, in get_present_position_speed_load\n",
        "    values = self.io.get_present_position_speed_load(self.ids)\n",
        "  File \"/Library/Frameworks/Python.framework/Versions/2.7/lib/python2.7/site-packages/pypot-2.1.2-py2.7.egg/pypot/dynamixel/io.py\", line 396, in my_getter\n",
        "    return self._get_control_value(control, ids, **kwargs)\n",
        "  File \"/Library/Frameworks/Python.framework/Versions/2.7/lib/python2.7/site-packages/pypot-2.1.2-py2.7.egg/pypot/dynamixel/io.py\", line 423, in _get_control_value\n",
        "    sp = self._send_packet(rp, error_handler=error_handler)\n",
        "  File \"/Library/Frameworks/Python.framework/Versions/2.7/lib/python2.7/site-packages/pypot-2.1.2-py2.7.egg/pypot/dynamixel/io.py\", line 544, in _send_packet\n",
        "    sp = self.__real_send(instruction_packet, wait_for_status_packet, _force_lock)\n",
        "  File \"/Library/Frameworks/Python.framework/Versions/2.7/lib/python2.7/site-packages/pypot-2.1.2-py2.7.egg/pypot/dynamixel/io.py\", line 516, in __real_send\n",
        "    data = self._serial.read(DxlPacketHeader.length)\n",
        "  File \"build/bdist.macosx-10.6-intel/egg/serial/serialposix.py\", line 485, in read\n",
        "    raise SerialException('read failed: %s' % (e,))\n",
        "SerialException: read failed: [Errno 6] Device not configured\n",
        "\n",
        "Exception in thread Thread-6:\n",
        "Traceback (most recent call last):\n",
        "  File \"/Library/Frameworks/Python.framework/Versions/2.7/lib/python2.7/threading.py\", line 810, in __bootstrap_inner\n",
        "    self.run()\n",
        "  File \"/Library/Frameworks/Python.framework/Versions/2.7/lib/python2.7/threading.py\", line 763, in run\n",
        "    self.__target(*self.__args, **self.__kwargs)\n",
        "  File \"/Library/Frameworks/Python.framework/Versions/2.7/lib/python2.7/site-packages/pypot-2.1.2-py2.7.egg/pypot/utils/stoppablethread.py\", line 119, in _wrapped_target\n",
        "    self._target()\n",
        "  File \"/Library/Frameworks/Python.framework/Versions/2.7/lib/python2.7/site-packages/pypot-2.1.2-py2.7.egg/pypot/utils/stoppablethread.py\", line 179, in run\n",
        "    make_update_loop(self, self._update)\n",
        "  File \"/Library/Frameworks/Python.framework/Versions/2.7/lib/python2.7/site-packages/pypot-2.1.2-py2.7.egg/pypot/utils/stoppablethread.py\", line 152, in make_update_loop\n",
        "    update_func()\n",
        "  File \"/Library/Frameworks/Python.framework/Versions/2.7/lib/python2.7/site-packages/pypot-2.1.2-py2.7.egg/pypot/dynamixel/controller.py\", line 79, in update\n",
        "    self.get_register() if self.mode == 'get' else self.set_register()\n",
        "  File \"/Library/Frameworks/Python.framework/Versions/2.7/lib/python2.7/site-packages/pypot-2.1.2-py2.7.egg/pypot/dynamixel/controller.py\", line 101, in set_register\n",
        "    getattr(self.io, 'set_{}'.format(self.regname))(dict(zip(ids, values)))\n",
        "  File \"/Library/Frameworks/Python.framework/Versions/2.7/lib/python2.7/site-packages/pypot-2.1.2-py2.7.egg/pypot/dynamixel/io.py\", line 352, in set_pid_gain\n",
        "    self._set_pid_gain(pid_for_id, **kwargs)\n",
        "  File \"/Library/Frameworks/Python.framework/Versions/2.7/lib/python2.7/site-packages/pypot-2.1.2-py2.7.egg/pypot/dynamixel/io.py\", line 406, in my_setter\n",
        "    self._set_control_value(control, value_for_id, **kwargs)\n",
        "  File \"/Library/Frameworks/Python.framework/Versions/2.7/lib/python2.7/site-packages/pypot-2.1.2-py2.7.egg/pypot/dynamixel/io.py\", line 491, in _set_control_value\n",
        "    self._send_packet(wp, wait_for_status_packet=False)\n",
        "  File \"/Library/Frameworks/Python.framework/Versions/2.7/lib/python2.7/site-packages/pypot-2.1.2-py2.7.egg/pypot/dynamixel/io.py\", line 541, in _send_packet\n",
        "    return self.__real_send(instruction_packet, wait_for_status_packet, _force_lock)\n",
        "  File \"/Library/Frameworks/Python.framework/Versions/2.7/lib/python2.7/site-packages/pypot-2.1.2-py2.7.egg/pypot/dynamixel/io.py\", line 504, in __real_send\n",
        "    self.flush(_force_lock=True)\n",
        "  File \"/Library/Frameworks/Python.framework/Versions/2.7/lib/python2.7/site-packages/pypot-2.1.2-py2.7.egg/pypot/dynamixel/io.py\", line 158, in flush\n",
        "    self._serial.flushInput()\n",
        "  File \"build/bdist.macosx-10.6-intel/egg/serial/serialposix.py\", line 529, in flushInput\n",
        "    termios.tcflush(self.fd, TERMIOS.TCIFLUSH)\n",
        "error: (6, 'Device not configured')\n",
        "\n",
        "Exception in thread Thread-5:\n",
        "Traceback (most recent call last):\n",
        "  File \"/Library/Frameworks/Python.framework/Versions/2.7/lib/python2.7/threading.py\", line 810, in __bootstrap_inner\n",
        "    self.run()\n",
        "  File \"/Library/Frameworks/Python.framework/Versions/2.7/lib/python2.7/threading.py\", line 763, in run\n",
        "    self.__target(*self.__args, **self.__kwargs)\n",
        "  File \"/Library/Frameworks/Python.framework/Versions/2.7/lib/python2.7/site-packages/pypot-2.1.2-py2.7.egg/pypot/utils/stoppablethread.py\", line 119, in _wrapped_target\n",
        "    self._target()\n",
        "  File \"/Library/Frameworks/Python.framework/Versions/2.7/lib/python2.7/site-packages/pypot-2.1.2-py2.7.egg/pypot/utils/stoppablethread.py\", line 179, in run\n",
        "    make_update_loop(self, self._update)\n",
        "  File \"/Library/Frameworks/Python.framework/Versions/2.7/lib/python2.7/site-packages/pypot-2.1.2-py2.7.egg/pypot/utils/stoppablethread.py\", line 152, in make_update_loop\n",
        "    update_func()\n",
        "  File \"/Library/Frameworks/Python.framework/Versions/2.7/lib/python2.7/site-packages/pypot-2.1.2-py2.7.egg/pypot/dynamixel/controller.py\", line 79, in update\n",
        "    self.get_register() if self.mode == 'get' else self.set_register()\n",
        "  File \"/Library/Frameworks/Python.framework/Versions/2.7/lib/python2.7/site-packages/pypot-2.1.2-py2.7.egg/pypot/dynamixel/controller.py\", line 111, in get_register\n",
        "    values = self.io.get_angle_limit(ids)\n",
        "  File \"/Library/Frameworks/Python.framework/Versions/2.7/lib/python2.7/site-packages/pypot-2.1.2-py2.7.egg/pypot/dynamixel/io.py\", line 396, in my_getter\n",
        "    return self._get_control_value(control, ids, **kwargs)\n",
        "  File \"/Library/Frameworks/Python.framework/Versions/2.7/lib/python2.7/site-packages/pypot-2.1.2-py2.7.egg/pypot/dynamixel/io.py\", line 423, in _get_control_value\n",
        "    sp = self._send_packet(rp, error_handler=error_handler)\n",
        "  File \"/Library/Frameworks/Python.framework/Versions/2.7/lib/python2.7/site-packages/pypot-2.1.2-py2.7.egg/pypot/dynamixel/io.py\", line 544, in _send_packet\n",
        "    sp = self.__real_send(instruction_packet, wait_for_status_packet, _force_lock)\n",
        "  File \"/Library/Frameworks/Python.framework/Versions/2.7/lib/python2.7/site-packages/pypot-2.1.2-py2.7.egg/pypot/dynamixel/io.py\", line 504, in __real_send\n",
        "    self.flush(_force_lock=True)\n",
        "  File \"/Library/Frameworks/Python.framework/Versions/2.7/lib/python2.7/site-packages/pypot-2.1.2-py2.7.egg/pypot/dynamixel/io.py\", line 158, in flush\n",
        "    self._serial.flushInput()\n",
        "  File \"build/bdist.macosx-10.6-intel/egg/serial/serialposix.py\", line 529, in flushInput\n",
        "    termios.tcflush(self.fd, TERMIOS.TCIFLUSH)\n",
        "error: (6, 'Device not configured')\n",
        "\n"
       ]
      }
     ],
     "prompt_number": 6
    },
    {
     "cell_type": "code",
     "collapsed": false,
     "input": [
      "cherry.robot.normal_behave.start()"
     ],
     "language": "python",
     "metadata": {},
     "outputs": []
    },
    {
     "cell_type": "code",
     "collapsed": false,
     "input": [
      "cherry.robot.yes_behave.start()"
     ],
     "language": "python",
     "metadata": {},
     "outputs": []
    },
    {
     "cell_type": "code",
     "collapsed": false,
     "input": [
      "cherry.robot.yes_behave.stop()"
     ],
     "language": "python",
     "metadata": {},
     "outputs": []
    },
    {
     "cell_type": "code",
     "collapsed": false,
     "input": [
      "cherry.robot.copy_arm_behave.start()"
     ],
     "language": "python",
     "metadata": {},
     "outputs": [
      {
       "ename": "NameError",
       "evalue": "name 'cherry' is not defined",
       "output_type": "pyerr",
       "traceback": [
        "\u001b[0;31m---------------------------------------------------------------------------\u001b[0m\n\u001b[0;31mNameError\u001b[0m                                 Traceback (most recent call last)",
        "\u001b[0;32m<ipython-input-3-d828fe76f406>\u001b[0m in \u001b[0;36m<module>\u001b[0;34m()\u001b[0m\n\u001b[0;32m----> 1\u001b[0;31m \u001b[0mcherry\u001b[0m\u001b[0;34m.\u001b[0m\u001b[0mrobot\u001b[0m\u001b[0;34m.\u001b[0m\u001b[0mcopy_arm_behave\u001b[0m\u001b[0;34m.\u001b[0m\u001b[0mstart\u001b[0m\u001b[0;34m(\u001b[0m\u001b[0;34m)\u001b[0m\u001b[0;34m\u001b[0m\u001b[0m\n\u001b[0m",
        "\u001b[0;31mNameError\u001b[0m: name 'cherry' is not defined"
       ]
      }
     ],
     "prompt_number": 3
    },
    {
     "cell_type": "code",
     "collapsed": false,
     "input": [
      "cherry.robot.copy_arm_behave.stop()"
     ],
     "language": "python",
     "metadata": {},
     "outputs": []
    },
    {
     "cell_type": "code",
     "collapsed": false,
     "input": [
      "move_recorder = MoveRecorder(ergo, 50, cherry.robot.motors)\n",
      "\n",
      "cherry.robot.compliant = True\n",
      "\n",
      "move_recorder.start()\n",
      "time.sleep(5)\n",
      "move_recorder.stop()\n",
      "\n",
      "with open('my_nice_move.move', 'w') as f:\n",
      "    move_recorder.move.save(f)\n",
      "\n",
      "with open('my_nice_move.move') as f:\n",
      "    m = Move.load(f)\n",
      "\n",
      "cherry.robot.compliant = False\n",
      "\n",
      "move_player = MovePlayer(cherry.robot, m)\n",
      "move_player.start()"
     ],
     "language": "python",
     "metadata": {},
     "outputs": [
      {
       "ename": "NameError",
       "evalue": "name 'MoveRecorder' is not defined",
       "output_type": "pyerr",
       "traceback": [
        "\u001b[0;31m---------------------------------------------------------------------------\u001b[0m\n\u001b[0;31mNameError\u001b[0m                                 Traceback (most recent call last)",
        "\u001b[0;32m<ipython-input-4-28ef56c29c54>\u001b[0m in \u001b[0;36m<module>\u001b[0;34m()\u001b[0m\n\u001b[0;32m----> 1\u001b[0;31m \u001b[0mmove_recorder\u001b[0m \u001b[0;34m=\u001b[0m \u001b[0mMoveRecorder\u001b[0m\u001b[0;34m(\u001b[0m\u001b[0mergo\u001b[0m\u001b[0;34m,\u001b[0m \u001b[0;36m50\u001b[0m\u001b[0;34m,\u001b[0m \u001b[0mergo\u001b[0m\u001b[0;34m.\u001b[0m\u001b[0mmotors\u001b[0m\u001b[0;34m)\u001b[0m\u001b[0;34m\u001b[0m\u001b[0m\n\u001b[0m\u001b[1;32m      2\u001b[0m \u001b[0;34m\u001b[0m\u001b[0m\n\u001b[1;32m      3\u001b[0m \u001b[0mergo\u001b[0m\u001b[0;34m.\u001b[0m\u001b[0mcompliant\u001b[0m \u001b[0;34m=\u001b[0m \u001b[0mTrue\u001b[0m\u001b[0;34m\u001b[0m\u001b[0m\n\u001b[1;32m      4\u001b[0m \u001b[0;34m\u001b[0m\u001b[0m\n\u001b[1;32m      5\u001b[0m \u001b[0mmove_recorder\u001b[0m\u001b[0;34m.\u001b[0m\u001b[0mstart\u001b[0m\u001b[0;34m(\u001b[0m\u001b[0;34m)\u001b[0m\u001b[0;34m\u001b[0m\u001b[0m\n",
        "\u001b[0;31mNameError\u001b[0m: name 'MoveRecorder' is not defined"
       ]
      }
     ],
     "prompt_number": 4
    }
   ],
   "metadata": {}
  }
 ]
}