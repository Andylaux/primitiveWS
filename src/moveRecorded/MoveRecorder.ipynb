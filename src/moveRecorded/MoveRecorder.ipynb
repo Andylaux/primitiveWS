{
 "metadata": {
  "name": "",
  "signature": "sha256:1177031082d31927b6444d6969e34d35ff47914a69ca403116bee5518ebe7bf7"
 },
 "nbformat": 3,
 "nbformat_minor": 0,
 "worksheets": [
  {
   "cells": [
    {
     "cell_type": "code",
     "collapsed": false,
     "input": [
      "import time\n",
      "import pypot.robot\n",
      "from pypot.primitive.move import MoveRecorder, Move, MovePlayer"
     ],
     "language": "python",
     "metadata": {},
     "outputs": [],
     "prompt_number": 1
    },
    {
     "cell_type": "code",
     "collapsed": false,
     "input": [
      "fileName = \"pasContent.move\""
     ],
     "language": "python",
     "metadata": {},
     "outputs": [],
     "prompt_number": 2
    },
    {
     "cell_type": "code",
     "collapsed": false,
     "input": [
      "poppy = pypot.robot.from_json(\"../../utils/poppy_torso_config.json\")\n",
      "move_recorder = MoveRecorder(poppy, 50, poppy.motors)\n",
      "for m in poppy.l_arm:\n",
      "    m.compliant = True\n",
      "\n",
      "for m in poppy.r_arm:\n",
      "    m.compliant = True\n",
      "    \n",
      "for m in poppy.torso:\n",
      "    m.compliant = False    "
     ],
     "language": "python",
     "metadata": {},
     "outputs": [],
     "prompt_number": 3
    },
    {
     "cell_type": "code",
     "collapsed": false,
     "input": [
      "move_recorder.start()"
     ],
     "language": "python",
     "metadata": {},
     "outputs": [],
     "prompt_number": 4
    },
    {
     "cell_type": "code",
     "collapsed": false,
     "input": [
      "move_recorder.stop()\n",
      "\n",
      "with open(fileName, 'w') as f:\n",
      "    move_recorder.move.save(f)\n"
     ],
     "language": "python",
     "metadata": {},
     "outputs": [],
     "prompt_number": 5
    },
    {
     "cell_type": "code",
     "collapsed": false,
     "input": [
      "with open(fileName) as f:\n",
      "    m = Move.load(f)\n",
      "\n",
      "poppy.compliant = False\n",
      "\n",
      "move_player = MovePlayer(poppy, m)\n",
      "move_player.start()"
     ],
     "language": "python",
     "metadata": {},
     "outputs": [],
     "prompt_number": 5
    },
    {
     "cell_type": "code",
     "collapsed": false,
     "input": [
      "poppy.compliant = False"
     ],
     "language": "python",
     "metadata": {},
     "outputs": [
      {
       "output_type": "stream",
       "stream": "stderr",
       "text": [
        "Exception in thread Thread-13:\n",
        "Traceback (most recent call last):\n",
        "  File \"/Library/Frameworks/Python.framework/Versions/2.7/lib/python2.7/threading.py\", line 810, in __bootstrap_inner\n",
        "    self.run()\n",
        "  File \"/Library/Frameworks/Python.framework/Versions/2.7/lib/python2.7/threading.py\", line 763, in run\n",
        "    self.__target(*self.__args, **self.__kwargs)\n",
        "  File \"/Library/Frameworks/Python.framework/Versions/2.7/lib/python2.7/site-packages/pypot-2.1.2-py2.7.egg/pypot/utils/stoppablethread.py\", line 119, in _wrapped_target\n",
        "    self._target()\n",
        "  File \"/Library/Frameworks/Python.framework/Versions/2.7/lib/python2.7/site-packages/pypot-2.1.2-py2.7.egg/pypot/primitive/primitive.py\", line 75, in _prim_run\n",
        "    self.run()\n",
        "  File \"/Library/Frameworks/Python.framework/Versions/2.7/lib/python2.7/site-packages/pypot-2.1.2-py2.7.egg/pypot/primitive/primitive.py\", line 163, in run\n",
        "    make_update_loop(self, self._wrapped_update)\n",
        "  File \"/Library/Frameworks/Python.framework/Versions/2.7/lib/python2.7/site-packages/pypot-2.1.2-py2.7.egg/pypot/utils/stoppablethread.py\", line 152, in make_update_loop\n",
        "    update_func()\n",
        "  File \"/Library/Frameworks/Python.framework/Versions/2.7/lib/python2.7/site-packages/pypot-2.1.2-py2.7.egg/pypot/primitive/primitive.py\", line 168, in _wrapped_update\n",
        "    self.update()\n",
        "  File \"/Library/Frameworks/Python.framework/Versions/2.7/lib/python2.7/site-packages/pypot-2.1.2-py2.7.egg/pypot/primitive/move.py\", line 113, in update\n",
        "    self.stop()\n",
        "  File \"/Library/Frameworks/Python.framework/Versions/2.7/lib/python2.7/site-packages/pypot-2.1.2-py2.7.egg/pypot/primitive/primitive.py\", line 125, in stop\n",
        "    StoppableThread.stop(self, wait)\n",
        "  File \"/Library/Frameworks/Python.framework/Versions/2.7/lib/python2.7/site-packages/pypot-2.1.2-py2.7.egg/pypot/utils/stoppablethread.py\", line 56, in stop\n",
        "    self._thread.join()\n",
        "  File \"/Library/Frameworks/Python.framework/Versions/2.7/lib/python2.7/threading.py\", line 940, in join\n",
        "    raise RuntimeError(\"cannot join current thread\")\n",
        "RuntimeError: cannot join current thread\n",
        "\n"
       ]
      }
     ],
     "prompt_number": 9
    },
    {
     "cell_type": "code",
     "collapsed": false,
     "input": [],
     "language": "python",
     "metadata": {},
     "outputs": []
    }
   ],
   "metadata": {}
  }
 ]
}