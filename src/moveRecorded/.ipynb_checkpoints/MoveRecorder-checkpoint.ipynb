{
 "cells": [
  {
   "cell_type": "code",
   "execution_count": 1,
   "metadata": {
    "collapsed": false
   },
   "outputs": [],
   "source": [
    "import time\n",
    "import pypot.robot\n",
    "from pypot.primitive.move import MoveRecorder, Move, MovePlayer"
   ]
  },
  {
   "cell_type": "code",
   "execution_count": 2,
   "metadata": {
    "collapsed": false
   },
   "outputs": [],
   "source": [
    "fileName = \"pasContent.move\""
   ]
  },
  {
   "cell_type": "code",
   "execution_count": 3,
   "metadata": {
    "collapsed": false
   },
   "outputs": [],
   "source": [
    "poppy = pypot.robot.from_json(\"../../utils/poppy_torso_config.json\")\n",
    "move_recorder = MoveRecorder(poppy, 50, poppy.motors)\n",
    "for m in poppy.l_arm:\n",
    "    m.compliant = True\n",
    "\n",
    "for m in poppy.r_arm:\n",
    "    m.compliant = True\n",
    "    \n",
    "for m in poppy.torso:\n",
    "    m.compliant = False    "
   ]
  },
  {
   "cell_type": "code",
   "execution_count": 4,
   "metadata": {
    "collapsed": false
   },
   "outputs": [],
   "source": [
    "move_recorder.start()"
   ]
  },
  {
   "cell_type": "code",
   "execution_count": 5,
   "metadata": {
    "collapsed": false
   },
   "outputs": [],
   "source": [
    "move_recorder.stop()\n",
    "\n",
    "with open(fileName, 'w') as f:\n",
    "    move_recorder.move.save(f)\n"
   ]
  },
  {
   "cell_type": "code",
   "execution_count": 6,
   "metadata": {
    "collapsed": false
   },
   "outputs": [],
   "source": [
    "with open(fileName) as f:\n",
    "    m = Move.load(f)\n",
    "\n",
    "poppy.compliant = False\n",
    "\n",
    "move_player = MovePlayer(poppy, m)\n",
    "move_player.start()"
   ]
  },
  {
   "cell_type": "code",
   "execution_count": 9,
   "metadata": {
    "collapsed": false
   },
   "outputs": [
    {
     "name": "stderr",
     "output_type": "stream",
     "text": [
      "Exception in thread Thread-13:\n",
      "Traceback (most recent call last):\n",
      "  File \"/Library/Frameworks/Python.framework/Versions/2.7/lib/python2.7/threading.py\", line 810, in __bootstrap_inner\n",
      "    self.run()\n",
      "  File \"/Library/Frameworks/Python.framework/Versions/2.7/lib/python2.7/threading.py\", line 763, in run\n",
      "    self.__target(*self.__args, **self.__kwargs)\n",
      "  File \"/Library/Frameworks/Python.framework/Versions/2.7/lib/python2.7/site-packages/pypot-2.1.2-py2.7.egg/pypot/utils/stoppablethread.py\", line 119, in _wrapped_target\n",
      "    self._target()\n",
      "  File \"/Library/Frameworks/Python.framework/Versions/2.7/lib/python2.7/site-packages/pypot-2.1.2-py2.7.egg/pypot/primitive/primitive.py\", line 75, in _prim_run\n",
      "    self.run()\n",
      "  File \"/Library/Frameworks/Python.framework/Versions/2.7/lib/python2.7/site-packages/pypot-2.1.2-py2.7.egg/pypot/primitive/primitive.py\", line 163, in run\n",
      "    make_update_loop(self, self._wrapped_update)\n",
      "  File \"/Library/Frameworks/Python.framework/Versions/2.7/lib/python2.7/site-packages/pypot-2.1.2-py2.7.egg/pypot/utils/stoppablethread.py\", line 152, in make_update_loop\n",
      "    update_func()\n",
      "  File \"/Library/Frameworks/Python.framework/Versions/2.7/lib/python2.7/site-packages/pypot-2.1.2-py2.7.egg/pypot/primitive/primitive.py\", line 168, in _wrapped_update\n",
      "    self.update()\n",
      "  File \"/Library/Frameworks/Python.framework/Versions/2.7/lib/python2.7/site-packages/pypot-2.1.2-py2.7.egg/pypot/primitive/move.py\", line 113, in update\n",
      "    self.stop()\n",
      "  File \"/Library/Frameworks/Python.framework/Versions/2.7/lib/python2.7/site-packages/pypot-2.1.2-py2.7.egg/pypot/primitive/primitive.py\", line 125, in stop\n",
      "    StoppableThread.stop(self, wait)\n",
      "  File \"/Library/Frameworks/Python.framework/Versions/2.7/lib/python2.7/site-packages/pypot-2.1.2-py2.7.egg/pypot/utils/stoppablethread.py\", line 56, in stop\n",
      "    self._thread.join()\n",
      "  File \"/Library/Frameworks/Python.framework/Versions/2.7/lib/python2.7/threading.py\", line 940, in join\n",
      "    raise RuntimeError(\"cannot join current thread\")\n",
      "RuntimeError: cannot join current thread\n",
      "\n"
     ]
    }
   ],
   "source": [
    "poppy.compliant = False"
   ]
  },
  {
   "cell_type": "code",
   "execution_count": null,
   "metadata": {
    "collapsed": false
   },
   "outputs": [],
   "source": []
  }
 ],
 "metadata": {
  "kernelspec": {
   "display_name": "Python 2",
   "language": "python",
   "name": "python2"
  },
  "language_info": {
   "codemirror_mode": {
    "name": "ipython",
    "version": 2
   },
   "file_extension": ".py",
   "mimetype": "text/x-python",
   "name": "python",
   "nbconvert_exporter": "python",
   "pygments_lexer": "ipython2",
   "version": "2.7.10"
  }
 },
 "nbformat": 4,
 "nbformat_minor": 0
}
