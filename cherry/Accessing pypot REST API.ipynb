{
 "cells": [
  {
   "cell_type": "code",
   "execution_count": 2,
   "metadata": {
    "collapsed": false
   },
   "outputs": [],
   "source": [
    "import os\n",
    "import json\n",
    "import requests\n",
    "import pypot\n",
    "import time\n",
    "\n",
    "from pypot.vrep import from_vrep\n",
    "from poppy.creatures import PoppyTorso\n",
    "\n",
    "poppy = PoppyTorso(simulator='vrep')"
   ]
  },
  {
   "cell_type": "code",
   "execution_count": 3,
   "metadata": {
    "collapsed": false,
    "scrolled": false
   },
   "outputs": [],
   "source": [
    "from textToSpeech.speak import Speak\n",
    "from pypot.primitive.utils import Sinus\n",
    "\n",
    "#poppy.attach_primitive(Speak(poppy),\"speak\")\n",
    "#poppy.attach_primitive(Sinus(poppy, 25., [poppy.head_z, poppy.head_y], amp=15, freq=.15),\"sinus\")\n",
    "\n",
    "#from behavior.openArms import OpenArmsBehave\n",
    "#from behavior.openMove import OpenMoveBehave\n",
    "#from behavior.pointArmLeft import PointArmLeftBehave\n",
    "#from behavior.question import QuestionBehave\n",
    "#from behavior.doubleMe import DoubleMeBehave\n",
    "#from behavior.restOpen import RestOpenBehave\n",
    "#from behavior.swap import SwapBehave\n",
    "#from behavior.leftArms import LeftArmsBehave\n",
    "#from behavior.rightArms import RightArmsBehave\n",
    "#from behavior.leftArmUp import LeftArmUpBehave\n",
    "#from behavior.hunkers import HunkersBehave\n",
    "#from behavior.idle import UpperBodyIdleMotion, HeadIdleMotion, TorsoIdleMotion\n",
    "\n",
    "from speechToText.listen import Listen\n",
    "poppy.attach_primitive(Listen(poppy),\"listen\")\n",
    "\n",
    "\n",
    "\n",
    "#poppy.attach_primitive(RestOpenBehave(poppy),\"rest_open_behave\")\n",
    "#poppy.attach_primitive(OpenArmsBehave(poppy),\"open_arms_behave\")\n",
    "#poppy.attach_primitive(OpenMoveBehave(poppy),\"open_move_behave\")\n",
    "#poppy.attach_primitive(PointArmLeftBehave(poppy),\"point_arm_left_behave\")\n",
    "#poppy.attach_primitive(QuestionBehave(poppy),\"question_behave\")\n",
    "#poppy.attach_primitive(DoubleMeBehave(poppy),\"double_me_behave\")\n",
    "#poppy.attach_primitive(SwapBehave(poppy),\"swap_behave\")\n",
    "#poppy.attach_primitive(LeftArmsBehave(poppy),\"left_arms_behave\")\n",
    "#poppy.attach_primitive(RightArmsBehave(poppy),\"right_arms_behave\")\n",
    "#poppy.attach_primitive(LeftArmUpBehave(poppy),\"left_arm_up_behave\")\n",
    "#poppy.attach_primitive(HunkersBehave(poppy),\"hunkers_behave\")\n",
    "#poppy.attach_primitive(TorsoIdleMotion(poppy,50),\"torso_idle_motion\")"
   ]
  },
  {
   "cell_type": "code",
   "execution_count": 5,
   "metadata": {
    "collapsed": false
   },
   "outputs": [
    {
     "name": "stdout",
     "output_type": "stream",
     "text": [
      "Salut\n"
     ]
    }
   ],
   "source": [
    "poppy.speak.sentence_to_speak = \"Salut\"\n",
    "poppy.speak.start()\n"
   ]
  },
  {
   "cell_type": "code",
   "execution_count": 4,
   "metadata": {
    "collapsed": false
   },
   "outputs": [],
   "source": [
    "from pypot.server.httpserver import HTTPRobotServer\n",
    "\n",
    "server = HTTPRobotServer(poppy, host='127.0.0.2', port=8888)"
   ]
  },
  {
   "cell_type": "code",
   "execution_count": 6,
   "metadata": {
    "collapsed": false
   },
   "outputs": [],
   "source": [
    "from threading import Thread\n",
    "\n",
    "Thread(target=lambda: server.run(quiet=True, server='wsgiref')).start()\n"
   ]
  },
  {
   "cell_type": "code",
   "execution_count": 8,
   "metadata": {
    "collapsed": false,
    "scrolled": true
   },
   "outputs": [
    {
     "data": {
      "text/plain": [
       "{u'primitives': [u'arms_copy_motion',\n",
       "  u'swap_behave',\n",
       "  u'left_arms_behave',\n",
       "  u'arms_turn_compliant',\n",
       "  u'temperature_monitoring',\n",
       "  u'listen',\n",
       "  u'right_arms_behave',\n",
       "  u'question_behave',\n",
       "  u'limit_torque',\n",
       "  u'torso_idle_motion',\n",
       "  u'upper_body_idle_motion',\n",
       "  u'dance_beat_motion',\n",
       "  u'left_arm_up_behave',\n",
       "  u'rest_open_behave',\n",
       "  u'double_me_behave',\n",
       "  u'hunkers_behave',\n",
       "  u'head_idle_motion',\n",
       "  u'point_arm_left_behave',\n",
       "  u'sinus',\n",
       "  u'speak']}"
      ]
     },
     "execution_count": 8,
     "metadata": {},
     "output_type": "execute_result"
    }
   ],
   "source": [
    "# Get attached primitive list\n",
    "r = requests.get('http://127.0.0.2:8888/primitive/list.json')\n",
    "r.json()"
   ]
  },
  {
   "cell_type": "code",
   "execution_count": 14,
   "metadata": {
    "collapsed": false
   },
   "outputs": [
    {
     "name": "stdout",
     "output_type": "stream",
     "text": [
      "Say something!\n",
      "Google Speech Recognition thinks you said Bonjour\n",
      "Bonjour\n",
      "Je suis dans: normal\n"
     ]
    },
    {
     "name": "stderr",
     "output_type": "stream",
     "text": [
      "Traceback (most recent call last):\n",
      "  File \"C:\\Users\\jguichar\\Anaconda\\lib\\site-packages\\bottle.py\", line 862, in _handle\n",
      "    return route.call(**args)\n",
      "  File \"C:\\Users\\jguichar\\Anaconda\\lib\\site-packages\\bottle.py\", line 1732, in wrapper\n",
      "    rv = callback(*a, **ka)\n",
      "  File \"C:\\Users\\jguichar\\Anaconda\\lib\\site-packages\\pypot\\server\\httpserver.py\", line 47, in _enable_cors\n",
      "    return fn(*args, **kwargs)\n",
      "  File \"C:\\Users\\jguichar\\Anaconda\\lib\\site-packages\\pypot\\server\\httpserver.py\", line 165, in start_primitive\n",
      "    rr.start_primitive(prim)\n",
      "  File \"C:\\Users\\jguichar\\Anaconda\\lib\\site-packages\\pypot\\server\\rest.py\", line 83, in start_primitive\n",
      "    self._call_primitive_method(primitive, 'start')\n",
      "  File \"C:\\Users\\jguichar\\Anaconda\\lib\\site-packages\\pypot\\server\\rest.py\", line 119, in _call_primitive_method\n",
      "    return f(*args, **kwargs)\n",
      "  File \"speechToText\\listen.py\", line 176, in start\n",
      "    # say bonjour\n",
      "  File \"C:\\Users\\jguichar\\Anaconda\\lib\\site-packages\\requests\\api.py\", line 67, in get\n",
      "    return request('get', url, params=params, **kwargs)\n",
      "  File \"C:\\Users\\jguichar\\Anaconda\\lib\\site-packages\\requests\\api.py\", line 53, in request\n",
      "    return session.request(method=method, url=url, **kwargs)\n",
      "  File \"C:\\Users\\jguichar\\Anaconda\\lib\\site-packages\\requests\\sessions.py\", line 468, in request\n",
      "    resp = self.send(prep, **send_kwargs)\n",
      "  File \"C:\\Users\\jguichar\\Anaconda\\lib\\site-packages\\requests\\sessions.py\", line 576, in send\n",
      "    r = adapter.send(request, **kwargs)\n",
      "  File \"C:\\Users\\jguichar\\Anaconda\\lib\\site-packages\\requests\\adapters.py\", line 449, in send\n",
      "    raise ReadTimeout(e, request=request)\n",
      "ReadTimeout: HTTPConnectionPool(host='127.0.0.1', port=8080): Read timed out. (read timeout=0.1)\n"
     ]
    },
    {
     "data": {
      "text/plain": [
       "<Response [200]>"
      ]
     },
     "execution_count": 14,
     "metadata": {},
     "output_type": "execute_result"
    },
    {
     "name": "stdout",
     "output_type": "stream",
     "text": [
      "Say something!\n",
      "Google Speech Recognition could not understand audio\n",
      "Je n'ai pas compris. Veuillez répetez\n",
      "Je suis dans: normal\n",
      "Say something!\n",
      "Google Speech Recognition thinks you said au revoir\n",
      "au revoir\n",
      "Je suis dans: normal\n",
      "Au revoir\n"
     ]
    },
    {
     "name": "stderr",
     "output_type": "stream",
     "text": [
      "Traceback (most recent call last):\n",
      "  File \"C:\\Users\\jguichar\\Anaconda\\lib\\site-packages\\bottle.py\", line 862, in _handle\n",
      "    return route.call(**args)\n",
      "  File \"C:\\Users\\jguichar\\Anaconda\\lib\\site-packages\\bottle.py\", line 1732, in wrapper\n",
      "    rv = callback(*a, **ka)\n",
      "  File \"C:\\Users\\jguichar\\Anaconda\\lib\\site-packages\\pypot\\server\\httpserver.py\", line 47, in _enable_cors\n",
      "    return fn(*args, **kwargs)\n",
      "  File \"C:\\Users\\jguichar\\Anaconda\\lib\\site-packages\\pypot\\server\\httpserver.py\", line 165, in start_primitive\n",
      "    rr.start_primitive(prim)\n",
      "  File \"C:\\Users\\jguichar\\Anaconda\\lib\\site-packages\\pypot\\server\\rest.py\", line 83, in start_primitive\n",
      "    self._call_primitive_method(primitive, 'start')\n",
      "  File \"C:\\Users\\jguichar\\Anaconda\\lib\\site-packages\\pypot\\server\\rest.py\", line 119, in _call_primitive_method\n",
      "    return f(*args, **kwargs)\n",
      "  File \"speechToText\\listen.py\", line 166, in start\n",
      "    # if it's not a string\n",
      "  File \"C:\\Users\\jguichar\\Anaconda\\lib\\site-packages\\requests\\api.py\", line 67, in get\n",
      "    return request('get', url, params=params, **kwargs)\n",
      "  File \"C:\\Users\\jguichar\\Anaconda\\lib\\site-packages\\requests\\api.py\", line 53, in request\n",
      "    return session.request(method=method, url=url, **kwargs)\n",
      "  File \"C:\\Users\\jguichar\\Anaconda\\lib\\site-packages\\requests\\sessions.py\", line 468, in request\n",
      "    resp = self.send(prep, **send_kwargs)\n",
      "  File \"C:\\Users\\jguichar\\Anaconda\\lib\\site-packages\\requests\\sessions.py\", line 576, in send\n",
      "    r = adapter.send(request, **kwargs)\n",
      "  File \"C:\\Users\\jguichar\\Anaconda\\lib\\site-packages\\requests\\adapters.py\", line 449, in send\n",
      "    raise ReadTimeout(e, request=request)\n",
      "ReadTimeout: HTTPConnectionPool(host='127.0.0.1', port=8080): Read timed out. (read timeout=0.1)\n",
      "Traceback (most recent call last):\n",
      "  File \"C:\\Users\\jguichar\\Anaconda\\lib\\site-packages\\bottle.py\", line 862, in _handle\n",
      "    return route.call(**args)\n",
      "  File \"C:\\Users\\jguichar\\Anaconda\\lib\\site-packages\\bottle.py\", line 1732, in wrapper\n",
      "    rv = callback(*a, **ka)\n",
      "  File \"C:\\Users\\jguichar\\Anaconda\\lib\\site-packages\\pypot\\server\\httpserver.py\", line 47, in _enable_cors\n",
      "    return fn(*args, **kwargs)\n",
      "  File \"C:\\Users\\jguichar\\Anaconda\\lib\\site-packages\\pypot\\server\\httpserver.py\", line 165, in start_primitive\n",
      "    rr.start_primitive(prim)\n",
      "  File \"C:\\Users\\jguichar\\Anaconda\\lib\\site-packages\\pypot\\server\\rest.py\", line 83, in start_primitive\n",
      "    self._call_primitive_method(primitive, 'start')\n",
      "  File \"C:\\Users\\jguichar\\Anaconda\\lib\\site-packages\\pypot\\server\\rest.py\", line 119, in _call_primitive_method\n",
      "    return f(*args, **kwargs)\n",
      "  File \"speechToText\\listen.py\", line 185, in start\n",
      "    return 0\n",
      "  File \"C:\\Users\\jguichar\\Anaconda\\lib\\site-packages\\requests\\api.py\", line 67, in get\n",
      "    return request('get', url, params=params, **kwargs)\n",
      "  File \"C:\\Users\\jguichar\\Anaconda\\lib\\site-packages\\requests\\api.py\", line 53, in request\n",
      "    return session.request(method=method, url=url, **kwargs)\n",
      "  File \"C:\\Users\\jguichar\\Anaconda\\lib\\site-packages\\requests\\sessions.py\", line 468, in request\n",
      "    resp = self.send(prep, **send_kwargs)\n",
      "  File \"C:\\Users\\jguichar\\Anaconda\\lib\\site-packages\\requests\\sessions.py\", line 576, in send\n",
      "    r = adapter.send(request, **kwargs)\n",
      "  File \"C:\\Users\\jguichar\\Anaconda\\lib\\site-packages\\requests\\adapters.py\", line 449, in send\n",
      "    raise ReadTimeout(e, request=request)\n",
      "ReadTimeout: HTTPConnectionPool(host='127.0.0.1', port=8080): Read timed out. (read timeout=0.1)\n"
     ]
    },
    {
     "name": "stdout",
     "output_type": "stream",
     "text": [
      "Say something!\n",
      "Google Speech Recognition thinks you said Hiram je veux jouer à la multiplication\n",
      "Hiram je veux jouer à la multiplication\n",
      "Je suis dans: normal\n",
      "Multi\n",
      "Set parameter to: multi\n",
      "Say something!\n"
     ]
    },
    {
     "name": "stderr",
     "output_type": "stream",
     "text": [
      "Traceback (most recent call last):\n",
      "  File \"C:\\Users\\jguichar\\Anaconda\\lib\\site-packages\\bottle.py\", line 862, in _handle\n",
      "    return route.call(**args)\n",
      "  File \"C:\\Users\\jguichar\\Anaconda\\lib\\site-packages\\bottle.py\", line 1732, in wrapper\n",
      "    rv = callback(*a, **ka)\n",
      "  File \"C:\\Users\\jguichar\\Anaconda\\lib\\site-packages\\pypot\\server\\httpserver.py\", line 47, in _enable_cors\n",
      "    return fn(*args, **kwargs)\n",
      "  File \"C:\\Users\\jguichar\\Anaconda\\lib\\site-packages\\pypot\\server\\httpserver.py\", line 165, in start_primitive\n",
      "    rr.start_primitive(prim)\n",
      "  File \"C:\\Users\\jguichar\\Anaconda\\lib\\site-packages\\pypot\\server\\rest.py\", line 83, in start_primitive\n",
      "    self._call_primitive_method(primitive, 'start')\n",
      "  File \"C:\\Users\\jguichar\\Anaconda\\lib\\site-packages\\pypot\\server\\rest.py\", line 119, in _call_primitive_method\n",
      "    return f(*args, **kwargs)\n",
      "  File \"speechToText\\listen.py\", line 218, in start\n",
      "    return 0\n",
      "  File \"C:\\Users\\jguichar\\Anaconda\\lib\\site-packages\\requests\\api.py\", line 67, in get\n",
      "    return request('get', url, params=params, **kwargs)\n",
      "  File \"C:\\Users\\jguichar\\Anaconda\\lib\\site-packages\\requests\\api.py\", line 53, in request\n",
      "    return session.request(method=method, url=url, **kwargs)\n",
      "  File \"C:\\Users\\jguichar\\Anaconda\\lib\\site-packages\\requests\\sessions.py\", line 468, in request\n",
      "    resp = self.send(prep, **send_kwargs)\n",
      "  File \"C:\\Users\\jguichar\\Anaconda\\lib\\site-packages\\requests\\sessions.py\", line 576, in send\n",
      "    r = adapter.send(request, **kwargs)\n",
      "  File \"C:\\Users\\jguichar\\Anaconda\\lib\\site-packages\\requests\\adapters.py\", line 449, in send\n",
      "    raise ReadTimeout(e, request=request)\n",
      "ReadTimeout: HTTPConnectionPool(host='127.0.0.1', port=8080): Read timed out. (read timeout=0.1)\n",
      "Traceback (most recent call last):\n",
      "  File \"C:\\Users\\jguichar\\Anaconda\\lib\\site-packages\\bottle.py\", line 862, in _handle\n",
      "    return route.call(**args)\n",
      "  File \"C:\\Users\\jguichar\\Anaconda\\lib\\site-packages\\bottle.py\", line 1732, in wrapper\n",
      "    rv = callback(*a, **ka)\n",
      "  File \"C:\\Users\\jguichar\\Anaconda\\lib\\site-packages\\pypot\\server\\httpserver.py\", line 47, in _enable_cors\n",
      "    return fn(*args, **kwargs)\n",
      "  File \"C:\\Users\\jguichar\\Anaconda\\lib\\site-packages\\pypot\\server\\httpserver.py\", line 165, in start_primitive\n",
      "    rr.start_primitive(prim)\n",
      "  File \"C:\\Users\\jguichar\\Anaconda\\lib\\site-packages\\pypot\\server\\rest.py\", line 83, in start_primitive\n",
      "    self._call_primitive_method(primitive, 'start')\n",
      "  File \"C:\\Users\\jguichar\\Anaconda\\lib\\site-packages\\pypot\\server\\rest.py\", line 119, in _call_primitive_method\n",
      "    return f(*args, **kwargs)\n",
      "  File \"speechToText\\listen.py\", line 88, in start\n",
      "    #poppy.speak.start()\n",
      "  File \"C:\\Users\\jguichar\\Anaconda\\lib\\site-packages\\requests\\api.py\", line 67, in get\n",
      "    return request('get', url, params=params, **kwargs)\n",
      "  File \"C:\\Users\\jguichar\\Anaconda\\lib\\site-packages\\requests\\api.py\", line 53, in request\n",
      "    return session.request(method=method, url=url, **kwargs)\n",
      "  File \"C:\\Users\\jguichar\\Anaconda\\lib\\site-packages\\requests\\sessions.py\", line 468, in request\n",
      "    resp = self.send(prep, **send_kwargs)\n",
      "  File \"C:\\Users\\jguichar\\Anaconda\\lib\\site-packages\\requests\\sessions.py\", line 576, in send\n",
      "    r = adapter.send(request, **kwargs)\n",
      "  File \"C:\\Users\\jguichar\\Anaconda\\lib\\site-packages\\requests\\adapters.py\", line 449, in send\n",
      "    raise ReadTimeout(e, request=request)\n",
      "ReadTimeout: HTTPConnectionPool(host='127.0.0.1', port=8080): Read timed out. (read timeout=0.1)\n"
     ]
    },
    {
     "name": "stdout",
     "output_type": "stream",
     "text": [
      "Google Speech Recognition thinks you said stop\n",
      "stop\n",
      "Je suis dans: multi\n",
      "Stop\n",
      "Say something!\n",
      "Google Speech Recognition thinks you said Bonjour\n",
      "Bonjour\n",
      "Je suis dans: normal\n",
      "Say something!\n"
     ]
    },
    {
     "name": "stderr",
     "output_type": "stream",
     "text": [
      "Traceback (most recent call last):\n",
      "  File \"C:\\Users\\jguichar\\Anaconda\\lib\\site-packages\\bottle.py\", line 862, in _handle\n",
      "    return route.call(**args)\n",
      "  File \"C:\\Users\\jguichar\\Anaconda\\lib\\site-packages\\bottle.py\", line 1732, in wrapper\n",
      "    rv = callback(*a, **ka)\n",
      "  File \"C:\\Users\\jguichar\\Anaconda\\lib\\site-packages\\pypot\\server\\httpserver.py\", line 47, in _enable_cors\n",
      "    return fn(*args, **kwargs)\n",
      "  File \"C:\\Users\\jguichar\\Anaconda\\lib\\site-packages\\pypot\\server\\httpserver.py\", line 165, in start_primitive\n",
      "    rr.start_primitive(prim)\n",
      "  File \"C:\\Users\\jguichar\\Anaconda\\lib\\site-packages\\pypot\\server\\rest.py\", line 83, in start_primitive\n",
      "    self._call_primitive_method(primitive, 'start')\n",
      "  File \"C:\\Users\\jguichar\\Anaconda\\lib\\site-packages\\pypot\\server\\rest.py\", line 119, in _call_primitive_method\n",
      "    return f(*args, **kwargs)\n",
      "  File \"speechToText\\listen.py\", line 176, in start\n",
      "    # say bonjour\n",
      "  File \"C:\\Users\\jguichar\\Anaconda\\lib\\site-packages\\requests\\api.py\", line 67, in get\n",
      "    return request('get', url, params=params, **kwargs)\n",
      "  File \"C:\\Users\\jguichar\\Anaconda\\lib\\site-packages\\requests\\api.py\", line 53, in request\n",
      "    return session.request(method=method, url=url, **kwargs)\n",
      "  File \"C:\\Users\\jguichar\\Anaconda\\lib\\site-packages\\requests\\sessions.py\", line 468, in request\n",
      "    resp = self.send(prep, **send_kwargs)\n",
      "  File \"C:\\Users\\jguichar\\Anaconda\\lib\\site-packages\\requests\\sessions.py\", line 576, in send\n",
      "    r = adapter.send(request, **kwargs)\n",
      "  File \"C:\\Users\\jguichar\\Anaconda\\lib\\site-packages\\requests\\adapters.py\", line 449, in send\n",
      "    raise ReadTimeout(e, request=request)\n",
      "ReadTimeout: HTTPConnectionPool(host='127.0.0.1', port=8080): Read timed out. (read timeout=0.1)\n",
      "Traceback (most recent call last):\n",
      "  File \"C:\\Users\\jguichar\\Anaconda\\lib\\site-packages\\bottle.py\", line 862, in _handle\n",
      "    return route.call(**args)\n",
      "  File \"C:\\Users\\jguichar\\Anaconda\\lib\\site-packages\\bottle.py\", line 1732, in wrapper\n",
      "    rv = callback(*a, **ka)\n",
      "  File \"C:\\Users\\jguichar\\Anaconda\\lib\\site-packages\\pypot\\server\\httpserver.py\", line 47, in _enable_cors\n",
      "    return fn(*args, **kwargs)\n",
      "  File \"C:\\Users\\jguichar\\Anaconda\\lib\\site-packages\\pypot\\server\\httpserver.py\", line 165, in start_primitive\n",
      "    rr.start_primitive(prim)\n",
      "  File \"C:\\Users\\jguichar\\Anaconda\\lib\\site-packages\\pypot\\server\\rest.py\", line 83, in start_primitive\n",
      "    self._call_primitive_method(primitive, 'start')\n",
      "  File \"C:\\Users\\jguichar\\Anaconda\\lib\\site-packages\\pypot\\server\\rest.py\", line 119, in _call_primitive_method\n",
      "    return f(*args, **kwargs)\n",
      "  File \"speechToText\\listen.py\", line 166, in start\n",
      "    # if it's not a string\n",
      "  File \"C:\\Users\\jguichar\\Anaconda\\lib\\site-packages\\requests\\api.py\", line 67, in get\n",
      "    return request('get', url, params=params, **kwargs)\n",
      "  File \"C:\\Users\\jguichar\\Anaconda\\lib\\site-packages\\requests\\api.py\", line 53, in request\n",
      "    return session.request(method=method, url=url, **kwargs)\n",
      "  File \"C:\\Users\\jguichar\\Anaconda\\lib\\site-packages\\requests\\sessions.py\", line 468, in request\n",
      "    resp = self.send(prep, **send_kwargs)\n",
      "  File \"C:\\Users\\jguichar\\Anaconda\\lib\\site-packages\\requests\\sessions.py\", line 576, in send\n",
      "    r = adapter.send(request, **kwargs)\n",
      "  File \"C:\\Users\\jguichar\\Anaconda\\lib\\site-packages\\requests\\adapters.py\", line 449, in send\n",
      "    raise ReadTimeout(e, request=request)\n",
      "ReadTimeout: HTTPConnectionPool(host='127.0.0.1', port=8080): Read timed out. (read timeout=0.1)\n"
     ]
    },
    {
     "name": "stdout",
     "output_type": "stream",
     "text": [
      "Google Speech Recognition could not understand audio\n",
      "Je n'ai pas compris. Veuillez répetez\n",
      "Je suis dans: normal\n",
      "Say something!\n",
      "Google Speech Recognition thinks you said bla bla bla bla bla bla\n",
      "bla bla bla bla bla bla\n",
      "Je suis dans: normal\n",
      "Pas compris\n",
      "Say something!\n"
     ]
    },
    {
     "name": "stderr",
     "output_type": "stream",
     "text": [
      "Traceback (most recent call last):\n",
      "  File \"C:\\Users\\jguichar\\Anaconda\\lib\\site-packages\\bottle.py\", line 862, in _handle\n",
      "    return route.call(**args)\n",
      "  File \"C:\\Users\\jguichar\\Anaconda\\lib\\site-packages\\bottle.py\", line 1732, in wrapper\n",
      "    rv = callback(*a, **ka)\n",
      "  File \"C:\\Users\\jguichar\\Anaconda\\lib\\site-packages\\pypot\\server\\httpserver.py\", line 47, in _enable_cors\n",
      "    return fn(*args, **kwargs)\n",
      "  File \"C:\\Users\\jguichar\\Anaconda\\lib\\site-packages\\pypot\\server\\httpserver.py\", line 165, in start_primitive\n",
      "    rr.start_primitive(prim)\n",
      "  File \"C:\\Users\\jguichar\\Anaconda\\lib\\site-packages\\pypot\\server\\rest.py\", line 83, in start_primitive\n",
      "    self._call_primitive_method(primitive, 'start')\n",
      "  File \"C:\\Users\\jguichar\\Anaconda\\lib\\site-packages\\pypot\\server\\rest.py\", line 119, in _call_primitive_method\n",
      "    return f(*args, **kwargs)\n",
      "  File \"speechToText\\listen.py\", line 224, in start\n",
      "    return 0\n",
      "  File \"C:\\Users\\jguichar\\Anaconda\\lib\\site-packages\\requests\\api.py\", line 67, in get\n",
      "    return request('get', url, params=params, **kwargs)\n",
      "  File \"C:\\Users\\jguichar\\Anaconda\\lib\\site-packages\\requests\\api.py\", line 53, in request\n",
      "    return session.request(method=method, url=url, **kwargs)\n",
      "  File \"C:\\Users\\jguichar\\Anaconda\\lib\\site-packages\\requests\\sessions.py\", line 468, in request\n",
      "    resp = self.send(prep, **send_kwargs)\n",
      "  File \"C:\\Users\\jguichar\\Anaconda\\lib\\site-packages\\requests\\sessions.py\", line 576, in send\n",
      "    r = adapter.send(request, **kwargs)\n",
      "  File \"C:\\Users\\jguichar\\Anaconda\\lib\\site-packages\\requests\\adapters.py\", line 449, in send\n",
      "    raise ReadTimeout(e, request=request)\n",
      "ReadTimeout: HTTPConnectionPool(host='127.0.0.1', port=8080): Read timed out. (read timeout=0.1)\n",
      "Traceback (most recent call last):\n",
      "  File \"C:\\Users\\jguichar\\Anaconda\\lib\\site-packages\\bottle.py\", line 862, in _handle\n",
      "    return route.call(**args)\n",
      "  File \"C:\\Users\\jguichar\\Anaconda\\lib\\site-packages\\bottle.py\", line 1732, in wrapper\n",
      "    rv = callback(*a, **ka)\n",
      "  File \"C:\\Users\\jguichar\\Anaconda\\lib\\site-packages\\pypot\\server\\httpserver.py\", line 47, in _enable_cors\n",
      "    return fn(*args, **kwargs)\n",
      "  File \"C:\\Users\\jguichar\\Anaconda\\lib\\site-packages\\pypot\\server\\httpserver.py\", line 165, in start_primitive\n",
      "    rr.start_primitive(prim)\n",
      "  File \"C:\\Users\\jguichar\\Anaconda\\lib\\site-packages\\pypot\\server\\rest.py\", line 83, in start_primitive\n",
      "    self._call_primitive_method(primitive, 'start')\n",
      "  File \"C:\\Users\\jguichar\\Anaconda\\lib\\site-packages\\pypot\\server\\rest.py\", line 119, in _call_primitive_method\n",
      "    return f(*args, **kwargs)\n",
      "  File \"speechToText\\listen.py\", line 166, in start\n",
      "    # if it's not a string\n",
      "  File \"C:\\Users\\jguichar\\Anaconda\\lib\\site-packages\\requests\\api.py\", line 67, in get\n",
      "    return request('get', url, params=params, **kwargs)\n",
      "  File \"C:\\Users\\jguichar\\Anaconda\\lib\\site-packages\\requests\\api.py\", line 53, in request\n",
      "    return session.request(method=method, url=url, **kwargs)\n",
      "  File \"C:\\Users\\jguichar\\Anaconda\\lib\\site-packages\\requests\\sessions.py\", line 468, in request\n",
      "    resp = self.send(prep, **send_kwargs)\n",
      "  File \"C:\\Users\\jguichar\\Anaconda\\lib\\site-packages\\requests\\sessions.py\", line 576, in send\n",
      "    r = adapter.send(request, **kwargs)\n",
      "  File \"C:\\Users\\jguichar\\Anaconda\\lib\\site-packages\\requests\\adapters.py\", line 449, in send\n",
      "    raise ReadTimeout(e, request=request)\n",
      "ReadTimeout: HTTPConnectionPool(host='127.0.0.1', port=8080): Read timed out. (read timeout=0.1)\n"
     ]
    },
    {
     "name": "stdout",
     "output_type": "stream",
     "text": [
      "Google Speech Recognition could not understand audio\n",
      "Je n'ai pas compris. Veuillez répetez\n",
      "Je suis dans: normal\n",
      "Say something!\n",
      "Google Speech Recognition could not understand audio\n",
      "Je n'ai pas compris. Veuillez répetez\n",
      "Je suis dans: normal\n",
      "Say something!\n"
     ]
    },
    {
     "name": "stderr",
     "output_type": "stream",
     "text": [
      "Traceback (most recent call last):\n",
      "  File \"C:\\Users\\jguichar\\Anaconda\\lib\\site-packages\\bottle.py\", line 862, in _handle\n",
      "    return route.call(**args)\n",
      "  File \"C:\\Users\\jguichar\\Anaconda\\lib\\site-packages\\bottle.py\", line 1732, in wrapper\n",
      "    rv = callback(*a, **ka)\n",
      "  File \"C:\\Users\\jguichar\\Anaconda\\lib\\site-packages\\pypot\\server\\httpserver.py\", line 47, in _enable_cors\n",
      "    return fn(*args, **kwargs)\n",
      "  File \"C:\\Users\\jguichar\\Anaconda\\lib\\site-packages\\pypot\\server\\httpserver.py\", line 165, in start_primitive\n",
      "    rr.start_primitive(prim)\n",
      "  File \"C:\\Users\\jguichar\\Anaconda\\lib\\site-packages\\pypot\\server\\rest.py\", line 83, in start_primitive\n",
      "    self._call_primitive_method(primitive, 'start')\n",
      "  File \"C:\\Users\\jguichar\\Anaconda\\lib\\site-packages\\pypot\\server\\rest.py\", line 119, in _call_primitive_method\n",
      "    return f(*args, **kwargs)\n",
      "  File \"speechToText\\listen.py\", line 166, in start\n",
      "    # if it's not a string\n",
      "  File \"C:\\Users\\jguichar\\Anaconda\\lib\\site-packages\\requests\\api.py\", line 67, in get\n",
      "    return request('get', url, params=params, **kwargs)\n",
      "  File \"C:\\Users\\jguichar\\Anaconda\\lib\\site-packages\\requests\\api.py\", line 53, in request\n",
      "    return session.request(method=method, url=url, **kwargs)\n",
      "  File \"C:\\Users\\jguichar\\Anaconda\\lib\\site-packages\\requests\\sessions.py\", line 468, in request\n",
      "    resp = self.send(prep, **send_kwargs)\n",
      "  File \"C:\\Users\\jguichar\\Anaconda\\lib\\site-packages\\requests\\sessions.py\", line 576, in send\n",
      "    r = adapter.send(request, **kwargs)\n",
      "  File \"C:\\Users\\jguichar\\Anaconda\\lib\\site-packages\\requests\\adapters.py\", line 449, in send\n",
      "    raise ReadTimeout(e, request=request)\n",
      "ReadTimeout: HTTPConnectionPool(host='127.0.0.1', port=8080): Read timed out. (read timeout=0.1)\n",
      "Traceback (most recent call last):\n",
      "  File \"C:\\Users\\jguichar\\Anaconda\\lib\\site-packages\\bottle.py\", line 862, in _handle\n",
      "    return route.call(**args)\n",
      "  File \"C:\\Users\\jguichar\\Anaconda\\lib\\site-packages\\bottle.py\", line 1732, in wrapper\n",
      "    rv = callback(*a, **ka)\n",
      "  File \"C:\\Users\\jguichar\\Anaconda\\lib\\site-packages\\pypot\\server\\httpserver.py\", line 47, in _enable_cors\n",
      "    return fn(*args, **kwargs)\n",
      "  File \"C:\\Users\\jguichar\\Anaconda\\lib\\site-packages\\pypot\\server\\httpserver.py\", line 165, in start_primitive\n",
      "    rr.start_primitive(prim)\n",
      "  File \"C:\\Users\\jguichar\\Anaconda\\lib\\site-packages\\pypot\\server\\rest.py\", line 83, in start_primitive\n",
      "    self._call_primitive_method(primitive, 'start')\n",
      "  File \"C:\\Users\\jguichar\\Anaconda\\lib\\site-packages\\pypot\\server\\rest.py\", line 119, in _call_primitive_method\n",
      "    return f(*args, **kwargs)\n",
      "  File \"speechToText\\listen.py\", line 166, in start\n",
      "    # if it's not a string\n",
      "  File \"C:\\Users\\jguichar\\Anaconda\\lib\\site-packages\\requests\\api.py\", line 67, in get\n",
      "    return request('get', url, params=params, **kwargs)\n",
      "  File \"C:\\Users\\jguichar\\Anaconda\\lib\\site-packages\\requests\\api.py\", line 53, in request\n",
      "    return session.request(method=method, url=url, **kwargs)\n",
      "  File \"C:\\Users\\jguichar\\Anaconda\\lib\\site-packages\\requests\\sessions.py\", line 468, in request\n",
      "    resp = self.send(prep, **send_kwargs)\n",
      "  File \"C:\\Users\\jguichar\\Anaconda\\lib\\site-packages\\requests\\sessions.py\", line 576, in send\n",
      "    r = adapter.send(request, **kwargs)\n",
      "  File \"C:\\Users\\jguichar\\Anaconda\\lib\\site-packages\\requests\\adapters.py\", line 449, in send\n",
      "    raise ReadTimeout(e, request=request)\n",
      "ReadTimeout: HTTPConnectionPool(host='127.0.0.1', port=8080): Read timed out. (read timeout=0.1)\n"
     ]
    },
    {
     "name": "stdout",
     "output_type": "stream",
     "text": [
      "Google Speech Recognition could not understand audio\n",
      "Je n'ai pas compris. Veuillez répetez\n",
      "Je suis dans: normal\n",
      "Say something!\n",
      "Google Speech Recognition could not understand audio\n",
      "Je n'ai pas compris. Veuillez répetez\n",
      "Je suis dans: normal\n",
      "Say something!\n"
     ]
    },
    {
     "name": "stderr",
     "output_type": "stream",
     "text": [
      "Traceback (most recent call last):\n",
      "  File \"C:\\Users\\jguichar\\Anaconda\\lib\\site-packages\\bottle.py\", line 862, in _handle\n",
      "    return route.call(**args)\n",
      "  File \"C:\\Users\\jguichar\\Anaconda\\lib\\site-packages\\bottle.py\", line 1732, in wrapper\n",
      "    rv = callback(*a, **ka)\n",
      "  File \"C:\\Users\\jguichar\\Anaconda\\lib\\site-packages\\pypot\\server\\httpserver.py\", line 47, in _enable_cors\n",
      "    return fn(*args, **kwargs)\n",
      "  File \"C:\\Users\\jguichar\\Anaconda\\lib\\site-packages\\pypot\\server\\httpserver.py\", line 165, in start_primitive\n",
      "    rr.start_primitive(prim)\n",
      "  File \"C:\\Users\\jguichar\\Anaconda\\lib\\site-packages\\pypot\\server\\rest.py\", line 83, in start_primitive\n",
      "    self._call_primitive_method(primitive, 'start')\n",
      "  File \"C:\\Users\\jguichar\\Anaconda\\lib\\site-packages\\pypot\\server\\rest.py\", line 119, in _call_primitive_method\n",
      "    return f(*args, **kwargs)\n",
      "  File \"speechToText\\listen.py\", line 166, in start\n",
      "    # if it's not a string\n",
      "  File \"C:\\Users\\jguichar\\Anaconda\\lib\\site-packages\\requests\\api.py\", line 67, in get\n",
      "    return request('get', url, params=params, **kwargs)\n",
      "  File \"C:\\Users\\jguichar\\Anaconda\\lib\\site-packages\\requests\\api.py\", line 53, in request\n",
      "    return session.request(method=method, url=url, **kwargs)\n",
      "  File \"C:\\Users\\jguichar\\Anaconda\\lib\\site-packages\\requests\\sessions.py\", line 468, in request\n",
      "    resp = self.send(prep, **send_kwargs)\n",
      "  File \"C:\\Users\\jguichar\\Anaconda\\lib\\site-packages\\requests\\sessions.py\", line 576, in send\n",
      "    r = adapter.send(request, **kwargs)\n",
      "  File \"C:\\Users\\jguichar\\Anaconda\\lib\\site-packages\\requests\\adapters.py\", line 449, in send\n",
      "    raise ReadTimeout(e, request=request)\n",
      "ReadTimeout: HTTPConnectionPool(host='127.0.0.1', port=8080): Read timed out. (read timeout=0.1)\n",
      "Traceback (most recent call last):\n",
      "  File \"C:\\Users\\jguichar\\Anaconda\\lib\\site-packages\\bottle.py\", line 862, in _handle\n",
      "    return route.call(**args)\n",
      "  File \"C:\\Users\\jguichar\\Anaconda\\lib\\site-packages\\bottle.py\", line 1732, in wrapper\n",
      "    rv = callback(*a, **ka)\n",
      "  File \"C:\\Users\\jguichar\\Anaconda\\lib\\site-packages\\pypot\\server\\httpserver.py\", line 47, in _enable_cors\n",
      "    return fn(*args, **kwargs)\n",
      "  File \"C:\\Users\\jguichar\\Anaconda\\lib\\site-packages\\pypot\\server\\httpserver.py\", line 165, in start_primitive\n",
      "    rr.start_primitive(prim)\n",
      "  File \"C:\\Users\\jguichar\\Anaconda\\lib\\site-packages\\pypot\\server\\rest.py\", line 83, in start_primitive\n",
      "    self._call_primitive_method(primitive, 'start')\n",
      "  File \"C:\\Users\\jguichar\\Anaconda\\lib\\site-packages\\pypot\\server\\rest.py\", line 119, in _call_primitive_method\n",
      "    return f(*args, **kwargs)\n",
      "  File \"speechToText\\listen.py\", line 166, in start\n",
      "    # if it's not a string\n",
      "  File \"C:\\Users\\jguichar\\Anaconda\\lib\\site-packages\\requests\\api.py\", line 67, in get\n",
      "    return request('get', url, params=params, **kwargs)\n",
      "  File \"C:\\Users\\jguichar\\Anaconda\\lib\\site-packages\\requests\\api.py\", line 53, in request\n",
      "    return session.request(method=method, url=url, **kwargs)\n",
      "  File \"C:\\Users\\jguichar\\Anaconda\\lib\\site-packages\\requests\\sessions.py\", line 468, in request\n",
      "    resp = self.send(prep, **send_kwargs)\n",
      "  File \"C:\\Users\\jguichar\\Anaconda\\lib\\site-packages\\requests\\sessions.py\", line 576, in send\n",
      "    r = adapter.send(request, **kwargs)\n",
      "  File \"C:\\Users\\jguichar\\Anaconda\\lib\\site-packages\\requests\\adapters.py\", line 449, in send\n",
      "    raise ReadTimeout(e, request=request)\n",
      "ReadTimeout: HTTPConnectionPool(host='127.0.0.1', port=8080): Read timed out. (read timeout=0.1)\n"
     ]
    },
    {
     "name": "stdout",
     "output_type": "stream",
     "text": [
      "Google Speech Recognition could not understand audio\n",
      "Je n'ai pas compris. Veuillez répetez\n",
      "Je suis dans: normal\n",
      "Say something!\n",
      "Google Speech Recognition could not understand audio\n",
      "Je n'ai pas compris. Veuillez répetez\n",
      "Je suis dans: normal\n",
      "Say something!\n"
     ]
    },
    {
     "name": "stderr",
     "output_type": "stream",
     "text": [
      "Traceback (most recent call last):\n",
      "  File \"C:\\Users\\jguichar\\Anaconda\\lib\\site-packages\\bottle.py\", line 862, in _handle\n",
      "    return route.call(**args)\n",
      "  File \"C:\\Users\\jguichar\\Anaconda\\lib\\site-packages\\bottle.py\", line 1732, in wrapper\n",
      "    rv = callback(*a, **ka)\n",
      "  File \"C:\\Users\\jguichar\\Anaconda\\lib\\site-packages\\pypot\\server\\httpserver.py\", line 47, in _enable_cors\n",
      "    return fn(*args, **kwargs)\n",
      "  File \"C:\\Users\\jguichar\\Anaconda\\lib\\site-packages\\pypot\\server\\httpserver.py\", line 165, in start_primitive\n",
      "    rr.start_primitive(prim)\n",
      "  File \"C:\\Users\\jguichar\\Anaconda\\lib\\site-packages\\pypot\\server\\rest.py\", line 83, in start_primitive\n",
      "    self._call_primitive_method(primitive, 'start')\n",
      "  File \"C:\\Users\\jguichar\\Anaconda\\lib\\site-packages\\pypot\\server\\rest.py\", line 119, in _call_primitive_method\n",
      "    return f(*args, **kwargs)\n",
      "  File \"speechToText\\listen.py\", line 166, in start\n",
      "    # if it's not a string\n",
      "  File \"C:\\Users\\jguichar\\Anaconda\\lib\\site-packages\\requests\\api.py\", line 67, in get\n",
      "    return request('get', url, params=params, **kwargs)\n",
      "  File \"C:\\Users\\jguichar\\Anaconda\\lib\\site-packages\\requests\\api.py\", line 53, in request\n",
      "    return session.request(method=method, url=url, **kwargs)\n",
      "  File \"C:\\Users\\jguichar\\Anaconda\\lib\\site-packages\\requests\\sessions.py\", line 468, in request\n",
      "    resp = self.send(prep, **send_kwargs)\n",
      "  File \"C:\\Users\\jguichar\\Anaconda\\lib\\site-packages\\requests\\sessions.py\", line 576, in send\n",
      "    r = adapter.send(request, **kwargs)\n",
      "  File \"C:\\Users\\jguichar\\Anaconda\\lib\\site-packages\\requests\\adapters.py\", line 449, in send\n",
      "    raise ReadTimeout(e, request=request)\n",
      "ReadTimeout: HTTPConnectionPool(host='127.0.0.1', port=8080): Read timed out. (read timeout=0.1)\n",
      "Traceback (most recent call last):\n",
      "  File \"C:\\Users\\jguichar\\Anaconda\\lib\\site-packages\\bottle.py\", line 862, in _handle\n",
      "    return route.call(**args)\n",
      "  File \"C:\\Users\\jguichar\\Anaconda\\lib\\site-packages\\bottle.py\", line 1732, in wrapper\n",
      "    rv = callback(*a, **ka)\n",
      "  File \"C:\\Users\\jguichar\\Anaconda\\lib\\site-packages\\pypot\\server\\httpserver.py\", line 47, in _enable_cors\n",
      "    return fn(*args, **kwargs)\n",
      "  File \"C:\\Users\\jguichar\\Anaconda\\lib\\site-packages\\pypot\\server\\httpserver.py\", line 165, in start_primitive\n",
      "    rr.start_primitive(prim)\n",
      "  File \"C:\\Users\\jguichar\\Anaconda\\lib\\site-packages\\pypot\\server\\rest.py\", line 83, in start_primitive\n",
      "    self._call_primitive_method(primitive, 'start')\n",
      "  File \"C:\\Users\\jguichar\\Anaconda\\lib\\site-packages\\pypot\\server\\rest.py\", line 119, in _call_primitive_method\n",
      "    return f(*args, **kwargs)\n",
      "  File \"speechToText\\listen.py\", line 224, in start\n",
      "    return 0\n",
      "  File \"C:\\Users\\jguichar\\Anaconda\\lib\\site-packages\\requests\\api.py\", line 67, in get\n",
      "    return request('get', url, params=params, **kwargs)\n",
      "  File \"C:\\Users\\jguichar\\Anaconda\\lib\\site-packages\\requests\\api.py\", line 53, in request\n",
      "    return session.request(method=method, url=url, **kwargs)\n",
      "  File \"C:\\Users\\jguichar\\Anaconda\\lib\\site-packages\\requests\\sessions.py\", line 468, in request\n",
      "    resp = self.send(prep, **send_kwargs)\n",
      "  File \"C:\\Users\\jguichar\\Anaconda\\lib\\site-packages\\requests\\sessions.py\", line 576, in send\n",
      "    r = adapter.send(request, **kwargs)\n",
      "  File \"C:\\Users\\jguichar\\Anaconda\\lib\\site-packages\\requests\\adapters.py\", line 449, in send\n",
      "    raise ReadTimeout(e, request=request)\n",
      "ReadTimeout: HTTPConnectionPool(host='127.0.0.1', port=8080): Read timed out. (read timeout=0.1)\n"
     ]
    },
    {
     "name": "stdout",
     "output_type": "stream",
     "text": [
      "Google Speech Recognition thinks you said le temps\n",
      "le temps\n",
      "Je suis dans: normal\n",
      "Pas compris\n",
      "Say something!\n",
      "Google Speech Recognition could not understand audio\n",
      "Je n'ai pas compris. Veuillez répetez\n",
      "Je suis dans: normal\n",
      "Say something!\n"
     ]
    },
    {
     "name": "stderr",
     "output_type": "stream",
     "text": [
      "Traceback (most recent call last):\n",
      "  File \"C:\\Users\\jguichar\\Anaconda\\lib\\site-packages\\bottle.py\", line 862, in _handle\n",
      "    return route.call(**args)\n",
      "  File \"C:\\Users\\jguichar\\Anaconda\\lib\\site-packages\\bottle.py\", line 1732, in wrapper\n",
      "    rv = callback(*a, **ka)\n",
      "  File \"C:\\Users\\jguichar\\Anaconda\\lib\\site-packages\\pypot\\server\\httpserver.py\", line 47, in _enable_cors\n",
      "    return fn(*args, **kwargs)\n",
      "  File \"C:\\Users\\jguichar\\Anaconda\\lib\\site-packages\\pypot\\server\\httpserver.py\", line 165, in start_primitive\n",
      "    rr.start_primitive(prim)\n",
      "  File \"C:\\Users\\jguichar\\Anaconda\\lib\\site-packages\\pypot\\server\\rest.py\", line 83, in start_primitive\n",
      "    self._call_primitive_method(primitive, 'start')\n",
      "  File \"C:\\Users\\jguichar\\Anaconda\\lib\\site-packages\\pypot\\server\\rest.py\", line 119, in _call_primitive_method\n",
      "    return f(*args, **kwargs)\n",
      "  File \"speechToText\\listen.py\", line 166, in start\n",
      "    # if it's not a string\n",
      "  File \"C:\\Users\\jguichar\\Anaconda\\lib\\site-packages\\requests\\api.py\", line 67, in get\n",
      "    return request('get', url, params=params, **kwargs)\n",
      "  File \"C:\\Users\\jguichar\\Anaconda\\lib\\site-packages\\requests\\api.py\", line 53, in request\n",
      "    return session.request(method=method, url=url, **kwargs)\n",
      "  File \"C:\\Users\\jguichar\\Anaconda\\lib\\site-packages\\requests\\sessions.py\", line 468, in request\n",
      "    resp = self.send(prep, **send_kwargs)\n",
      "  File \"C:\\Users\\jguichar\\Anaconda\\lib\\site-packages\\requests\\sessions.py\", line 576, in send\n",
      "    r = adapter.send(request, **kwargs)\n",
      "  File \"C:\\Users\\jguichar\\Anaconda\\lib\\site-packages\\requests\\adapters.py\", line 449, in send\n",
      "    raise ReadTimeout(e, request=request)\n",
      "ReadTimeout: HTTPConnectionPool(host='127.0.0.1', port=8080): Read timed out. (read timeout=0.1)\n",
      "Traceback (most recent call last):\n",
      "  File \"C:\\Users\\jguichar\\Anaconda\\lib\\site-packages\\bottle.py\", line 862, in _handle\n",
      "    return route.call(**args)\n",
      "  File \"C:\\Users\\jguichar\\Anaconda\\lib\\site-packages\\bottle.py\", line 1732, in wrapper\n",
      "    rv = callback(*a, **ka)\n",
      "  File \"C:\\Users\\jguichar\\Anaconda\\lib\\site-packages\\pypot\\server\\httpserver.py\", line 47, in _enable_cors\n",
      "    return fn(*args, **kwargs)\n",
      "  File \"C:\\Users\\jguichar\\Anaconda\\lib\\site-packages\\pypot\\server\\httpserver.py\", line 165, in start_primitive\n",
      "    rr.start_primitive(prim)\n",
      "  File \"C:\\Users\\jguichar\\Anaconda\\lib\\site-packages\\pypot\\server\\rest.py\", line 83, in start_primitive\n",
      "    self._call_primitive_method(primitive, 'start')\n",
      "  File \"C:\\Users\\jguichar\\Anaconda\\lib\\site-packages\\pypot\\server\\rest.py\", line 119, in _call_primitive_method\n",
      "    return f(*args, **kwargs)\n",
      "  File \"speechToText\\listen.py\", line 166, in start\n",
      "    # if it's not a string\n",
      "  File \"C:\\Users\\jguichar\\Anaconda\\lib\\site-packages\\requests\\api.py\", line 67, in get\n",
      "    return request('get', url, params=params, **kwargs)\n",
      "  File \"C:\\Users\\jguichar\\Anaconda\\lib\\site-packages\\requests\\api.py\", line 53, in request\n",
      "    return session.request(method=method, url=url, **kwargs)\n",
      "  File \"C:\\Users\\jguichar\\Anaconda\\lib\\site-packages\\requests\\sessions.py\", line 468, in request\n",
      "    resp = self.send(prep, **send_kwargs)\n",
      "  File \"C:\\Users\\jguichar\\Anaconda\\lib\\site-packages\\requests\\sessions.py\", line 576, in send\n",
      "    r = adapter.send(request, **kwargs)\n",
      "  File \"C:\\Users\\jguichar\\Anaconda\\lib\\site-packages\\requests\\adapters.py\", line 449, in send\n",
      "    raise ReadTimeout(e, request=request)\n",
      "ReadTimeout: HTTPConnectionPool(host='127.0.0.1', port=8080): Read timed out. (read timeout=0.1)\n"
     ]
    },
    {
     "name": "stdout",
     "output_type": "stream",
     "text": [
      "Google Speech Recognition could not understand audio\n",
      "Je n'ai pas compris. Veuillez répetez\n",
      "Je suis dans: normal\n",
      "Say something!\n",
      "Google Speech Recognition could not understand audio\n",
      "Je n'ai pas compris. Veuillez répetez\n",
      "Je suis dans: normal\n",
      "Say something!\n"
     ]
    },
    {
     "name": "stderr",
     "output_type": "stream",
     "text": [
      "Traceback (most recent call last):\n",
      "  File \"C:\\Users\\jguichar\\Anaconda\\lib\\site-packages\\bottle.py\", line 862, in _handle\n",
      "    return route.call(**args)\n",
      "  File \"C:\\Users\\jguichar\\Anaconda\\lib\\site-packages\\bottle.py\", line 1732, in wrapper\n",
      "    rv = callback(*a, **ka)\n",
      "  File \"C:\\Users\\jguichar\\Anaconda\\lib\\site-packages\\pypot\\server\\httpserver.py\", line 47, in _enable_cors\n",
      "    return fn(*args, **kwargs)\n",
      "  File \"C:\\Users\\jguichar\\Anaconda\\lib\\site-packages\\pypot\\server\\httpserver.py\", line 165, in start_primitive\n",
      "    rr.start_primitive(prim)\n",
      "  File \"C:\\Users\\jguichar\\Anaconda\\lib\\site-packages\\pypot\\server\\rest.py\", line 83, in start_primitive\n",
      "    self._call_primitive_method(primitive, 'start')\n",
      "  File \"C:\\Users\\jguichar\\Anaconda\\lib\\site-packages\\pypot\\server\\rest.py\", line 119, in _call_primitive_method\n",
      "    return f(*args, **kwargs)\n",
      "  File \"speechToText\\listen.py\", line 166, in start\n",
      "    # if it's not a string\n",
      "  File \"C:\\Users\\jguichar\\Anaconda\\lib\\site-packages\\requests\\api.py\", line 67, in get\n",
      "    return request('get', url, params=params, **kwargs)\n",
      "  File \"C:\\Users\\jguichar\\Anaconda\\lib\\site-packages\\requests\\api.py\", line 53, in request\n",
      "    return session.request(method=method, url=url, **kwargs)\n",
      "  File \"C:\\Users\\jguichar\\Anaconda\\lib\\site-packages\\requests\\sessions.py\", line 468, in request\n",
      "    resp = self.send(prep, **send_kwargs)\n",
      "  File \"C:\\Users\\jguichar\\Anaconda\\lib\\site-packages\\requests\\sessions.py\", line 576, in send\n",
      "    r = adapter.send(request, **kwargs)\n",
      "  File \"C:\\Users\\jguichar\\Anaconda\\lib\\site-packages\\requests\\adapters.py\", line 449, in send\n",
      "    raise ReadTimeout(e, request=request)\n",
      "ReadTimeout: HTTPConnectionPool(host='127.0.0.1', port=8080): Read timed out. (read timeout=0.1)\n",
      "Traceback (most recent call last):\n",
      "  File \"C:\\Users\\jguichar\\Anaconda\\lib\\site-packages\\bottle.py\", line 862, in _handle\n",
      "    return route.call(**args)\n",
      "  File \"C:\\Users\\jguichar\\Anaconda\\lib\\site-packages\\bottle.py\", line 1732, in wrapper\n",
      "    rv = callback(*a, **ka)\n",
      "  File \"C:\\Users\\jguichar\\Anaconda\\lib\\site-packages\\pypot\\server\\httpserver.py\", line 47, in _enable_cors\n",
      "    return fn(*args, **kwargs)\n",
      "  File \"C:\\Users\\jguichar\\Anaconda\\lib\\site-packages\\pypot\\server\\httpserver.py\", line 165, in start_primitive\n",
      "    rr.start_primitive(prim)\n",
      "  File \"C:\\Users\\jguichar\\Anaconda\\lib\\site-packages\\pypot\\server\\rest.py\", line 83, in start_primitive\n",
      "    self._call_primitive_method(primitive, 'start')\n",
      "  File \"C:\\Users\\jguichar\\Anaconda\\lib\\site-packages\\pypot\\server\\rest.py\", line 119, in _call_primitive_method\n",
      "    return f(*args, **kwargs)\n",
      "  File \"speechToText\\listen.py\", line 166, in start\n",
      "    # if it's not a string\n",
      "  File \"C:\\Users\\jguichar\\Anaconda\\lib\\site-packages\\requests\\api.py\", line 67, in get\n",
      "    return request('get', url, params=params, **kwargs)\n",
      "  File \"C:\\Users\\jguichar\\Anaconda\\lib\\site-packages\\requests\\api.py\", line 53, in request\n",
      "    return session.request(method=method, url=url, **kwargs)\n",
      "  File \"C:\\Users\\jguichar\\Anaconda\\lib\\site-packages\\requests\\sessions.py\", line 468, in request\n",
      "    resp = self.send(prep, **send_kwargs)\n",
      "  File \"C:\\Users\\jguichar\\Anaconda\\lib\\site-packages\\requests\\sessions.py\", line 576, in send\n",
      "    r = adapter.send(request, **kwargs)\n",
      "  File \"C:\\Users\\jguichar\\Anaconda\\lib\\site-packages\\requests\\adapters.py\", line 449, in send\n",
      "    raise ReadTimeout(e, request=request)\n",
      "ReadTimeout: HTTPConnectionPool(host='127.0.0.1', port=8080): Read timed out. (read timeout=0.1)\n"
     ]
    },
    {
     "name": "stdout",
     "output_type": "stream",
     "text": [
      "Google Speech Recognition could not understand audio\n",
      "Je n'ai pas compris. Veuillez répetez\n",
      "Je suis dans: normal\n",
      "Say something!\n",
      "Google Speech Recognition could not understand audio\n",
      "Je n'ai pas compris. Veuillez répetez\n",
      "Je suis dans: normal\n",
      "Say something!\n"
     ]
    },
    {
     "name": "stderr",
     "output_type": "stream",
     "text": [
      "Traceback (most recent call last):\n",
      "  File \"C:\\Users\\jguichar\\Anaconda\\lib\\site-packages\\bottle.py\", line 862, in _handle\n",
      "    return route.call(**args)\n",
      "  File \"C:\\Users\\jguichar\\Anaconda\\lib\\site-packages\\bottle.py\", line 1732, in wrapper\n",
      "    rv = callback(*a, **ka)\n",
      "  File \"C:\\Users\\jguichar\\Anaconda\\lib\\site-packages\\pypot\\server\\httpserver.py\", line 47, in _enable_cors\n",
      "    return fn(*args, **kwargs)\n",
      "  File \"C:\\Users\\jguichar\\Anaconda\\lib\\site-packages\\pypot\\server\\httpserver.py\", line 165, in start_primitive\n",
      "    rr.start_primitive(prim)\n",
      "  File \"C:\\Users\\jguichar\\Anaconda\\lib\\site-packages\\pypot\\server\\rest.py\", line 83, in start_primitive\n",
      "    self._call_primitive_method(primitive, 'start')\n",
      "  File \"C:\\Users\\jguichar\\Anaconda\\lib\\site-packages\\pypot\\server\\rest.py\", line 119, in _call_primitive_method\n",
      "    return f(*args, **kwargs)\n",
      "  File \"speechToText\\listen.py\", line 166, in start\n",
      "    # if it's not a string\n",
      "  File \"C:\\Users\\jguichar\\Anaconda\\lib\\site-packages\\requests\\api.py\", line 67, in get\n",
      "    return request('get', url, params=params, **kwargs)\n",
      "  File \"C:\\Users\\jguichar\\Anaconda\\lib\\site-packages\\requests\\api.py\", line 53, in request\n",
      "    return session.request(method=method, url=url, **kwargs)\n",
      "  File \"C:\\Users\\jguichar\\Anaconda\\lib\\site-packages\\requests\\sessions.py\", line 468, in request\n",
      "    resp = self.send(prep, **send_kwargs)\n",
      "  File \"C:\\Users\\jguichar\\Anaconda\\lib\\site-packages\\requests\\sessions.py\", line 576, in send\n",
      "    r = adapter.send(request, **kwargs)\n",
      "  File \"C:\\Users\\jguichar\\Anaconda\\lib\\site-packages\\requests\\adapters.py\", line 449, in send\n",
      "    raise ReadTimeout(e, request=request)\n",
      "ReadTimeout: HTTPConnectionPool(host='127.0.0.1', port=8080): Read timed out. (read timeout=0.1)\n",
      "Traceback (most recent call last):\n",
      "  File \"C:\\Users\\jguichar\\Anaconda\\lib\\site-packages\\bottle.py\", line 862, in _handle\n",
      "    return route.call(**args)\n",
      "  File \"C:\\Users\\jguichar\\Anaconda\\lib\\site-packages\\bottle.py\", line 1732, in wrapper\n",
      "    rv = callback(*a, **ka)\n",
      "  File \"C:\\Users\\jguichar\\Anaconda\\lib\\site-packages\\pypot\\server\\httpserver.py\", line 47, in _enable_cors\n",
      "    return fn(*args, **kwargs)\n",
      "  File \"C:\\Users\\jguichar\\Anaconda\\lib\\site-packages\\pypot\\server\\httpserver.py\", line 165, in start_primitive\n",
      "    rr.start_primitive(prim)\n",
      "  File \"C:\\Users\\jguichar\\Anaconda\\lib\\site-packages\\pypot\\server\\rest.py\", line 83, in start_primitive\n",
      "    self._call_primitive_method(primitive, 'start')\n",
      "  File \"C:\\Users\\jguichar\\Anaconda\\lib\\site-packages\\pypot\\server\\rest.py\", line 119, in _call_primitive_method\n",
      "    return f(*args, **kwargs)\n",
      "  File \"speechToText\\listen.py\", line 166, in start\n",
      "    # if it's not a string\n",
      "  File \"C:\\Users\\jguichar\\Anaconda\\lib\\site-packages\\requests\\api.py\", line 67, in get\n",
      "    return request('get', url, params=params, **kwargs)\n",
      "  File \"C:\\Users\\jguichar\\Anaconda\\lib\\site-packages\\requests\\api.py\", line 53, in request\n",
      "    return session.request(method=method, url=url, **kwargs)\n",
      "  File \"C:\\Users\\jguichar\\Anaconda\\lib\\site-packages\\requests\\sessions.py\", line 468, in request\n",
      "    resp = self.send(prep, **send_kwargs)\n",
      "  File \"C:\\Users\\jguichar\\Anaconda\\lib\\site-packages\\requests\\sessions.py\", line 576, in send\n",
      "    r = adapter.send(request, **kwargs)\n",
      "  File \"C:\\Users\\jguichar\\Anaconda\\lib\\site-packages\\requests\\adapters.py\", line 449, in send\n",
      "    raise ReadTimeout(e, request=request)\n",
      "ReadTimeout: HTTPConnectionPool(host='127.0.0.1', port=8080): Read timed out. (read timeout=0.1)\n"
     ]
    },
    {
     "name": "stdout",
     "output_type": "stream",
     "text": [
      "Google Speech Recognition could not understand audio\n",
      "Je n'ai pas compris. Veuillez répetez\n",
      "Je suis dans: normal\n",
      "Say something!\n",
      "Google Speech Recognition could not understand audio\n",
      "Je n'ai pas compris. Veuillez répetez\n",
      "Je suis dans: normal\n",
      "Say something!\n"
     ]
    },
    {
     "name": "stderr",
     "output_type": "stream",
     "text": [
      "Traceback (most recent call last):\n",
      "  File \"C:\\Users\\jguichar\\Anaconda\\lib\\site-packages\\bottle.py\", line 862, in _handle\n",
      "    return route.call(**args)\n",
      "  File \"C:\\Users\\jguichar\\Anaconda\\lib\\site-packages\\bottle.py\", line 1732, in wrapper\n",
      "    rv = callback(*a, **ka)\n",
      "  File \"C:\\Users\\jguichar\\Anaconda\\lib\\site-packages\\pypot\\server\\httpserver.py\", line 47, in _enable_cors\n",
      "    return fn(*args, **kwargs)\n",
      "  File \"C:\\Users\\jguichar\\Anaconda\\lib\\site-packages\\pypot\\server\\httpserver.py\", line 165, in start_primitive\n",
      "    rr.start_primitive(prim)\n",
      "  File \"C:\\Users\\jguichar\\Anaconda\\lib\\site-packages\\pypot\\server\\rest.py\", line 83, in start_primitive\n",
      "    self._call_primitive_method(primitive, 'start')\n",
      "  File \"C:\\Users\\jguichar\\Anaconda\\lib\\site-packages\\pypot\\server\\rest.py\", line 119, in _call_primitive_method\n",
      "    return f(*args, **kwargs)\n",
      "  File \"speechToText\\listen.py\", line 166, in start\n",
      "    # if it's not a string\n",
      "  File \"C:\\Users\\jguichar\\Anaconda\\lib\\site-packages\\requests\\api.py\", line 67, in get\n",
      "    return request('get', url, params=params, **kwargs)\n",
      "  File \"C:\\Users\\jguichar\\Anaconda\\lib\\site-packages\\requests\\api.py\", line 53, in request\n",
      "    return session.request(method=method, url=url, **kwargs)\n",
      "  File \"C:\\Users\\jguichar\\Anaconda\\lib\\site-packages\\requests\\sessions.py\", line 468, in request\n",
      "    resp = self.send(prep, **send_kwargs)\n",
      "  File \"C:\\Users\\jguichar\\Anaconda\\lib\\site-packages\\requests\\sessions.py\", line 576, in send\n",
      "    r = adapter.send(request, **kwargs)\n",
      "  File \"C:\\Users\\jguichar\\Anaconda\\lib\\site-packages\\requests\\adapters.py\", line 449, in send\n",
      "    raise ReadTimeout(e, request=request)\n",
      "ReadTimeout: HTTPConnectionPool(host='127.0.0.1', port=8080): Read timed out. (read timeout=0.1)\n",
      "Traceback (most recent call last):\n",
      "  File \"C:\\Users\\jguichar\\Anaconda\\lib\\site-packages\\bottle.py\", line 862, in _handle\n",
      "    return route.call(**args)\n",
      "  File \"C:\\Users\\jguichar\\Anaconda\\lib\\site-packages\\bottle.py\", line 1732, in wrapper\n",
      "    rv = callback(*a, **ka)\n",
      "  File \"C:\\Users\\jguichar\\Anaconda\\lib\\site-packages\\pypot\\server\\httpserver.py\", line 47, in _enable_cors\n",
      "    return fn(*args, **kwargs)\n",
      "  File \"C:\\Users\\jguichar\\Anaconda\\lib\\site-packages\\pypot\\server\\httpserver.py\", line 165, in start_primitive\n",
      "    rr.start_primitive(prim)\n",
      "  File \"C:\\Users\\jguichar\\Anaconda\\lib\\site-packages\\pypot\\server\\rest.py\", line 83, in start_primitive\n",
      "    self._call_primitive_method(primitive, 'start')\n",
      "  File \"C:\\Users\\jguichar\\Anaconda\\lib\\site-packages\\pypot\\server\\rest.py\", line 119, in _call_primitive_method\n",
      "    return f(*args, **kwargs)\n",
      "  File \"speechToText\\listen.py\", line 166, in start\n",
      "    # if it's not a string\n",
      "  File \"C:\\Users\\jguichar\\Anaconda\\lib\\site-packages\\requests\\api.py\", line 67, in get\n",
      "    return request('get', url, params=params, **kwargs)\n",
      "  File \"C:\\Users\\jguichar\\Anaconda\\lib\\site-packages\\requests\\api.py\", line 53, in request\n",
      "    return session.request(method=method, url=url, **kwargs)\n",
      "  File \"C:\\Users\\jguichar\\Anaconda\\lib\\site-packages\\requests\\sessions.py\", line 468, in request\n",
      "    resp = self.send(prep, **send_kwargs)\n",
      "  File \"C:\\Users\\jguichar\\Anaconda\\lib\\site-packages\\requests\\sessions.py\", line 576, in send\n",
      "    r = adapter.send(request, **kwargs)\n",
      "  File \"C:\\Users\\jguichar\\Anaconda\\lib\\site-packages\\requests\\adapters.py\", line 449, in send\n",
      "    raise ReadTimeout(e, request=request)\n",
      "ReadTimeout: HTTPConnectionPool(host='127.0.0.1', port=8080): Read timed out. (read timeout=0.1)\n"
     ]
    },
    {
     "name": "stdout",
     "output_type": "stream",
     "text": [
      "Google Speech Recognition could not understand audio\n",
      "Je n'ai pas compris. Veuillez répetez\n",
      "Je suis dans: normal\n",
      "Say something!\n",
      "Google Speech Recognition could not understand audio\n",
      "Je n'ai pas compris. Veuillez répetez\n",
      "Je suis dans: normal\n",
      "Say something!\n"
     ]
    },
    {
     "name": "stderr",
     "output_type": "stream",
     "text": [
      "Traceback (most recent call last):\n",
      "  File \"C:\\Users\\jguichar\\Anaconda\\lib\\site-packages\\bottle.py\", line 862, in _handle\n",
      "    return route.call(**args)\n",
      "  File \"C:\\Users\\jguichar\\Anaconda\\lib\\site-packages\\bottle.py\", line 1732, in wrapper\n",
      "    rv = callback(*a, **ka)\n",
      "  File \"C:\\Users\\jguichar\\Anaconda\\lib\\site-packages\\pypot\\server\\httpserver.py\", line 47, in _enable_cors\n",
      "    return fn(*args, **kwargs)\n",
      "  File \"C:\\Users\\jguichar\\Anaconda\\lib\\site-packages\\pypot\\server\\httpserver.py\", line 165, in start_primitive\n",
      "    rr.start_primitive(prim)\n",
      "  File \"C:\\Users\\jguichar\\Anaconda\\lib\\site-packages\\pypot\\server\\rest.py\", line 83, in start_primitive\n",
      "    self._call_primitive_method(primitive, 'start')\n",
      "  File \"C:\\Users\\jguichar\\Anaconda\\lib\\site-packages\\pypot\\server\\rest.py\", line 119, in _call_primitive_method\n",
      "    return f(*args, **kwargs)\n",
      "  File \"speechToText\\listen.py\", line 166, in start\n",
      "    # if it's not a string\n",
      "  File \"C:\\Users\\jguichar\\Anaconda\\lib\\site-packages\\requests\\api.py\", line 67, in get\n",
      "    return request('get', url, params=params, **kwargs)\n",
      "  File \"C:\\Users\\jguichar\\Anaconda\\lib\\site-packages\\requests\\api.py\", line 53, in request\n",
      "    return session.request(method=method, url=url, **kwargs)\n",
      "  File \"C:\\Users\\jguichar\\Anaconda\\lib\\site-packages\\requests\\sessions.py\", line 468, in request\n",
      "    resp = self.send(prep, **send_kwargs)\n",
      "  File \"C:\\Users\\jguichar\\Anaconda\\lib\\site-packages\\requests\\sessions.py\", line 576, in send\n",
      "    r = adapter.send(request, **kwargs)\n",
      "  File \"C:\\Users\\jguichar\\Anaconda\\lib\\site-packages\\requests\\adapters.py\", line 449, in send\n",
      "    raise ReadTimeout(e, request=request)\n",
      "ReadTimeout: HTTPConnectionPool(host='127.0.0.1', port=8080): Read timed out. (read timeout=0.1)\n",
      "Traceback (most recent call last):\n",
      "  File \"C:\\Users\\jguichar\\Anaconda\\lib\\site-packages\\bottle.py\", line 862, in _handle\n",
      "    return route.call(**args)\n",
      "  File \"C:\\Users\\jguichar\\Anaconda\\lib\\site-packages\\bottle.py\", line 1732, in wrapper\n",
      "    rv = callback(*a, **ka)\n",
      "  File \"C:\\Users\\jguichar\\Anaconda\\lib\\site-packages\\pypot\\server\\httpserver.py\", line 47, in _enable_cors\n",
      "    return fn(*args, **kwargs)\n",
      "  File \"C:\\Users\\jguichar\\Anaconda\\lib\\site-packages\\pypot\\server\\httpserver.py\", line 165, in start_primitive\n",
      "    rr.start_primitive(prim)\n",
      "  File \"C:\\Users\\jguichar\\Anaconda\\lib\\site-packages\\pypot\\server\\rest.py\", line 83, in start_primitive\n",
      "    self._call_primitive_method(primitive, 'start')\n",
      "  File \"C:\\Users\\jguichar\\Anaconda\\lib\\site-packages\\pypot\\server\\rest.py\", line 119, in _call_primitive_method\n",
      "    return f(*args, **kwargs)\n",
      "  File \"speechToText\\listen.py\", line 166, in start\n",
      "    # if it's not a string\n",
      "  File \"C:\\Users\\jguichar\\Anaconda\\lib\\site-packages\\requests\\api.py\", line 67, in get\n",
      "    return request('get', url, params=params, **kwargs)\n",
      "  File \"C:\\Users\\jguichar\\Anaconda\\lib\\site-packages\\requests\\api.py\", line 53, in request\n",
      "    return session.request(method=method, url=url, **kwargs)\n",
      "  File \"C:\\Users\\jguichar\\Anaconda\\lib\\site-packages\\requests\\sessions.py\", line 468, in request\n",
      "    resp = self.send(prep, **send_kwargs)\n",
      "  File \"C:\\Users\\jguichar\\Anaconda\\lib\\site-packages\\requests\\sessions.py\", line 576, in send\n",
      "    r = adapter.send(request, **kwargs)\n",
      "  File \"C:\\Users\\jguichar\\Anaconda\\lib\\site-packages\\requests\\adapters.py\", line 449, in send\n",
      "    raise ReadTimeout(e, request=request)\n",
      "ReadTimeout: HTTPConnectionPool(host='127.0.0.1', port=8080): Read timed out. (read timeout=0.1)\n"
     ]
    },
    {
     "name": "stdout",
     "output_type": "stream",
     "text": [
      "Google Speech Recognition could not understand audio\n",
      "Je n'ai pas compris. Veuillez répetez\n",
      "Je suis dans: normal\n",
      "Say something!\n",
      "Google Speech Recognition could not understand audio\n",
      "Je n'ai pas compris. Veuillez répetez\n",
      "Je suis dans: normal\n",
      "Say something!\n"
     ]
    },
    {
     "name": "stderr",
     "output_type": "stream",
     "text": [
      "Traceback (most recent call last):\n",
      "  File \"C:\\Users\\jguichar\\Anaconda\\lib\\site-packages\\bottle.py\", line 862, in _handle\n",
      "    return route.call(**args)\n",
      "  File \"C:\\Users\\jguichar\\Anaconda\\lib\\site-packages\\bottle.py\", line 1732, in wrapper\n",
      "    rv = callback(*a, **ka)\n",
      "  File \"C:\\Users\\jguichar\\Anaconda\\lib\\site-packages\\pypot\\server\\httpserver.py\", line 47, in _enable_cors\n",
      "    return fn(*args, **kwargs)\n",
      "  File \"C:\\Users\\jguichar\\Anaconda\\lib\\site-packages\\pypot\\server\\httpserver.py\", line 165, in start_primitive\n",
      "    rr.start_primitive(prim)\n",
      "  File \"C:\\Users\\jguichar\\Anaconda\\lib\\site-packages\\pypot\\server\\rest.py\", line 83, in start_primitive\n",
      "    self._call_primitive_method(primitive, 'start')\n",
      "  File \"C:\\Users\\jguichar\\Anaconda\\lib\\site-packages\\pypot\\server\\rest.py\", line 119, in _call_primitive_method\n",
      "    return f(*args, **kwargs)\n",
      "  File \"speechToText\\listen.py\", line 166, in start\n",
      "    # if it's not a string\n",
      "  File \"C:\\Users\\jguichar\\Anaconda\\lib\\site-packages\\requests\\api.py\", line 67, in get\n",
      "    return request('get', url, params=params, **kwargs)\n",
      "  File \"C:\\Users\\jguichar\\Anaconda\\lib\\site-packages\\requests\\api.py\", line 53, in request\n",
      "    return session.request(method=method, url=url, **kwargs)\n",
      "  File \"C:\\Users\\jguichar\\Anaconda\\lib\\site-packages\\requests\\sessions.py\", line 468, in request\n",
      "    resp = self.send(prep, **send_kwargs)\n",
      "  File \"C:\\Users\\jguichar\\Anaconda\\lib\\site-packages\\requests\\sessions.py\", line 576, in send\n",
      "    r = adapter.send(request, **kwargs)\n",
      "  File \"C:\\Users\\jguichar\\Anaconda\\lib\\site-packages\\requests\\adapters.py\", line 449, in send\n",
      "    raise ReadTimeout(e, request=request)\n",
      "ReadTimeout: HTTPConnectionPool(host='127.0.0.1', port=8080): Read timed out. (read timeout=0.1)\n",
      "Traceback (most recent call last):\n",
      "  File \"C:\\Users\\jguichar\\Anaconda\\lib\\site-packages\\bottle.py\", line 862, in _handle\n",
      "    return route.call(**args)\n",
      "  File \"C:\\Users\\jguichar\\Anaconda\\lib\\site-packages\\bottle.py\", line 1732, in wrapper\n",
      "    rv = callback(*a, **ka)\n",
      "  File \"C:\\Users\\jguichar\\Anaconda\\lib\\site-packages\\pypot\\server\\httpserver.py\", line 47, in _enable_cors\n",
      "    return fn(*args, **kwargs)\n",
      "  File \"C:\\Users\\jguichar\\Anaconda\\lib\\site-packages\\pypot\\server\\httpserver.py\", line 165, in start_primitive\n",
      "    rr.start_primitive(prim)\n",
      "  File \"C:\\Users\\jguichar\\Anaconda\\lib\\site-packages\\pypot\\server\\rest.py\", line 83, in start_primitive\n",
      "    self._call_primitive_method(primitive, 'start')\n",
      "  File \"C:\\Users\\jguichar\\Anaconda\\lib\\site-packages\\pypot\\server\\rest.py\", line 119, in _call_primitive_method\n",
      "    return f(*args, **kwargs)\n",
      "  File \"speechToText\\listen.py\", line 166, in start\n",
      "    # if it's not a string\n",
      "  File \"C:\\Users\\jguichar\\Anaconda\\lib\\site-packages\\requests\\api.py\", line 67, in get\n",
      "    return request('get', url, params=params, **kwargs)\n",
      "  File \"C:\\Users\\jguichar\\Anaconda\\lib\\site-packages\\requests\\api.py\", line 53, in request\n",
      "    return session.request(method=method, url=url, **kwargs)\n",
      "  File \"C:\\Users\\jguichar\\Anaconda\\lib\\site-packages\\requests\\sessions.py\", line 468, in request\n",
      "    resp = self.send(prep, **send_kwargs)\n",
      "  File \"C:\\Users\\jguichar\\Anaconda\\lib\\site-packages\\requests\\sessions.py\", line 576, in send\n",
      "    r = adapter.send(request, **kwargs)\n",
      "  File \"C:\\Users\\jguichar\\Anaconda\\lib\\site-packages\\requests\\adapters.py\", line 449, in send\n",
      "    raise ReadTimeout(e, request=request)\n",
      "ReadTimeout: HTTPConnectionPool(host='127.0.0.1', port=8080): Read timed out. (read timeout=0.1)\n"
     ]
    },
    {
     "name": "stdout",
     "output_type": "stream",
     "text": [
      "Google Speech Recognition could not understand audio\n",
      "Je n'ai pas compris. Veuillez répetez\n",
      "Je suis dans: normal\n",
      "Say something!\n",
      "Google Speech Recognition could not understand audio\n",
      "Je n'ai pas compris. Veuillez répetez\n",
      "Je suis dans: normal\n",
      "Say something!\n"
     ]
    },
    {
     "name": "stderr",
     "output_type": "stream",
     "text": [
      "Traceback (most recent call last):\n",
      "  File \"C:\\Users\\jguichar\\Anaconda\\lib\\site-packages\\bottle.py\", line 862, in _handle\n",
      "    return route.call(**args)\n",
      "  File \"C:\\Users\\jguichar\\Anaconda\\lib\\site-packages\\bottle.py\", line 1732, in wrapper\n",
      "    rv = callback(*a, **ka)\n",
      "  File \"C:\\Users\\jguichar\\Anaconda\\lib\\site-packages\\pypot\\server\\httpserver.py\", line 47, in _enable_cors\n",
      "    return fn(*args, **kwargs)\n",
      "  File \"C:\\Users\\jguichar\\Anaconda\\lib\\site-packages\\pypot\\server\\httpserver.py\", line 165, in start_primitive\n",
      "    rr.start_primitive(prim)\n",
      "  File \"C:\\Users\\jguichar\\Anaconda\\lib\\site-packages\\pypot\\server\\rest.py\", line 83, in start_primitive\n",
      "    self._call_primitive_method(primitive, 'start')\n",
      "  File \"C:\\Users\\jguichar\\Anaconda\\lib\\site-packages\\pypot\\server\\rest.py\", line 119, in _call_primitive_method\n",
      "    return f(*args, **kwargs)\n",
      "  File \"speechToText\\listen.py\", line 166, in start\n",
      "    # if it's not a string\n",
      "  File \"C:\\Users\\jguichar\\Anaconda\\lib\\site-packages\\requests\\api.py\", line 67, in get\n",
      "    return request('get', url, params=params, **kwargs)\n",
      "  File \"C:\\Users\\jguichar\\Anaconda\\lib\\site-packages\\requests\\api.py\", line 53, in request\n",
      "    return session.request(method=method, url=url, **kwargs)\n",
      "  File \"C:\\Users\\jguichar\\Anaconda\\lib\\site-packages\\requests\\sessions.py\", line 468, in request\n",
      "    resp = self.send(prep, **send_kwargs)\n",
      "  File \"C:\\Users\\jguichar\\Anaconda\\lib\\site-packages\\requests\\sessions.py\", line 576, in send\n",
      "    r = adapter.send(request, **kwargs)\n",
      "  File \"C:\\Users\\jguichar\\Anaconda\\lib\\site-packages\\requests\\adapters.py\", line 449, in send\n",
      "    raise ReadTimeout(e, request=request)\n",
      "ReadTimeout: HTTPConnectionPool(host='127.0.0.1', port=8080): Read timed out. (read timeout=0.1)\n",
      "Traceback (most recent call last):\n",
      "  File \"C:\\Users\\jguichar\\Anaconda\\lib\\site-packages\\bottle.py\", line 862, in _handle\n",
      "    return route.call(**args)\n",
      "  File \"C:\\Users\\jguichar\\Anaconda\\lib\\site-packages\\bottle.py\", line 1732, in wrapper\n",
      "    rv = callback(*a, **ka)\n",
      "  File \"C:\\Users\\jguichar\\Anaconda\\lib\\site-packages\\pypot\\server\\httpserver.py\", line 47, in _enable_cors\n",
      "    return fn(*args, **kwargs)\n",
      "  File \"C:\\Users\\jguichar\\Anaconda\\lib\\site-packages\\pypot\\server\\httpserver.py\", line 165, in start_primitive\n",
      "    rr.start_primitive(prim)\n",
      "  File \"C:\\Users\\jguichar\\Anaconda\\lib\\site-packages\\pypot\\server\\rest.py\", line 83, in start_primitive\n",
      "    self._call_primitive_method(primitive, 'start')\n",
      "  File \"C:\\Users\\jguichar\\Anaconda\\lib\\site-packages\\pypot\\server\\rest.py\", line 119, in _call_primitive_method\n",
      "    return f(*args, **kwargs)\n",
      "  File \"speechToText\\listen.py\", line 224, in start\n",
      "    return 0\n",
      "  File \"C:\\Users\\jguichar\\Anaconda\\lib\\site-packages\\requests\\api.py\", line 67, in get\n",
      "    return request('get', url, params=params, **kwargs)\n",
      "  File \"C:\\Users\\jguichar\\Anaconda\\lib\\site-packages\\requests\\api.py\", line 53, in request\n",
      "    return session.request(method=method, url=url, **kwargs)\n",
      "  File \"C:\\Users\\jguichar\\Anaconda\\lib\\site-packages\\requests\\sessions.py\", line 468, in request\n",
      "    resp = self.send(prep, **send_kwargs)\n",
      "  File \"C:\\Users\\jguichar\\Anaconda\\lib\\site-packages\\requests\\sessions.py\", line 576, in send\n",
      "    r = adapter.send(request, **kwargs)\n",
      "  File \"C:\\Users\\jguichar\\Anaconda\\lib\\site-packages\\requests\\adapters.py\", line 449, in send\n",
      "    raise ReadTimeout(e, request=request)\n",
      "ReadTimeout: HTTPConnectionPool(host='127.0.0.1', port=8080): Read timed out. (read timeout=0.1)\n"
     ]
    }
   ],
   "source": [
    "requests.get('http://127.0.0.1:8080/robot/wait_behave?state=on')"
   ]
  },
  {
   "cell_type": "code",
   "execution_count": 16,
   "metadata": {
    "collapsed": false
   },
   "outputs": [
    {
     "data": {
      "text/plain": [
       "{u'running_primitives': [u'temperature_monitoring']}"
      ]
     },
     "execution_count": 16,
     "metadata": {},
     "output_type": "execute_result"
    },
    {
     "name": "stdout",
     "output_type": "stream",
     "text": [
      "Say something!\n",
      "Google Speech Recognition could not understand audio\n",
      "Je n'ai pas compris. Veuillez répetez\n",
      "Je suis dans: normal\n"
     ]
    }
   ],
   "source": [
    "# Get primitive currently running\n",
    "\n",
    "r = requests.get('http://127.0.0.2:8888/primitive/running/list.json')\n",
    "r.json()"
   ]
  },
  {
   "cell_type": "code",
   "execution_count": 15,
   "metadata": {
    "collapsed": false
   },
   "outputs": [
    {
     "name": "stdout",
     "output_type": "stream",
     "text": [
      "Say something!\n",
      "Google Speech Recognition could not understand audio\n",
      "Je n'ai pas compris. Veuillez répetez\n",
      "Je suis dans: normal\n"
     ]
    },
    {
     "name": "stderr",
     "output_type": "stream",
     "text": [
      "Traceback (most recent call last):\n",
      "  File \"C:\\Users\\jguichar\\Anaconda\\lib\\site-packages\\bottle.py\", line 862, in _handle\n",
      "    return route.call(**args)\n",
      "  File \"C:\\Users\\jguichar\\Anaconda\\lib\\site-packages\\bottle.py\", line 1732, in wrapper\n",
      "    rv = callback(*a, **ka)\n",
      "  File \"C:\\Users\\jguichar\\Anaconda\\lib\\site-packages\\pypot\\server\\httpserver.py\", line 47, in _enable_cors\n",
      "    return fn(*args, **kwargs)\n",
      "  File \"C:\\Users\\jguichar\\Anaconda\\lib\\site-packages\\pypot\\server\\httpserver.py\", line 165, in start_primitive\n",
      "    rr.start_primitive(prim)\n",
      "  File \"C:\\Users\\jguichar\\Anaconda\\lib\\site-packages\\pypot\\server\\rest.py\", line 83, in start_primitive\n",
      "    self._call_primitive_method(primitive, 'start')\n",
      "  File \"C:\\Users\\jguichar\\Anaconda\\lib\\site-packages\\pypot\\server\\rest.py\", line 119, in _call_primitive_method\n",
      "    return f(*args, **kwargs)\n",
      "  File \"speechToText\\listen.py\", line 169, in start\n",
      "  File \"C:\\Users\\jguichar\\Anaconda\\lib\\site-packages\\requests\\api.py\", line 67, in get\n",
      "    return request('get', url, params=params, **kwargs)\n",
      "  File \"C:\\Users\\jguichar\\Anaconda\\lib\\site-packages\\requests\\api.py\", line 53, in request\n",
      "    return session.request(method=method, url=url, **kwargs)\n",
      "  File \"C:\\Users\\jguichar\\Anaconda\\lib\\site-packages\\requests\\sessions.py\", line 468, in request\n",
      "    resp = self.send(prep, **send_kwargs)\n",
      "  File \"C:\\Users\\jguichar\\Anaconda\\lib\\site-packages\\requests\\sessions.py\", line 576, in send\n",
      "    r = adapter.send(request, **kwargs)\n",
      "  File \"C:\\Users\\jguichar\\Anaconda\\lib\\site-packages\\requests\\adapters.py\", line 449, in send\n",
      "    raise ReadTimeout(e, request=request)\n",
      "ReadTimeout: HTTPConnectionPool(host='127.0.0.1', port=8080): Read timed out. (read timeout=0.1)\n"
     ]
    },
    {
     "ename": "ValueError",
     "evalue": "No JSON object could be decoded",
     "output_type": "error",
     "traceback": [
      "\u001b[1;31m---------------------------------------------------------------------------\u001b[0m",
      "\u001b[1;31mValueError\u001b[0m                                Traceback (most recent call last)",
      "\u001b[1;32m<ipython-input-15-10afe18d78e4>\u001b[0m in \u001b[0;36m<module>\u001b[1;34m()\u001b[0m\n\u001b[0;32m      1\u001b[0m \u001b[1;31m# Start or stop primitive\u001b[0m\u001b[1;33m\u001b[0m\u001b[1;33m\u001b[0m\u001b[0m\n\u001b[0;32m      2\u001b[0m \u001b[0mr\u001b[0m \u001b[1;33m=\u001b[0m \u001b[0mrequests\u001b[0m\u001b[1;33m.\u001b[0m\u001b[0mget\u001b[0m\u001b[1;33m(\u001b[0m\u001b[1;34m'http://127.0.0.2:8888/primitive/listen/stop.json'\u001b[0m\u001b[1;33m)\u001b[0m\u001b[1;33m\u001b[0m\u001b[0m\n\u001b[1;32m----> 3\u001b[1;33m \u001b[0mr\u001b[0m\u001b[1;33m.\u001b[0m\u001b[0mjson\u001b[0m\u001b[1;33m(\u001b[0m\u001b[1;33m)\u001b[0m\u001b[1;33m\u001b[0m\u001b[0m\n\u001b[0m",
      "\u001b[1;32mC:\\Users\\jguichar\\Anaconda\\lib\\site-packages\\requests\\models.pyc\u001b[0m in \u001b[0;36mjson\u001b[1;34m(self, **kwargs)\u001b[0m\n\u001b[0;32m    806\u001b[0m                     \u001b[1;31m# used.\u001b[0m\u001b[1;33m\u001b[0m\u001b[1;33m\u001b[0m\u001b[0m\n\u001b[0;32m    807\u001b[0m                     \u001b[1;32mpass\u001b[0m\u001b[1;33m\u001b[0m\u001b[0m\n\u001b[1;32m--> 808\u001b[1;33m         \u001b[1;32mreturn\u001b[0m \u001b[0mcomplexjson\u001b[0m\u001b[1;33m.\u001b[0m\u001b[0mloads\u001b[0m\u001b[1;33m(\u001b[0m\u001b[0mself\u001b[0m\u001b[1;33m.\u001b[0m\u001b[0mtext\u001b[0m\u001b[1;33m,\u001b[0m \u001b[1;33m**\u001b[0m\u001b[0mkwargs\u001b[0m\u001b[1;33m)\u001b[0m\u001b[1;33m\u001b[0m\u001b[0m\n\u001b[0m\u001b[0;32m    809\u001b[0m \u001b[1;33m\u001b[0m\u001b[0m\n\u001b[0;32m    810\u001b[0m     \u001b[1;33m@\u001b[0m\u001b[0mproperty\u001b[0m\u001b[1;33m\u001b[0m\u001b[0m\n",
      "\u001b[1;32mC:\\Users\\jguichar\\Anaconda\\lib\\json\\__init__.pyc\u001b[0m in \u001b[0;36mloads\u001b[1;34m(s, encoding, cls, object_hook, parse_float, parse_int, parse_constant, object_pairs_hook, **kw)\u001b[0m\n\u001b[0;32m    337\u001b[0m             \u001b[0mparse_int\u001b[0m \u001b[1;32mis\u001b[0m \u001b[0mNone\u001b[0m \u001b[1;32mand\u001b[0m \u001b[0mparse_float\u001b[0m \u001b[1;32mis\u001b[0m \u001b[0mNone\u001b[0m \u001b[1;32mand\u001b[0m\u001b[1;33m\u001b[0m\u001b[0m\n\u001b[0;32m    338\u001b[0m             parse_constant is None and object_pairs_hook is None and not kw):\n\u001b[1;32m--> 339\u001b[1;33m         \u001b[1;32mreturn\u001b[0m \u001b[0m_default_decoder\u001b[0m\u001b[1;33m.\u001b[0m\u001b[0mdecode\u001b[0m\u001b[1;33m(\u001b[0m\u001b[0ms\u001b[0m\u001b[1;33m)\u001b[0m\u001b[1;33m\u001b[0m\u001b[0m\n\u001b[0m\u001b[0;32m    340\u001b[0m     \u001b[1;32mif\u001b[0m \u001b[0mcls\u001b[0m \u001b[1;32mis\u001b[0m \u001b[0mNone\u001b[0m\u001b[1;33m:\u001b[0m\u001b[1;33m\u001b[0m\u001b[0m\n\u001b[0;32m    341\u001b[0m         \u001b[0mcls\u001b[0m \u001b[1;33m=\u001b[0m \u001b[0mJSONDecoder\u001b[0m\u001b[1;33m\u001b[0m\u001b[0m\n",
      "\u001b[1;32mC:\\Users\\jguichar\\Anaconda\\lib\\json\\decoder.pyc\u001b[0m in \u001b[0;36mdecode\u001b[1;34m(self, s, _w)\u001b[0m\n\u001b[0;32m    362\u001b[0m \u001b[1;33m\u001b[0m\u001b[0m\n\u001b[0;32m    363\u001b[0m         \"\"\"\n\u001b[1;32m--> 364\u001b[1;33m         \u001b[0mobj\u001b[0m\u001b[1;33m,\u001b[0m \u001b[0mend\u001b[0m \u001b[1;33m=\u001b[0m \u001b[0mself\u001b[0m\u001b[1;33m.\u001b[0m\u001b[0mraw_decode\u001b[0m\u001b[1;33m(\u001b[0m\u001b[0ms\u001b[0m\u001b[1;33m,\u001b[0m \u001b[0midx\u001b[0m\u001b[1;33m=\u001b[0m\u001b[0m_w\u001b[0m\u001b[1;33m(\u001b[0m\u001b[0ms\u001b[0m\u001b[1;33m,\u001b[0m \u001b[1;36m0\u001b[0m\u001b[1;33m)\u001b[0m\u001b[1;33m.\u001b[0m\u001b[0mend\u001b[0m\u001b[1;33m(\u001b[0m\u001b[1;33m)\u001b[0m\u001b[1;33m)\u001b[0m\u001b[1;33m\u001b[0m\u001b[0m\n\u001b[0m\u001b[0;32m    365\u001b[0m         \u001b[0mend\u001b[0m \u001b[1;33m=\u001b[0m \u001b[0m_w\u001b[0m\u001b[1;33m(\u001b[0m\u001b[0ms\u001b[0m\u001b[1;33m,\u001b[0m \u001b[0mend\u001b[0m\u001b[1;33m)\u001b[0m\u001b[1;33m.\u001b[0m\u001b[0mend\u001b[0m\u001b[1;33m(\u001b[0m\u001b[1;33m)\u001b[0m\u001b[1;33m\u001b[0m\u001b[0m\n\u001b[0;32m    366\u001b[0m         \u001b[1;32mif\u001b[0m \u001b[0mend\u001b[0m \u001b[1;33m!=\u001b[0m \u001b[0mlen\u001b[0m\u001b[1;33m(\u001b[0m\u001b[0ms\u001b[0m\u001b[1;33m)\u001b[0m\u001b[1;33m:\u001b[0m\u001b[1;33m\u001b[0m\u001b[0m\n",
      "\u001b[1;32mC:\\Users\\jguichar\\Anaconda\\lib\\json\\decoder.pyc\u001b[0m in \u001b[0;36mraw_decode\u001b[1;34m(self, s, idx)\u001b[0m\n\u001b[0;32m    380\u001b[0m             \u001b[0mobj\u001b[0m\u001b[1;33m,\u001b[0m \u001b[0mend\u001b[0m \u001b[1;33m=\u001b[0m \u001b[0mself\u001b[0m\u001b[1;33m.\u001b[0m\u001b[0mscan_once\u001b[0m\u001b[1;33m(\u001b[0m\u001b[0ms\u001b[0m\u001b[1;33m,\u001b[0m \u001b[0midx\u001b[0m\u001b[1;33m)\u001b[0m\u001b[1;33m\u001b[0m\u001b[0m\n\u001b[0;32m    381\u001b[0m         \u001b[1;32mexcept\u001b[0m \u001b[0mStopIteration\u001b[0m\u001b[1;33m:\u001b[0m\u001b[1;33m\u001b[0m\u001b[0m\n\u001b[1;32m--> 382\u001b[1;33m             \u001b[1;32mraise\u001b[0m \u001b[0mValueError\u001b[0m\u001b[1;33m(\u001b[0m\u001b[1;34m\"No JSON object could be decoded\"\u001b[0m\u001b[1;33m)\u001b[0m\u001b[1;33m\u001b[0m\u001b[0m\n\u001b[0m\u001b[0;32m    383\u001b[0m         \u001b[1;32mreturn\u001b[0m \u001b[0mobj\u001b[0m\u001b[1;33m,\u001b[0m \u001b[0mend\u001b[0m\u001b[1;33m\u001b[0m\u001b[0m\n",
      "\u001b[1;31mValueError\u001b[0m: No JSON object could be decoded"
     ]
    }
   ],
   "source": [
    "# Start or stop primitive\n",
    "r = requests.get('http://127.0.0.2:8888/primitive/listen/stop.json')\n",
    "r.json()"
   ]
  },
  {
   "cell_type": "code",
   "execution_count": 14,
   "metadata": {
    "collapsed": false
   },
   "outputs": [
    {
     "name": "stderr",
     "output_type": "stream",
     "text": [
      "Traceback (most recent call last):\n",
      "  File \"C:\\Users\\jguichar\\Anaconda\\lib\\site-packages\\bottle.py\", line 862, in _handle\n",
      "    return route.call(**args)\n",
      "  File \"C:\\Users\\jguichar\\Anaconda\\lib\\site-packages\\bottle.py\", line 1732, in wrapper\n",
      "    rv = callback(*a, **ka)\n",
      "  File \"C:\\Users\\jguichar\\Anaconda\\lib\\site-packages\\pypot\\server\\httpserver.py\", line 47, in _enable_cors\n",
      "    return fn(*args, **kwargs)\n",
      "  File \"C:\\Users\\jguichar\\Anaconda\\lib\\site-packages\\pypot\\server\\httpserver.py\", line 165, in start_primitive\n",
      "    rr.start_primitive(prim)\n",
      "  File \"C:\\Users\\jguichar\\Anaconda\\lib\\site-packages\\pypot\\server\\rest.py\", line 83, in start_primitive\n",
      "    self._call_primitive_method(primitive, 'start')\n",
      "  File \"C:\\Users\\jguichar\\Anaconda\\lib\\site-packages\\pypot\\server\\rest.py\", line 119, in _call_primitive_method\n",
      "    return f(*args, **kwargs)\n",
      "  File \"speechToText\\listen.py\", line 188, in start\n",
      "  File \"C:\\Users\\jguichar\\Anaconda\\lib\\site-packages\\requests\\api.py\", line 67, in get\n",
      "    return request('get', url, params=params, **kwargs)\n",
      "  File \"C:\\Users\\jguichar\\Anaconda\\lib\\site-packages\\requests\\api.py\", line 53, in request\n",
      "    return session.request(method=method, url=url, **kwargs)\n",
      "  File \"C:\\Users\\jguichar\\Anaconda\\lib\\site-packages\\requests\\sessions.py\", line 468, in request\n",
      "    resp = self.send(prep, **send_kwargs)\n",
      "  File \"C:\\Users\\jguichar\\Anaconda\\lib\\site-packages\\requests\\sessions.py\", line 576, in send\n",
      "    r = adapter.send(request, **kwargs)\n",
      "  File \"C:\\Users\\jguichar\\Anaconda\\lib\\site-packages\\requests\\adapters.py\", line 449, in send\n",
      "    raise ReadTimeout(e, request=request)\n",
      "ReadTimeout: HTTPConnectionPool(host='127.0.0.1', port=8080): Read timed out. (read timeout=0.1)\n"
     ]
    },
    {
     "data": {
      "text/plain": [
       "{u'speak.sentence_to_speak': u'coucou'}"
      ]
     },
     "execution_count": 14,
     "metadata": {},
     "output_type": "execute_result"
    }
   ],
   "source": [
    "# Get property value\n",
    "r = requests.get('http://127.0.0.2:8888/primitive/speak/property/sentence_to_speak')\n",
    "r.json()\n"
   ]
  },
  {
   "cell_type": "code",
   "execution_count": 13,
   "metadata": {
    "collapsed": false
   },
   "outputs": [
    {
     "data": {
      "text/plain": [
       "{u'listen.listen_state': u'normal'}"
      ]
     },
     "execution_count": 13,
     "metadata": {},
     "output_type": "execute_result"
    }
   ],
   "source": [
    "# Get property value\n",
    "r = requests.get('http://127.0.0.2:8888/primitive/listen/property/listen_state')\n",
    "r.json()"
   ]
  },
  {
   "cell_type": "code",
   "execution_count": 12,
   "metadata": {
    "collapsed": false
   },
   "outputs": [
    {
     "name": "stdout",
     "output_type": "stream",
     "text": [
      "Set parameter to: normal\n"
     ]
    },
    {
     "data": {
      "text/plain": [
       "<Response [200]>"
      ]
     },
     "execution_count": 12,
     "metadata": {},
     "output_type": "execute_result"
    }
   ],
   "source": [
    " requests.post('http://127.0.0.2:8888/primitive/listen/property/listen_state/value.json', \n",
    "                  data=json.dumps(\"normal\"), \n",
    "                  headers={'content-type': 'application/json'})"
   ]
  },
  {
   "cell_type": "code",
   "execution_count": 12,
   "metadata": {
    "collapsed": false,
    "scrolled": true
   },
   "outputs": [
    {
     "name": "stdout",
     "output_type": "stream",
     "text": [
      "Say something!\n",
      "Google Speech Recognition could not understand audio\n",
      "Je n'ai pas compris. Veuillez répetez\n",
      "Je suis dans: presentation\n"
     ]
    },
    {
     "name": "stderr",
     "output_type": "stream",
     "text": [
      "Traceback (most recent call last):\n",
      "  File \"C:\\Users\\jguichar\\Anaconda\\lib\\site-packages\\bottle.py\", line 862, in _handle\n",
      "    return route.call(**args)\n",
      "  File \"C:\\Users\\jguichar\\Anaconda\\lib\\site-packages\\bottle.py\", line 1732, in wrapper\n",
      "    rv = callback(*a, **ka)\n",
      "  File \"C:\\Users\\jguichar\\Anaconda\\lib\\site-packages\\pypot\\server\\httpserver.py\", line 47, in _enable_cors\n",
      "    return fn(*args, **kwargs)\n",
      "  File \"C:\\Users\\jguichar\\Anaconda\\lib\\site-packages\\pypot\\server\\httpserver.py\", line 165, in start_primitive\n",
      "    rr.start_primitive(prim)\n",
      "  File \"C:\\Users\\jguichar\\Anaconda\\lib\\site-packages\\pypot\\server\\rest.py\", line 83, in start_primitive\n",
      "    self._call_primitive_method(primitive, 'start')\n",
      "  File \"C:\\Users\\jguichar\\Anaconda\\lib\\site-packages\\pypot\\server\\rest.py\", line 119, in _call_primitive_method\n",
      "    return f(*args, **kwargs)\n",
      "  File \"speechToText\\listen.py\", line 118, in start\n",
      "    requests.get('http://127.0.0.1:8080/robot/listen?state=on', timeout = 0.1)\n",
      "  File \"C:\\Users\\jguichar\\Anaconda\\lib\\site-packages\\requests\\api.py\", line 67, in get\n",
      "    return request('get', url, params=params, **kwargs)\n",
      "  File \"C:\\Users\\jguichar\\Anaconda\\lib\\site-packages\\requests\\api.py\", line 53, in request\n",
      "    return session.request(method=method, url=url, **kwargs)\n",
      "  File \"C:\\Users\\jguichar\\Anaconda\\lib\\site-packages\\requests\\sessions.py\", line 468, in request\n",
      "    resp = self.send(prep, **send_kwargs)\n",
      "  File \"C:\\Users\\jguichar\\Anaconda\\lib\\site-packages\\requests\\sessions.py\", line 576, in send\n",
      "    r = adapter.send(request, **kwargs)\n",
      "  File \"C:\\Users\\jguichar\\Anaconda\\lib\\site-packages\\requests\\adapters.py\", line 449, in send\n",
      "    raise ReadTimeout(e, request=request)\n",
      "ReadTimeout: HTTPConnectionPool(host='127.0.0.1', port=8080): Read timed out. (read timeout=0.1)\n"
     ]
    },
    {
     "ename": "ValueError",
     "evalue": "No JSON object could be decoded",
     "output_type": "error",
     "traceback": [
      "\u001b[1;31m---------------------------------------------------------------------------\u001b[0m",
      "\u001b[1;31mValueError\u001b[0m                                Traceback (most recent call last)",
      "\u001b[1;32m<ipython-input-12-ef2fc1b8e5e8>\u001b[0m in \u001b[0;36m<module>\u001b[1;34m()\u001b[0m\n\u001b[0;32m      1\u001b[0m \u001b[1;31m# Start or stop primitive\u001b[0m\u001b[1;33m\u001b[0m\u001b[1;33m\u001b[0m\u001b[0m\n\u001b[0;32m      2\u001b[0m \u001b[0mr\u001b[0m \u001b[1;33m=\u001b[0m \u001b[0mrequests\u001b[0m\u001b[1;33m.\u001b[0m\u001b[0mget\u001b[0m\u001b[1;33m(\u001b[0m\u001b[1;34m'http://127.0.0.2:8888/primitive/listen/start.json'\u001b[0m\u001b[1;33m)\u001b[0m\u001b[1;33m\u001b[0m\u001b[0m\n\u001b[1;32m----> 3\u001b[1;33m \u001b[0mr\u001b[0m\u001b[1;33m.\u001b[0m\u001b[0mjson\u001b[0m\u001b[1;33m(\u001b[0m\u001b[1;33m)\u001b[0m\u001b[1;33m\u001b[0m\u001b[0m\n\u001b[0m",
      "\u001b[1;32mC:\\Users\\jguichar\\Anaconda\\lib\\site-packages\\requests\\models.pyc\u001b[0m in \u001b[0;36mjson\u001b[1;34m(self, **kwargs)\u001b[0m\n\u001b[0;32m    806\u001b[0m                     \u001b[1;31m# used.\u001b[0m\u001b[1;33m\u001b[0m\u001b[1;33m\u001b[0m\u001b[0m\n\u001b[0;32m    807\u001b[0m                     \u001b[1;32mpass\u001b[0m\u001b[1;33m\u001b[0m\u001b[0m\n\u001b[1;32m--> 808\u001b[1;33m         \u001b[1;32mreturn\u001b[0m \u001b[0mcomplexjson\u001b[0m\u001b[1;33m.\u001b[0m\u001b[0mloads\u001b[0m\u001b[1;33m(\u001b[0m\u001b[0mself\u001b[0m\u001b[1;33m.\u001b[0m\u001b[0mtext\u001b[0m\u001b[1;33m,\u001b[0m \u001b[1;33m**\u001b[0m\u001b[0mkwargs\u001b[0m\u001b[1;33m)\u001b[0m\u001b[1;33m\u001b[0m\u001b[0m\n\u001b[0m\u001b[0;32m    809\u001b[0m \u001b[1;33m\u001b[0m\u001b[0m\n\u001b[0;32m    810\u001b[0m     \u001b[1;33m@\u001b[0m\u001b[0mproperty\u001b[0m\u001b[1;33m\u001b[0m\u001b[0m\n",
      "\u001b[1;32mC:\\Users\\jguichar\\Anaconda\\lib\\json\\__init__.pyc\u001b[0m in \u001b[0;36mloads\u001b[1;34m(s, encoding, cls, object_hook, parse_float, parse_int, parse_constant, object_pairs_hook, **kw)\u001b[0m\n\u001b[0;32m    337\u001b[0m             \u001b[0mparse_int\u001b[0m \u001b[1;32mis\u001b[0m \u001b[0mNone\u001b[0m \u001b[1;32mand\u001b[0m \u001b[0mparse_float\u001b[0m \u001b[1;32mis\u001b[0m \u001b[0mNone\u001b[0m \u001b[1;32mand\u001b[0m\u001b[1;33m\u001b[0m\u001b[0m\n\u001b[0;32m    338\u001b[0m             parse_constant is None and object_pairs_hook is None and not kw):\n\u001b[1;32m--> 339\u001b[1;33m         \u001b[1;32mreturn\u001b[0m \u001b[0m_default_decoder\u001b[0m\u001b[1;33m.\u001b[0m\u001b[0mdecode\u001b[0m\u001b[1;33m(\u001b[0m\u001b[0ms\u001b[0m\u001b[1;33m)\u001b[0m\u001b[1;33m\u001b[0m\u001b[0m\n\u001b[0m\u001b[0;32m    340\u001b[0m     \u001b[1;32mif\u001b[0m \u001b[0mcls\u001b[0m \u001b[1;32mis\u001b[0m \u001b[0mNone\u001b[0m\u001b[1;33m:\u001b[0m\u001b[1;33m\u001b[0m\u001b[0m\n\u001b[0;32m    341\u001b[0m         \u001b[0mcls\u001b[0m \u001b[1;33m=\u001b[0m \u001b[0mJSONDecoder\u001b[0m\u001b[1;33m\u001b[0m\u001b[0m\n",
      "\u001b[1;32mC:\\Users\\jguichar\\Anaconda\\lib\\json\\decoder.pyc\u001b[0m in \u001b[0;36mdecode\u001b[1;34m(self, s, _w)\u001b[0m\n\u001b[0;32m    362\u001b[0m \u001b[1;33m\u001b[0m\u001b[0m\n\u001b[0;32m    363\u001b[0m         \"\"\"\n\u001b[1;32m--> 364\u001b[1;33m         \u001b[0mobj\u001b[0m\u001b[1;33m,\u001b[0m \u001b[0mend\u001b[0m \u001b[1;33m=\u001b[0m \u001b[0mself\u001b[0m\u001b[1;33m.\u001b[0m\u001b[0mraw_decode\u001b[0m\u001b[1;33m(\u001b[0m\u001b[0ms\u001b[0m\u001b[1;33m,\u001b[0m \u001b[0midx\u001b[0m\u001b[1;33m=\u001b[0m\u001b[0m_w\u001b[0m\u001b[1;33m(\u001b[0m\u001b[0ms\u001b[0m\u001b[1;33m,\u001b[0m \u001b[1;36m0\u001b[0m\u001b[1;33m)\u001b[0m\u001b[1;33m.\u001b[0m\u001b[0mend\u001b[0m\u001b[1;33m(\u001b[0m\u001b[1;33m)\u001b[0m\u001b[1;33m)\u001b[0m\u001b[1;33m\u001b[0m\u001b[0m\n\u001b[0m\u001b[0;32m    365\u001b[0m         \u001b[0mend\u001b[0m \u001b[1;33m=\u001b[0m \u001b[0m_w\u001b[0m\u001b[1;33m(\u001b[0m\u001b[0ms\u001b[0m\u001b[1;33m,\u001b[0m \u001b[0mend\u001b[0m\u001b[1;33m)\u001b[0m\u001b[1;33m.\u001b[0m\u001b[0mend\u001b[0m\u001b[1;33m(\u001b[0m\u001b[1;33m)\u001b[0m\u001b[1;33m\u001b[0m\u001b[0m\n\u001b[0;32m    366\u001b[0m         \u001b[1;32mif\u001b[0m \u001b[0mend\u001b[0m \u001b[1;33m!=\u001b[0m \u001b[0mlen\u001b[0m\u001b[1;33m(\u001b[0m\u001b[0ms\u001b[0m\u001b[1;33m)\u001b[0m\u001b[1;33m:\u001b[0m\u001b[1;33m\u001b[0m\u001b[0m\n",
      "\u001b[1;32mC:\\Users\\jguichar\\Anaconda\\lib\\json\\decoder.pyc\u001b[0m in \u001b[0;36mraw_decode\u001b[1;34m(self, s, idx)\u001b[0m\n\u001b[0;32m    380\u001b[0m             \u001b[0mobj\u001b[0m\u001b[1;33m,\u001b[0m \u001b[0mend\u001b[0m \u001b[1;33m=\u001b[0m \u001b[0mself\u001b[0m\u001b[1;33m.\u001b[0m\u001b[0mscan_once\u001b[0m\u001b[1;33m(\u001b[0m\u001b[0ms\u001b[0m\u001b[1;33m,\u001b[0m \u001b[0midx\u001b[0m\u001b[1;33m)\u001b[0m\u001b[1;33m\u001b[0m\u001b[0m\n\u001b[0;32m    381\u001b[0m         \u001b[1;32mexcept\u001b[0m \u001b[0mStopIteration\u001b[0m\u001b[1;33m:\u001b[0m\u001b[1;33m\u001b[0m\u001b[0m\n\u001b[1;32m--> 382\u001b[1;33m             \u001b[1;32mraise\u001b[0m \u001b[0mValueError\u001b[0m\u001b[1;33m(\u001b[0m\u001b[1;34m\"No JSON object could be decoded\"\u001b[0m\u001b[1;33m)\u001b[0m\u001b[1;33m\u001b[0m\u001b[0m\n\u001b[0m\u001b[0;32m    383\u001b[0m         \u001b[1;32mreturn\u001b[0m \u001b[0mobj\u001b[0m\u001b[1;33m,\u001b[0m \u001b[0mend\u001b[0m\u001b[1;33m\u001b[0m\u001b[0m\n",
      "\u001b[1;31mValueError\u001b[0m: No JSON object could be decoded"
     ]
    }
   ],
   "source": [
    "# Start or stop primitive\n",
    "r = requests.get('http://127.0.0.2:8888/primitive/listen/start.json')\n",
    "r.json()"
   ]
  },
  {
   "cell_type": "code",
   "execution_count": 33,
   "metadata": {
    "collapsed": false
   },
   "outputs": [],
   "source": [
    "# Set head_z position\n",
    "\n",
    "pos = 50\n",
    "\n",
    "for _ in range(3):\n",
    "    requests.post('http://192.168.1.106:8888/motor/head_z/register/goal_position/value.json', \n",
    "                  data=json.dumps(pos), \n",
    "                  headers={'content-type': 'application/json'})\n",
    "    \n",
    "    pos *= -1\n",
    "    time.sleep(1.)"
   ]
  },
  {
   "cell_type": "code",
   "execution_count": 20,
   "metadata": {
    "collapsed": false
   },
   "outputs": [
    {
     "data": {
      "text/plain": [
       "<Response [200]>"
      ]
     },
     "execution_count": 20,
     "metadata": {},
     "output_type": "execute_result"
    }
   ],
   "source": [
    "requests.get('http://52.50.54.27:8080/setup/ip?')"
   ]
  },
  {
   "cell_type": "code",
   "execution_count": 10,
   "metadata": {
    "collapsed": false
   },
   "outputs": [],
   "source": [
    "from speechToText.listen import Listen\n"
   ]
  },
  {
   "cell_type": "code",
   "execution_count": 12,
   "metadata": {
    "collapsed": true
   },
   "outputs": [],
   "source": [
    "listen = Listen(poppy)\n",
    "poppy.listen.start()"
   ]
  }
 ],
 "metadata": {
  "kernelspec": {
   "display_name": "Python 2",
   "language": "python",
   "name": "python2"
  },
  "language_info": {
   "codemirror_mode": {
    "name": "ipython",
    "version": 2
   },
   "file_extension": ".py",
   "mimetype": "text/x-python",
   "name": "python",
   "nbconvert_exporter": "python",
   "pygments_lexer": "ipython2",
   "version": "2.7.11"
  }
 },
 "nbformat": 4,
 "nbformat_minor": 0
}
